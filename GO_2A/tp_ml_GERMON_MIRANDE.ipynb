{
 "cells": [
  {
   "cell_type": "markdown",
   "metadata": {
    "colab_type": "text",
    "id": "ClVitoOygOyQ"
   },
   "source": [
    "<font color=\"lightblue\">\n",
    "\n",
    "**GERMON Paul et MIRANDE Julien**\n",
    "\n",
    "</font>"
   ]
  },
  {
   "cell_type": "markdown",
   "metadata": {
    "colab_type": "text",
    "id": "IdAm6-qM3Mzt"
   },
   "source": [
    "# Apprenez une heuristique pour le Go\n",
    "\n",
    "Dans ce TP noté, vous devrez déployer des methodes d'apprentissage automatique permettant d'évaluer la qualité de plateaux de GO.\n",
    "\n",
    "Pour cela, vous disposerez de 41563 exemples de plateau de Go, tous générés par gnugo après quelques coups contre lui même avec un niveau de difficulté de 0. Par chaque plateau, nous avons lancé 100 matchs de gnugo contre lui même, toujours avec un niveau 0, et compté le nombre de victoires de noir et de blanc depuis ce plateau.\n",
    "\n",
    "A noter, chaque \"rollout\" (un rollout et un déroulement possible du match depuis le plateau de référence) correspond à des mouvements choisis aléatoirement parmis les 10 meilleurs mouvements possibles, en biasant le choix aléatoire par la qualité prédite du mouvement par gnugo (les meilleurs mouvements ont une plus forte probabilité d'être tirés).\n",
    "\n",
    "Les données dont vous disposez sont brutes. Ce sera à vous de proposer un format adéquat pour utiliser ces données en entrée de votre réseau neuronal. \n",
    "\n",
    "## Comment sera évalué votre modèle ?\n",
    "\n",
    "Nous vous fournirons 6h avant la date de rendu un nouveau fichier contenant 1000 nouveaux exemples, qui ne contiendront pas les champs `black_wins`, `white_wins`, `black_points` et `white_points`. Vous devrez laisser, dans votre dépot de projet un fichier texte nommé `my_predictions.txt` ayant une prédiction par ligne (un simple flottant) qui donnera, dans le même ordre de la liste des exemples les scores que vous prédisez pour chacune des entrées du fichier que nous vous aurons donné. Il faudra laisser, dans votre feuille notebook (voir tout en dessous) la cellule Python qui aura créé ce fichier, pour que l'on puisse éventuellement refaire vos prédictions.\n",
    "\n",
    "Bien entendu, vous nous rendrez également votre feuille jupyter **sous deux formats**, à la fois le fichier `.ipynb` et le fichier `.html` nous permettant de lire ce que vous avez fait, sans forcément relancer la feuille. Nous prendrons en compte les résultats obtenus sur les prédictions mais aussi le contenu de vos notebooks jupyter.\n",
    "\n",
    "### Comment sera noté ce TP ?\n",
    "\n",
    "Il s'agit d'un TP noté, donc il ne faudra pas y passer trop de temps. Nous attendons des prédictions correctes mais surtout des choix justifiés dans la feuille. Votre feuille notebook sera le plus important pour la notation (n'hésitez pas à mettre des cellules de texte pour expliquer pourquoi vous avez été amenés à faire certains choix). Ainsi, il serait bien d'avoir, par exemple, les données (graphiques ou autre) qui permettent de comprendre comment vous avez évité l'overfitting.\n",
    "\n",
    "Le fichier de vos prédiction sera évalué en se basant sur la qualité de vos prédictions. Nous mesurerons par exemple le nombre d'exemples dont votre prédiction donnera la bonne valeur à 5%, 10%, 20%, 35%, 50% pour estimer sa qualité.\n",
    "\n",
    "\n",
    "## Mise en route !\n",
    "\n",
    "Voyons  comment lire les données\n"
   ]
  },
  {
   "cell_type": "code",
   "execution_count": 1,
   "metadata": {},
   "outputs": [],
   "source": [
    "import numpy as np\n",
    "from sklearn.model_selection import train_test_split\n",
    "import gzip, os.path\n",
    "import json\n",
    "%matplotlib inline\n",
    "import matplotlib.pyplot as plt"
   ]
  },
  {
   "cell_type": "code",
   "execution_count": 2,
   "metadata": {},
   "outputs": [],
   "source": [
    "import tensorflow.keras\n",
    "from tensorflow.keras.models import Sequential\n",
    "from tensorflow.keras.layers import Dense, Dropout, Activation, Flatten\n",
    "from tensorflow.keras.layers import Conv2D, BatchNormalization\n",
    "import tensorflow.keras.optimizers as optimizers"
   ]
  },
  {
   "cell_type": "code",
   "execution_count": 3,
   "metadata": {
    "colab": {
     "base_uri": "https://localhost:8080/",
     "height": 51
    },
    "colab_type": "code",
    "id": "lcA12UDM3Mzv",
    "outputId": "5af795dc-8e81-442b-c1f1-0f6f4ccb03c4"
   },
   "outputs": [
    {
     "name": "stdout",
     "output_type": "stream",
     "text": [
      "We have 41563 examples\n"
     ]
    }
   ],
   "source": [
    "# Import du fichier d'exemples\n",
    "\n",
    "def get_raw_data_go(data_to_predict, output):\n",
    "    ''' Returns the set of samples from the local file or download it if it does not exists'''\n",
    "\n",
    "\n",
    "    raw_samples_file = output\n",
    "\n",
    "    if not os.path.isfile(raw_samples_file):\n",
    "        print(\"File\", raw_samples_file, \"not found, I am downloading it...\", end=\"\")\n",
    "        import urllib.request \n",
    "        urllib.request.urlretrieve (data_to_predict, output)\n",
    "        print(\" Done\")\n",
    "\n",
    "    with gzip.open(output) as fz:\n",
    "        data = json.loads(fz.read().decode(\"utf-8\"))\n",
    "    return data\n",
    "\n",
    "# Fonction qui permet de télécharger le fichier file depuis l'url\n",
    "def download(url,file):\n",
    "  import os.path\n",
    "  if not os.path.isfile(file):\n",
    "        print(\"File\", file, \"not found, I am downloading it...\", end=\"\")\n",
    "        import urllib.request \n",
    "        urllib.request.urlretrieve (url, file)\n",
    "        print(\" Done\")\n",
    "\n",
    "\n",
    "data = get_raw_data_go(\"https://www.labri.fr/perso/lsimon/ia-inge2/samples-9x9.json.gz\",\"samples-9x9.json.gz\")\n",
    "print(\"We have\", len(data),\"examples\")"
   ]
  },
  {
   "cell_type": "markdown",
   "metadata": {
    "colab_type": "text",
    "id": "dqUcsEMT3Mz9"
   },
   "source": [
    "## Compréhension des données de chaque entrée\n",
    "\n",
    "Voici une description de chaque exemple"
   ]
  },
  {
   "cell_type": "code",
   "execution_count": 4,
   "metadata": {
    "colab": {
     "base_uri": "https://localhost:8080/",
     "height": 224
    },
    "colab_type": "code",
    "id": "bTWtB1GE3Mz_",
    "outputId": "b82c2e45-79d9-4e55-f678-3c8bdee69660"
   },
   "outputs": [
    {
     "name": "stdout",
     "output_type": "stream",
     "text": [
      "Sample 10\n",
      "\n",
      "Données brutes en format JSON: {'depth': 8, 'list_of_moves': ['C6', 'E7', 'C3', 'C8', 'E5', 'G3', 'B7', 'H7'], 'black_stones': ['B7', 'C6', 'E5', 'C3'], 'white_stones': ['C8', 'E7', 'H7', 'G3'], 'rollouts': 100, 'black_wins': 60, 'black_points': 876.0, 'white_wins': 40, 'white_points': 378.0}\n",
      "\n",
      "The sample was obtained after 8 moves\n",
      "The successive moves were ['C6', 'E7', 'C3', 'C8', 'E5', 'G3', 'B7', 'H7']\n",
      "After these moves and all the captures, there was black stones at the following position ['B7', 'C6', 'E5', 'C3']\n",
      "After these moves and all the captures, there was white stones at the following position ['C8', 'E7', 'H7', 'G3']\n",
      "Number of rollouts (gnugo games played against itself from this position): 100\n",
      "Over these 100 games, black won 60 times with 876.0 total points over all these winning games\n",
      "Over these 100 games, white won 40 times with 378.0 total points over all these winning games\n"
     ]
    }
   ],
   "source": [
    "def summary_of_example(data, sample_nb):\n",
    "    ''' Gives you some insights about a sample number'''\n",
    "    sample = data[sample_nb]\n",
    "    print(\"Sample\", sample_nb)\n",
    "    print()\n",
    "    print(\"Données brutes en format JSON:\", sample)\n",
    "    print()\n",
    "    print(\"The sample was obtained after\", sample[\"depth\"], \"moves\")\n",
    "    print(\"The successive moves were\", sample[\"list_of_moves\"])\n",
    "    print(\"After these moves and all the captures, there was black stones at the following position\", sample[\"black_stones\"])\n",
    "    print(\"After these moves and all the captures, there was white stones at the following position\", sample[\"white_stones\"])\n",
    "    print(\"Number of rollouts (gnugo games played against itself from this position):\", sample[\"rollouts\"])\n",
    "    print(\"Over these\", sample[\"rollouts\"], \"games, black won\", sample[\"black_wins\"], \"times with\", sample[\"black_points\"], \"total points over all these winning games\")\n",
    "    print(\"Over these\", sample[\"rollouts\"], \"games, white won\", sample[\"white_wins\"], \"times with\", sample[\"white_points\"], \"total points over all these winning games\")\n",
    "\n",
    "summary_of_example(data,10)"
   ]
  },
  {
   "cell_type": "markdown",
   "metadata": {
    "colab_type": "text",
    "id": "8HIMkUDJ3M0I"
   },
   "source": [
    "## Données en entrée et en sortie de votre modèle final\n",
    "\n",
    "Même si en interne, votre modèle va manipuler des tenseurs en numpy, vous devrez construire une boite noire qui prendra en entrée les coordonnées des pierres noires et blanches et donnera le pourcentage de chance pour noir de gagner depuis cette position. \n",
    "\n",
    "Ainsi, pour l'exemple `i` :\n",
    "- Vous prendez en entree `data[i][\"black_stones\"]` et `data[i][\"white_stones\"]`\n",
    "- Vous devrez prédire simplement `data[i][\"black_wins\"]/data[i][\"rollouts\"]`\n",
    "\n",
    "Encore une fois, **attention** : en interne, il faudra absolument construire vos données formattées en matrices numpy pour faire votre entrainement. On vous demande juste ici d'écrire comment vous faites ces transformations, pour comprendre ce que vous avez décidé de mettre en entrée du réseau.\n",
    "\n",
    "Voici le modèle de la fonction qui pourra être appelée, au final :\n"
   ]
  },
  {
   "cell_type": "code",
   "execution_count": 5,
   "metadata": {
    "colab": {},
    "colab_type": "code",
    "id": "CMIaMUlu3M0K"
   },
   "outputs": [],
   "source": [
    "# Ainsi, pour le rendu, en admettant que newdata soit le fichier json contenant les nouvelles données que \n",
    "# l'on vous donnera 24h avant la fin, vous pourrez construire le fichier resultat ainsi\n",
    "\n",
    "def create_result_file(newdata):\n",
    "    ''' Exemple de méthode permettant de générer le fichier de resultats demandés. '''\n",
    "    resultat  = [position_predict(d[\"black_stones\"], d[\"white_stones\"]) for d in newdata]\n",
    "    with open(\"my_predictions.txt\", \"w\") as f:\n",
    "         for p in resultat:\n",
    "            f.write(str(p)+\"\\n\")"
   ]
  },
  {
   "cell_type": "code",
   "execution_count": 6,
   "metadata": {
    "colab": {
     "base_uri": "https://localhost:8080/",
     "height": 590
    },
    "colab_type": "code",
    "id": "aCQnDuYn3M0W",
    "outputId": "7241d959-0319-4d49-8ee5-b343e48ffd0d"
   },
   "outputs": [
    {
     "name": "stdout",
     "output_type": "stream",
     "text": [
      "The CDF curve shows that black has more chances to win, globally\n"
     ]
    },
    {
     "data": {
      "image/png": "[encoded data removed]",
      "text/plain": [
       "<Figure size 432x288 with 1 Axes>"
      ]
     },
     "metadata": {
      "needs_background": "light"
     },
     "output_type": "display_data"
    },
    {
     "data": {
      "image/png": "[encoded data removed]",
      "text/plain": [
       "<Figure size 432x288 with 1 Axes>"
      ]
     },
     "metadata": {
      "needs_background": "light"
     },
     "output_type": "display_data"
    }
   ],
   "source": [
    "plt.title(\"Relationship between the depth of the board and the chance for black to win\")\n",
    "plt.plot([sample[\"black_wins\"] for sample in data],[sample[\"depth\"] for sample in data], '.')\n",
    "plt.xlabel(\"black wins (percentage)\")\n",
    "plt.ylabel(\"depth of the game\")\n",
    "\n",
    "\n",
    "# Cumulative Distribution function of the chance of black to win\n",
    "cdf_wins = sorted([sample[\"black_wins\"] for sample in data])\n",
    "plt.figure()\n",
    "plt.plot([x/len(cdf_wins) for x in range(len(cdf_wins))], cdf_wins)\n",
    "plt.title(\"Cumulative Distribution function of the chance of black to win\")\n",
    "plt.xlabel(\"\\% of the samples with a chance of black to win below y\")\n",
    "plt.ylabel(\"Chance of black to win\")\n",
    "print(\"The CDF curve shows that black has more chances to win, globally\")"
   ]
  },
  {
   "cell_type": "markdown",
   "metadata": {
    "colab_type": "text",
    "id": "RZ5gfyME3M0g"
   },
   "source": [
    "# First steps: transform all the data into numpy arrays to feed your neural network\n",
    "\n",
    "Advices:\n",
    "- do not use only a 9x9 matrix as input. Use at least two planes to encode the board. One plane for black and one plane for white (typically with a 1 if there is a black stone for the first plane and with a 1 if there is a white stone for the second plane). The dimension of an input should be at least `[9,9,2]`.\n",
    "- consider to enrich your dataset with all symmetries and rotations. You should be able to multiply the number of samples to consider: any rotation of the board should have the same score, right?\n",
    "- what should happen on the score if you switch the colors? To know which player has to play next, you can check, for a sample, the parity of the length of the list `data[i][\"list_of_moves\"]` (an odd length list would mean that white is the next player. An even length list means that black has to play).\n",
    "- work on enlarging and preparing your data only once. Once all you input data is setup as a big Numpy matrix, you may want to save it for speeding up everything. You can use, for instance `numpy.rot90()` and `numpy.flipud()` to generate all the symmetries\n",
    "\n"
   ]
  },
  {
   "cell_type": "code",
   "execution_count": 7,
   "metadata": {},
   "outputs": [],
   "source": [
    "# Convertit les moves en coordonnées\n",
    "def name_to_coord(s):\n",
    "    assert s != \"PASS\"\n",
    "    indexLetters = {'A':0, 'B':1, 'C':2, 'D':3, 'E':4, 'F':5, 'G':6, 'H':7, 'J':8}\n",
    "\n",
    "    col = indexLetters[s[0]]\n",
    "    lin = int(s[1:]) - 1\n",
    "    return col, lin"
   ]
  },
  {
   "cell_type": "code",
   "execution_count": 8,
   "metadata": {},
   "outputs": [],
   "source": [
    "# Preprocess la data et remplit les structures X et Y de données et labels\n",
    "def fill_data_struct(data, board_size):\n",
    "    N_EXAMPLES = len(data)\n",
    "    \n",
    "    # *8 pour le nombre de symétries et rotations possibles\n",
    "    X = np.zeros([N_EXAMPLES * 8, board_size, board_size, 2], dtype = int)\n",
    "    #Y = np.zeros([N_EXAMPLES * 8, 2], dtype = float)\n",
    "    Y = np.zeros(N_EXAMPLES * 8, dtype = float)\n",
    "\n",
    "    # Construction de X : un plateau pour les blancs et un pour les noirs\n",
    "    for i in range(N_EXAMPLES):\n",
    "\n",
    "        # On ajoute les pierres noires dans le plan 0 de X via leurs coordonnées\n",
    "        for black in data[i]['black_stones']:\n",
    "            (col, lin) = name_to_coord(black)\n",
    "            X[i][col][lin][0] = 1\n",
    "            \n",
    "        # Idem pour les pierres blanches dans le plan 1 de X\n",
    "        for white in data[i]['white_stones']:\n",
    "            (col, lin) = name_to_coord(white)\n",
    "            X[i][col][lin][1] = 1\n",
    "            \n",
    "        \n",
    "        # On ajoute les rotations de 90° des plateaux\n",
    "        for k in range(1, 4):\n",
    "            X[i + N_EXAMPLES * k] = np.rot90(X[i], k, axes=(0, 1))\n",
    "\n",
    "        # Puis les symétries horizontales des rotations\n",
    "        for k in range(0, 4):\n",
    "            X[i + N_EXAMPLES * (k + 4)] = np.flipud(X[i + N_EXAMPLES * k])\n",
    "\n",
    "\n",
    "        # On remplit Y : les rotations/symétries d'un plateau ont le même label\n",
    "        b_wins = data[i]['black_wins'] / data[i]['rollouts']\n",
    "        #w_wins = data[i]['white_wins'] / data[i]['rollouts']\n",
    "        \n",
    "        for k in range(8):\n",
    "            Y[i + N_EXAMPLES * k] = b_wins\n",
    "            #Y[i+N_EXAMPLES*r][0] = b_wins\n",
    "            #Y[i+N_EXAMPLES*r][1] = w_wins\n",
    "    \n",
    "    return X, Y"
   ]
  },
  {
   "cell_type": "markdown",
   "metadata": {
    "colab_type": "text",
    "id": "B7kQwtbq8bqr"
   },
   "source": [
    "<font color=\"lightblue\">\n",
    "\n",
    "La matrice X correspond donc aux données d'entrée et est sous la forme (N\\*8,9,9,2) tandis que la matrice Y correspond aux probabilités de victoire en tant que joueur noir et joueur blanc et est sous la forme (N\\*8,) \n",
    "\n",
    "Pour chaque plateau dans le dataset nous avons ajouté ses rotations de 0° (plateau de base), 90°, 180° et 270° ainsi que les symétries horizontales de ces rotations.\n",
    ",\n",
    "Pour chaque plateau du dataset nous ajoutons donc 7 variations de ce plateau. Cela nous permet d'augmenter notre jeu de données sans modifier la probabilité de victoire des noirs ou des blancs.\n",
    "\n",
    "</font>"
   ]
  },
  {
   "cell_type": "code",
   "execution_count": 9,
   "metadata": {
    "colab": {},
    "colab_type": "code",
    "id": "Vq-YEmOy3M0i"
   },
   "outputs": [],
   "source": [
    "board_size = 9\n",
    "\n",
    "X, Y = fill_data_struct(data, board_size)\n",
    "\n",
    "# Séparation des données d'entrée en un training set et un test set\n",
    "X_train, X_test, Y_train, Y_test = train_test_split(X, Y, test_size=0.10, shuffle=True)"
   ]
  },
  {
   "cell_type": "code",
   "execution_count": 11,
   "metadata": {
    "colab": {
     "base_uri": "https://localhost:8080/",
     "height": 119
    },
    "colab_type": "code",
    "id": "qgxbomiX3M0u",
    "outputId": "803aa79c-5850-4959-921c-5d19a5989c53"
   },
   "outputs": [
    {
     "name": "stdout",
     "output_type": "stream",
     "text": [
      "X.shape = (332504, 9, 9, 2)\n",
      "Y.shape = (332504,)\n",
      "X_train.shape = (266003, 9, 9, 2)\n",
      "X_test.shape = (66501, 9, 9, 2)\n",
      "Y_train.shape = (266003,)\n",
      "Y_test.shape = (66501,)\n"
     ]
    }
   ],
   "source": [
    "print(f\"X.shape = {X.shape}\")\n",
    "print(f\"Y.shape = {Y.shape}\")\n",
    "print(f\"X_train.shape = {X_train.shape}\")\n",
    "print(f\"X_test.shape = {X_test.shape}\")\n",
    "print(f\"Y_train.shape = {Y_train.shape}\")\n",
    "print(f\"Y_test.shape = {Y_test.shape}\")"
   ]
  },
  {
   "cell_type": "markdown",
   "metadata": {
    "colab_type": "text",
    "id": "KZqFi0bt3M01"
   },
   "source": [
    "# Second steps: build your neural network and train it\n",
    "\n",
    "Don't forget to check overfitting, ...\n",
    "\n",
    "*advices* :\n",
    "- you need to test Dense and Conv2D layers (the best models may contain convolution layers=\n",
    "- if you use convolution layers, be sure not to downsize your board. Applying a filter should keep the original size of the board (9x9), otherwise you would somehow forget the stones on the borders\n",
    "- you will use like 33% of your input sample for validation. However, the final goal is to score new data that will be given in addition to the actual data. So, you should use the 33% splitting rule to set up your network architecture and, once you fixed it, you should train your final model on the whole set of data, crossing your fingers that it will generalize well.\n",
    "- Warning: if you launch the fit function from keras more than once, it will not reset the weights and the biases of your neural network. It's good news because you can add more and more epochs to your model, but be careful about the training/test sets: each time you call fit() with validation_split set up to something like 0.33, it will choose a **new** partition of the samples. So you are breaking your validation/training partition! We advice you to use the `sklearn.model_selection.train_test_split()` method to split the set of examples just once and then use the parameter `validation_data` in the call for `fit()`.  Thus you will be able to call it multiple time.\n"
   ]
  },
  {
   "cell_type": "code",
   "execution_count": 14,
   "metadata": {
    "colab": {},
    "colab_type": "code",
    "id": "UkzbwkNb3M03"
   },
   "outputs": [],
   "source": [
    "model_GO = Sequential([\n",
    "    Conv2D(filters = 64,\n",
    "           input_shape = (9,9,2),\n",
    "           activation = 'relu',\n",
    "           kernel_size = (5,5),\n",
    "           padding = 'same',\n",
    "           data_format = 'channels_last'),\n",
    "    BatchNormalization(axis = 3),\n",
    "    Conv2D(filters = 64,\n",
    "           activation = 'relu',\n",
    "           kernel_size = (5,5),\n",
    "           padding = 'same',\n",
    "           data_format = 'channels_last'),\n",
    "    BatchNormalization(axis = 3),\n",
    "    Conv2D(filters = 64,\n",
    "           activation = 'relu',\n",
    "           kernel_size = (5,5),\n",
    "           padding = 'same',\n",
    "           data_format = 'channels_last'),\n",
    "    BatchNormalization(axis = 3),\n",
    "    Flatten(data_format = 'channels_last'),\n",
    "    Dropout(rate = 0.5),\n",
    "    Dense(units = 32,\n",
    "          activation='relu'),\n",
    "    Dense(1, activation='softmax'),\n",
    "])\n",
    "\n",
    "model_GO.compile(loss='mae',\n",
    "              optimizer='adam',\n",
    "              metrics=['accuracy'])"
   ]
  },
  {
   "cell_type": "code",
   "execution_count": 15,
   "metadata": {
    "colab": {
     "base_uri": "https://localhost:8080/",
     "height": 493
    },
    "colab_type": "code",
    "id": "w-5OBvEp3M0-",
    "outputId": "a3fc245e-e333-43c5-c8ac-6be1508c039b"
   },
   "outputs": [
    {
     "name": "stdout",
     "output_type": "stream",
     "text": [
      "Model: \"sequential_1\"\n",
      "_________________________________________________________________\n",
      "Layer (type)                 Output Shape              Param #   \n",
      "=================================================================\n",
      "conv2d_3 (Conv2D)            (None, 9, 9, 64)          3264      \n",
      "_________________________________________________________________\n",
      "batch_normalization_3 (Batch (None, 9, 9, 64)          256       \n",
      "_________________________________________________________________\n",
      "conv2d_4 (Conv2D)            (None, 9, 9, 64)          102464    \n",
      "_________________________________________________________________\n",
      "batch_normalization_4 (Batch (None, 9, 9, 64)          256       \n",
      "_________________________________________________________________\n",
      "conv2d_5 (Conv2D)            (None, 9, 9, 64)          102464    \n",
      "_________________________________________________________________\n",
      "batch_normalization_5 (Batch (None, 9, 9, 64)          256       \n",
      "_________________________________________________________________\n",
      "flatten_1 (Flatten)          (None, 5184)              0         \n",
      "_________________________________________________________________\n",
      "dropout_1 (Dropout)          (None, 5184)              0         \n",
      "_________________________________________________________________\n",
      "dense_2 (Dense)              (None, 32)                165920    \n",
      "_________________________________________________________________\n",
      "dense_3 (Dense)              (None, 1)                 33        \n",
      "=================================================================\n",
      "Total params: 374,913\n",
      "Trainable params: 374,529\n",
      "Non-trainable params: 384\n",
      "_________________________________________________________________\n"
     ]
    }
   ],
   "source": [
    "model_GO.summary()"
   ]
  },
  {
   "cell_type": "markdown",
   "metadata": {
    "colab_type": "text",
    "id": "TH21WxkGvmfT"
   },
   "source": [
    "<font color=\"lightblue\">\n",
    "\n",
    "Nous avons donc créé un réseau de neurones composé de 10 couches. Les premières sont des couches ```Conv2D``` qui permettent de créer un noyau de convolution. Nous avons aussi utilisé la fonction d'activation ```ReLU``` car elle est rapide à calculer et permet d'augmenter la convergence.\n",
    "\n",
    "De plus, nous avons également mis en place des couches de ```BatchNormalization``` afin d'éviter *l'overfitting*. Ces couches permettent de normaliser la couche d'entrée et d'éviter les minmimas locaux en étant moins dépendant de l'initialisation.\n",
    "\n",
    "Nous aplatissons ensuite les données avec une couche ```Flatten``` et nous appliquons également une couche ```Dropout``` qui permet d'éviter *l'overfitting* en ignorant certains neurones durant l'apprentissage.\n",
    "\n",
    "Enfin, les dernières couches ```Dense``` servent à relier tous les neurones. Nous utilisons finalement la fonction d'activation ```softmax``` pour générer les probabilités de victoire des noirs."
   ]
  },
  {
   "cell_type": "markdown",
   "metadata": {
    "colab_type": "text",
    "id": "-96jmx_93M1G"
   },
   "source": [
    "# Last step\n",
    "\n",
    "Prepare your model to predict the set of new data to predict, you will have only 6 hours to push your predictions.\n",
    "\n",
    "(may be you would like to express, when guessing the percentage of wins for blacks, that it should reflect the fact that this score should be the same for all the symmetries you considered)..."
   ]
  },
  {
   "cell_type": "code",
   "execution_count": 16,
   "metadata": {
    "colab": {
     "base_uri": "https://localhost:8080/",
     "height": 1000
    },
    "colab_type": "code",
    "id": "D8GQh2Cx3M1H",
    "outputId": "7f8711c4-6b3e-4580-818b-adae9452f3ff"
   },
   "outputs": [
    {
     "name": "stdout",
     "output_type": "stream",
     "text": [
      "Train on 212802 samples, validate on 53201 samples\n",
      "Epoch 1/30\n",
      " 96640/212802 [============>.................] - ETA: 1:50 - loss: 0.3506 - accuracy: 0.2402"
     ]
    },
    {
     "ename": "KeyboardInterrupt",
     "evalue": "",
     "output_type": "error",
     "traceback": [
      "\u001b[1;31m---------------------------------------------------------------------------\u001b[0m",
      "\u001b[1;31mKeyboardInterrupt\u001b[0m                         Traceback (most recent call last)",
      "\u001b[1;32m<ipython-input-16-47df34fcc2ee>\u001b[0m in \u001b[0;36m<module>\u001b[1;34m\u001b[0m\n\u001b[0;32m      6\u001b[0m           \u001b[0mepochs\u001b[0m\u001b[1;33m=\u001b[0m\u001b[0mepochs\u001b[0m\u001b[1;33m,\u001b[0m\u001b[1;33m\u001b[0m\u001b[1;33m\u001b[0m\u001b[0m\n\u001b[0;32m      7\u001b[0m           \u001b[0mverbose\u001b[0m\u001b[1;33m=\u001b[0m\u001b[1;36m1\u001b[0m\u001b[1;33m,\u001b[0m\u001b[1;33m\u001b[0m\u001b[1;33m\u001b[0m\u001b[0m\n\u001b[1;32m----> 8\u001b[1;33m           validation_split=0.2)\n\u001b[0m",
      "\u001b[1;32m~\\Anaconda3\\envs\\alpha-go\\lib\\site-packages\\tensorflow_core\\python\\keras\\engine\\training.py\u001b[0m in \u001b[0;36mfit\u001b[1;34m(self, x, y, batch_size, epochs, verbose, callbacks, validation_split, validation_data, shuffle, class_weight, sample_weight, initial_epoch, steps_per_epoch, validation_steps, validation_freq, max_queue_size, workers, use_multiprocessing, **kwargs)\u001b[0m\n\u001b[0;32m    817\u001b[0m         \u001b[0mmax_queue_size\u001b[0m\u001b[1;33m=\u001b[0m\u001b[0mmax_queue_size\u001b[0m\u001b[1;33m,\u001b[0m\u001b[1;33m\u001b[0m\u001b[1;33m\u001b[0m\u001b[0m\n\u001b[0;32m    818\u001b[0m         \u001b[0mworkers\u001b[0m\u001b[1;33m=\u001b[0m\u001b[0mworkers\u001b[0m\u001b[1;33m,\u001b[0m\u001b[1;33m\u001b[0m\u001b[1;33m\u001b[0m\u001b[0m\n\u001b[1;32m--> 819\u001b[1;33m         use_multiprocessing=use_multiprocessing)\n\u001b[0m\u001b[0;32m    820\u001b[0m \u001b[1;33m\u001b[0m\u001b[0m\n\u001b[0;32m    821\u001b[0m   def evaluate(self,\n",
      "\u001b[1;32m~\\Anaconda3\\envs\\alpha-go\\lib\\site-packages\\tensorflow_core\\python\\keras\\engine\\training_v2.py\u001b[0m in \u001b[0;36mfit\u001b[1;34m(self, model, x, y, batch_size, epochs, verbose, callbacks, validation_split, validation_data, shuffle, class_weight, sample_weight, initial_epoch, steps_per_epoch, validation_steps, validation_freq, max_queue_size, workers, use_multiprocessing, **kwargs)\u001b[0m\n\u001b[0;32m    340\u001b[0m                 \u001b[0mmode\u001b[0m\u001b[1;33m=\u001b[0m\u001b[0mModeKeys\u001b[0m\u001b[1;33m.\u001b[0m\u001b[0mTRAIN\u001b[0m\u001b[1;33m,\u001b[0m\u001b[1;33m\u001b[0m\u001b[1;33m\u001b[0m\u001b[0m\n\u001b[0;32m    341\u001b[0m                 \u001b[0mtraining_context\u001b[0m\u001b[1;33m=\u001b[0m\u001b[0mtraining_context\u001b[0m\u001b[1;33m,\u001b[0m\u001b[1;33m\u001b[0m\u001b[1;33m\u001b[0m\u001b[0m\n\u001b[1;32m--> 342\u001b[1;33m                 total_epochs=epochs)\n\u001b[0m\u001b[0;32m    343\u001b[0m             \u001b[0mcbks\u001b[0m\u001b[1;33m.\u001b[0m\u001b[0mmake_logs\u001b[0m\u001b[1;33m(\u001b[0m\u001b[0mmodel\u001b[0m\u001b[1;33m,\u001b[0m \u001b[0mepoch_logs\u001b[0m\u001b[1;33m,\u001b[0m \u001b[0mtraining_result\u001b[0m\u001b[1;33m,\u001b[0m \u001b[0mModeKeys\u001b[0m\u001b[1;33m.\u001b[0m\u001b[0mTRAIN\u001b[0m\u001b[1;33m)\u001b[0m\u001b[1;33m\u001b[0m\u001b[1;33m\u001b[0m\u001b[0m\n\u001b[0;32m    344\u001b[0m \u001b[1;33m\u001b[0m\u001b[0m\n",
      "\u001b[1;32m~\\Anaconda3\\envs\\alpha-go\\lib\\site-packages\\tensorflow_core\\python\\keras\\engine\\training_v2.py\u001b[0m in \u001b[0;36mrun_one_epoch\u001b[1;34m(model, iterator, execution_function, dataset_size, batch_size, strategy, steps_per_epoch, num_samples, mode, training_context, total_epochs)\u001b[0m\n\u001b[0;32m    126\u001b[0m         step=step, mode=mode, size=current_batch_size) as batch_logs:\n\u001b[0;32m    127\u001b[0m       \u001b[1;32mtry\u001b[0m\u001b[1;33m:\u001b[0m\u001b[1;33m\u001b[0m\u001b[1;33m\u001b[0m\u001b[0m\n\u001b[1;32m--> 128\u001b[1;33m         \u001b[0mbatch_outs\u001b[0m \u001b[1;33m=\u001b[0m \u001b[0mexecution_function\u001b[0m\u001b[1;33m(\u001b[0m\u001b[0miterator\u001b[0m\u001b[1;33m)\u001b[0m\u001b[1;33m\u001b[0m\u001b[1;33m\u001b[0m\u001b[0m\n\u001b[0m\u001b[0;32m    129\u001b[0m       \u001b[1;32mexcept\u001b[0m \u001b[1;33m(\u001b[0m\u001b[0mStopIteration\u001b[0m\u001b[1;33m,\u001b[0m \u001b[0merrors\u001b[0m\u001b[1;33m.\u001b[0m\u001b[0mOutOfRangeError\u001b[0m\u001b[1;33m)\u001b[0m\u001b[1;33m:\u001b[0m\u001b[1;33m\u001b[0m\u001b[1;33m\u001b[0m\u001b[0m\n\u001b[0;32m    130\u001b[0m         \u001b[1;31m# TODO(kaftan): File bug about tf function and errors.OutOfRangeError?\u001b[0m\u001b[1;33m\u001b[0m\u001b[1;33m\u001b[0m\u001b[1;33m\u001b[0m\u001b[0m\n",
      "\u001b[1;32m~\\Anaconda3\\envs\\alpha-go\\lib\\site-packages\\tensorflow_core\\python\\keras\\engine\\training_v2_utils.py\u001b[0m in \u001b[0;36mexecution_function\u001b[1;34m(input_fn)\u001b[0m\n\u001b[0;32m     96\u001b[0m     \u001b[1;31m# `numpy` translates Tensors to values in Eager mode.\u001b[0m\u001b[1;33m\u001b[0m\u001b[1;33m\u001b[0m\u001b[1;33m\u001b[0m\u001b[0m\n\u001b[0;32m     97\u001b[0m     return nest.map_structure(_non_none_constant_value,\n\u001b[1;32m---> 98\u001b[1;33m                               distributed_function(input_fn))\n\u001b[0m\u001b[0;32m     99\u001b[0m \u001b[1;33m\u001b[0m\u001b[0m\n\u001b[0;32m    100\u001b[0m   \u001b[1;32mreturn\u001b[0m \u001b[0mexecution_function\u001b[0m\u001b[1;33m\u001b[0m\u001b[1;33m\u001b[0m\u001b[0m\n",
      "\u001b[1;32m~\\Anaconda3\\envs\\alpha-go\\lib\\site-packages\\tensorflow_core\\python\\eager\\def_function.py\u001b[0m in \u001b[0;36m__call__\u001b[1;34m(self, *args, **kwds)\u001b[0m\n\u001b[0;32m    566\u001b[0m         \u001b[0mxla_context\u001b[0m\u001b[1;33m.\u001b[0m\u001b[0mExit\u001b[0m\u001b[1;33m(\u001b[0m\u001b[1;33m)\u001b[0m\u001b[1;33m\u001b[0m\u001b[1;33m\u001b[0m\u001b[0m\n\u001b[0;32m    567\u001b[0m     \u001b[1;32melse\u001b[0m\u001b[1;33m:\u001b[0m\u001b[1;33m\u001b[0m\u001b[1;33m\u001b[0m\u001b[0m\n\u001b[1;32m--> 568\u001b[1;33m       \u001b[0mresult\u001b[0m \u001b[1;33m=\u001b[0m \u001b[0mself\u001b[0m\u001b[1;33m.\u001b[0m\u001b[0m_call\u001b[0m\u001b[1;33m(\u001b[0m\u001b[1;33m*\u001b[0m\u001b[0margs\u001b[0m\u001b[1;33m,\u001b[0m \u001b[1;33m**\u001b[0m\u001b[0mkwds\u001b[0m\u001b[1;33m)\u001b[0m\u001b[1;33m\u001b[0m\u001b[1;33m\u001b[0m\u001b[0m\n\u001b[0m\u001b[0;32m    569\u001b[0m \u001b[1;33m\u001b[0m\u001b[0m\n\u001b[0;32m    570\u001b[0m     \u001b[1;32mif\u001b[0m \u001b[0mtracing_count\u001b[0m \u001b[1;33m==\u001b[0m \u001b[0mself\u001b[0m\u001b[1;33m.\u001b[0m\u001b[0m_get_tracing_count\u001b[0m\u001b[1;33m(\u001b[0m\u001b[1;33m)\u001b[0m\u001b[1;33m:\u001b[0m\u001b[1;33m\u001b[0m\u001b[1;33m\u001b[0m\u001b[0m\n",
      "\u001b[1;32m~\\Anaconda3\\envs\\alpha-go\\lib\\site-packages\\tensorflow_core\\python\\eager\\def_function.py\u001b[0m in \u001b[0;36m_call\u001b[1;34m(self, *args, **kwds)\u001b[0m\n\u001b[0;32m    597\u001b[0m       \u001b[1;31m# In this case we have created variables on the first call, so we run the\u001b[0m\u001b[1;33m\u001b[0m\u001b[1;33m\u001b[0m\u001b[1;33m\u001b[0m\u001b[0m\n\u001b[0;32m    598\u001b[0m       \u001b[1;31m# defunned version which is guaranteed to never create variables.\u001b[0m\u001b[1;33m\u001b[0m\u001b[1;33m\u001b[0m\u001b[1;33m\u001b[0m\u001b[0m\n\u001b[1;32m--> 599\u001b[1;33m       \u001b[1;32mreturn\u001b[0m \u001b[0mself\u001b[0m\u001b[1;33m.\u001b[0m\u001b[0m_stateless_fn\u001b[0m\u001b[1;33m(\u001b[0m\u001b[1;33m*\u001b[0m\u001b[0margs\u001b[0m\u001b[1;33m,\u001b[0m \u001b[1;33m**\u001b[0m\u001b[0mkwds\u001b[0m\u001b[1;33m)\u001b[0m  \u001b[1;31m# pylint: disable=not-callable\u001b[0m\u001b[1;33m\u001b[0m\u001b[1;33m\u001b[0m\u001b[0m\n\u001b[0m\u001b[0;32m    600\u001b[0m     \u001b[1;32melif\u001b[0m \u001b[0mself\u001b[0m\u001b[1;33m.\u001b[0m\u001b[0m_stateful_fn\u001b[0m \u001b[1;32mis\u001b[0m \u001b[1;32mnot\u001b[0m \u001b[1;32mNone\u001b[0m\u001b[1;33m:\u001b[0m\u001b[1;33m\u001b[0m\u001b[1;33m\u001b[0m\u001b[0m\n\u001b[0;32m    601\u001b[0m       \u001b[1;31m# Release the lock early so that multiple threads can perform the call\u001b[0m\u001b[1;33m\u001b[0m\u001b[1;33m\u001b[0m\u001b[1;33m\u001b[0m\u001b[0m\n",
      "\u001b[1;32m~\\Anaconda3\\envs\\alpha-go\\lib\\site-packages\\tensorflow_core\\python\\eager\\function.py\u001b[0m in \u001b[0;36m__call__\u001b[1;34m(self, *args, **kwargs)\u001b[0m\n\u001b[0;32m   2361\u001b[0m     \u001b[1;32mwith\u001b[0m \u001b[0mself\u001b[0m\u001b[1;33m.\u001b[0m\u001b[0m_lock\u001b[0m\u001b[1;33m:\u001b[0m\u001b[1;33m\u001b[0m\u001b[1;33m\u001b[0m\u001b[0m\n\u001b[0;32m   2362\u001b[0m       \u001b[0mgraph_function\u001b[0m\u001b[1;33m,\u001b[0m \u001b[0margs\u001b[0m\u001b[1;33m,\u001b[0m \u001b[0mkwargs\u001b[0m \u001b[1;33m=\u001b[0m \u001b[0mself\u001b[0m\u001b[1;33m.\u001b[0m\u001b[0m_maybe_define_function\u001b[0m\u001b[1;33m(\u001b[0m\u001b[0margs\u001b[0m\u001b[1;33m,\u001b[0m \u001b[0mkwargs\u001b[0m\u001b[1;33m)\u001b[0m\u001b[1;33m\u001b[0m\u001b[1;33m\u001b[0m\u001b[0m\n\u001b[1;32m-> 2363\u001b[1;33m     \u001b[1;32mreturn\u001b[0m \u001b[0mgraph_function\u001b[0m\u001b[1;33m.\u001b[0m\u001b[0m_filtered_call\u001b[0m\u001b[1;33m(\u001b[0m\u001b[0margs\u001b[0m\u001b[1;33m,\u001b[0m \u001b[0mkwargs\u001b[0m\u001b[1;33m)\u001b[0m  \u001b[1;31m# pylint: disable=protected-access\u001b[0m\u001b[1;33m\u001b[0m\u001b[1;33m\u001b[0m\u001b[0m\n\u001b[0m\u001b[0;32m   2364\u001b[0m \u001b[1;33m\u001b[0m\u001b[0m\n\u001b[0;32m   2365\u001b[0m   \u001b[1;33m@\u001b[0m\u001b[0mproperty\u001b[0m\u001b[1;33m\u001b[0m\u001b[1;33m\u001b[0m\u001b[0m\n",
      "\u001b[1;32m~\\Anaconda3\\envs\\alpha-go\\lib\\site-packages\\tensorflow_core\\python\\eager\\function.py\u001b[0m in \u001b[0;36m_filtered_call\u001b[1;34m(self, args, kwargs)\u001b[0m\n\u001b[0;32m   1609\u001b[0m          if isinstance(t, (ops.Tensor,\n\u001b[0;32m   1610\u001b[0m                            resource_variable_ops.BaseResourceVariable))),\n\u001b[1;32m-> 1611\u001b[1;33m         self.captured_inputs)\n\u001b[0m\u001b[0;32m   1612\u001b[0m \u001b[1;33m\u001b[0m\u001b[0m\n\u001b[0;32m   1613\u001b[0m   \u001b[1;32mdef\u001b[0m \u001b[0m_call_flat\u001b[0m\u001b[1;33m(\u001b[0m\u001b[0mself\u001b[0m\u001b[1;33m,\u001b[0m \u001b[0margs\u001b[0m\u001b[1;33m,\u001b[0m \u001b[0mcaptured_inputs\u001b[0m\u001b[1;33m,\u001b[0m \u001b[0mcancellation_manager\u001b[0m\u001b[1;33m=\u001b[0m\u001b[1;32mNone\u001b[0m\u001b[1;33m)\u001b[0m\u001b[1;33m:\u001b[0m\u001b[1;33m\u001b[0m\u001b[1;33m\u001b[0m\u001b[0m\n",
      "\u001b[1;32m~\\Anaconda3\\envs\\alpha-go\\lib\\site-packages\\tensorflow_core\\python\\eager\\function.py\u001b[0m in \u001b[0;36m_call_flat\u001b[1;34m(self, args, captured_inputs, cancellation_manager)\u001b[0m\n\u001b[0;32m   1690\u001b[0m       \u001b[1;31m# No tape is watching; skip to running the function.\u001b[0m\u001b[1;33m\u001b[0m\u001b[1;33m\u001b[0m\u001b[1;33m\u001b[0m\u001b[0m\n\u001b[0;32m   1691\u001b[0m       return self._build_call_outputs(self._inference_function.call(\n\u001b[1;32m-> 1692\u001b[1;33m           ctx, args, cancellation_manager=cancellation_manager))\n\u001b[0m\u001b[0;32m   1693\u001b[0m     forward_backward = self._select_forward_and_backward_functions(\n\u001b[0;32m   1694\u001b[0m         \u001b[0margs\u001b[0m\u001b[1;33m,\u001b[0m\u001b[1;33m\u001b[0m\u001b[1;33m\u001b[0m\u001b[0m\n",
      "\u001b[1;32m~\\Anaconda3\\envs\\alpha-go\\lib\\site-packages\\tensorflow_core\\python\\eager\\function.py\u001b[0m in \u001b[0;36mcall\u001b[1;34m(self, ctx, args, cancellation_manager)\u001b[0m\n\u001b[0;32m    543\u001b[0m               \u001b[0minputs\u001b[0m\u001b[1;33m=\u001b[0m\u001b[0margs\u001b[0m\u001b[1;33m,\u001b[0m\u001b[1;33m\u001b[0m\u001b[1;33m\u001b[0m\u001b[0m\n\u001b[0;32m    544\u001b[0m               \u001b[0mattrs\u001b[0m\u001b[1;33m=\u001b[0m\u001b[1;33m(\u001b[0m\u001b[1;34m\"executor_type\"\u001b[0m\u001b[1;33m,\u001b[0m \u001b[0mexecutor_type\u001b[0m\u001b[1;33m,\u001b[0m \u001b[1;34m\"config_proto\"\u001b[0m\u001b[1;33m,\u001b[0m \u001b[0mconfig\u001b[0m\u001b[1;33m)\u001b[0m\u001b[1;33m,\u001b[0m\u001b[1;33m\u001b[0m\u001b[1;33m\u001b[0m\u001b[0m\n\u001b[1;32m--> 545\u001b[1;33m               ctx=ctx)\n\u001b[0m\u001b[0;32m    546\u001b[0m         \u001b[1;32melse\u001b[0m\u001b[1;33m:\u001b[0m\u001b[1;33m\u001b[0m\u001b[1;33m\u001b[0m\u001b[0m\n\u001b[0;32m    547\u001b[0m           outputs = execute.execute_with_cancellation(\n",
      "\u001b[1;32m~\\Anaconda3\\envs\\alpha-go\\lib\\site-packages\\tensorflow_core\\python\\eager\\execute.py\u001b[0m in \u001b[0;36mquick_execute\u001b[1;34m(op_name, num_outputs, inputs, attrs, ctx, name)\u001b[0m\n\u001b[0;32m     59\u001b[0m     tensors = pywrap_tensorflow.TFE_Py_Execute(ctx._handle, device_name,\n\u001b[0;32m     60\u001b[0m                                                \u001b[0mop_name\u001b[0m\u001b[1;33m,\u001b[0m \u001b[0minputs\u001b[0m\u001b[1;33m,\u001b[0m \u001b[0mattrs\u001b[0m\u001b[1;33m,\u001b[0m\u001b[1;33m\u001b[0m\u001b[1;33m\u001b[0m\u001b[0m\n\u001b[1;32m---> 61\u001b[1;33m                                                num_outputs)\n\u001b[0m\u001b[0;32m     62\u001b[0m   \u001b[1;32mexcept\u001b[0m \u001b[0mcore\u001b[0m\u001b[1;33m.\u001b[0m\u001b[0m_NotOkStatusException\u001b[0m \u001b[1;32mas\u001b[0m \u001b[0me\u001b[0m\u001b[1;33m:\u001b[0m\u001b[1;33m\u001b[0m\u001b[1;33m\u001b[0m\u001b[0m\n\u001b[0;32m     63\u001b[0m     \u001b[1;32mif\u001b[0m \u001b[0mname\u001b[0m \u001b[1;32mis\u001b[0m \u001b[1;32mnot\u001b[0m \u001b[1;32mNone\u001b[0m\u001b[1;33m:\u001b[0m\u001b[1;33m\u001b[0m\u001b[1;33m\u001b[0m\u001b[0m\n",
      "\u001b[1;31mKeyboardInterrupt\u001b[0m: "
     ]
    }
   ],
   "source": [
    "epochs = 30\n",
    "batch_size = 128\n",
    "\n",
    "model_GO.fit(X_train, Y_train,\n",
    "          batch_size=batch_size,\n",
    "          epochs=epochs,\n",
    "          verbose=1,\n",
    "          validation_split=0.2)"
   ]
  },
  {
   "cell_type": "code",
   "execution_count": null,
   "metadata": {},
   "outputs": [],
   "source": [
    "score = model_GO.evaluate(X_test, Y_test, verbose=0)\n",
    "print('Test loss:', score[0])\n",
    "print('Test accuracy:', score[1])"
   ]
  },
  {
   "cell_type": "markdown",
   "metadata": {
    "colab_type": "text",
    "id": "IXjcOLJG_Sc8"
   },
   "source": [
    "<font color=\"lightblue\">\n",
    "\n",
    "Après avoir lancé l'exécution des *epochs* sur google colab, pour une exécution plus rapide, nous constatons que nous avons obtenu une *accuracy* de 91,56% et une perte de seulement 8,1%. Ces résultats semblent très bons et ont été atteints après seulement quelques *epochs*.\n",
    "\n",
    "</font>"
   ]
  },
  {
   "cell_type": "code",
   "execution_count": null,
   "metadata": {
    "colab": {
     "base_uri": "https://localhost:8080/",
     "height": 51
    },
    "colab_type": "code",
    "id": "hyzyprFE3M1Q",
    "outputId": "8c6654d4-49bf-48cb-f1a3-a2db37d52ee6"
   },
   "outputs": [
    {
     "name": "stdout",
     "output_type": "stream",
     "text": [
      "INFO:tensorflow:Assets written to: model_projet/assets\n",
      "Saved model to disk\n"
     ]
    }
   ],
   "source": [
    "model_GO.save('model_alpha-go')\n",
    "\n",
    "model_json = model_GO.to_json()\n",
    "with open(\"model_priors.json\", \"w\") as json_file:\n",
    "    json_file.write(model_json)\n",
    "# serialize weights to HDF5\n",
    "model_GO.save_weights(\"model.h5\")\n",
    "print(\"Saved model to disk\")"
   ]
  },
  {
   "cell_type": "code",
   "execution_count": 17,
   "metadata": {
    "colab": {
     "base_uri": "https://localhost:8080/",
     "height": 51
    },
    "colab_type": "code",
    "id": "q6uVuGsy3M1b",
    "outputId": "1059b0bd-2955-46f0-f6c7-63a0e1016aa1"
   },
   "outputs": [
    {
     "name": "stdout",
     "output_type": "stream",
     "text": [
      "Prediction this sample:\n",
      "You predicted [[0.77675754 0.22324248]] and the actual target was [0.78 0.22]\n"
     ]
    }
   ],
   "source": [
    "def position_predict(black_stones, white_stones):\n",
    "\n",
    "    X = np.zeros([1, board_size, board_size, 2], dtype = int)\n",
    "\n",
    "    # Construction du board\n",
    "    for white in white_stones:\n",
    "        # On recupere la coordonnée\n",
    "        (col, lin) = name_to_coord(white)\n",
    "        # On l'ajoute dans le plateau\n",
    "        X[0][col][lin][1] = 1    \n",
    "    for black in black_stones:\n",
    "        (col, lin) = name_to_coord(black)\n",
    "        X[0][col][lin][0] = 1\n",
    "\n",
    "    prediction = model_GO.predict(X)\n",
    "    \n",
    "    return prediction\n",
    "\n",
    "# Par exemple, nous pourrons appeler votre prédiction ainsi\n",
    "print(\"Prediction this sample:\")\n",
    "P = 40000\n",
    "prediction = position_predict(data[P][\"black_stones\"], data[P][\"white_stones\"])\n",
    "reality = data[P][\"black_wins\"]/data[P][\"rollouts\"]\n",
    "print(\"You predicted\", prediction, \"and the actual target was\", reality)"
   ]
  },
  {
   "cell_type": "markdown",
   "metadata": {
    "colab_type": "text",
    "id": "2Rl7KBDk_yRA"
   },
   "source": [
    "<font color=\"lightblue\">\n",
    "\n",
    "Il nous suffit maintenant d'appeler la fonction ```position_predict()``` pour calculer les prédictions des probabilités de victoire pour le joueur noir et le joueur blanc.\n",
    "\n",
    "Le code suivant permettant de prédire les probabilités de victoire sur le jeu de données de base mais il est commenté car il est très long à exécuter et les résultats sont présentés par la suite.\n",
    "\n",
    "</font>"
   ]
  },
  {
   "cell_type": "code",
   "execution_count": 10,
   "metadata": {
    "colab": {
     "base_uri": "https://localhost:8080/",
     "height": 54
    },
    "colab_type": "code",
    "id": "LiIEVhf_DhRc",
    "outputId": "3c17f8b2-5548-4e0d-a80c-eb107af54b0e"
   },
   "outputs": [
    {
     "data": {
      "text/plain": [
       "'\\nfor d in range(len(data)):\\n    prediction = position_predict(data[d][\"black_stones\"], data[d][\"white_stones\"])\\n    reality = np.array([data[d][\"black_wins\"]/data[d][\"rollouts\"],data[d][\"white_wins\"]/data[d][\"rollouts\"]])\\n    diff[d] = prediction - reality\\n'"
      ]
     },
     "execution_count": 10,
     "metadata": {},
     "output_type": "execute_result"
    }
   ],
   "source": [
    "diff = np.empty((len(data),2))\n",
    "\n",
    "# Prédire sur le jeu de données de base\n",
    "'''\n",
    "for d in range(len(data)):\n",
    "    prediction = position_predict(data[d][\"black_stones\"], data[d][\"white_stones\"])\n",
    "    reality = np.array([data[d][\"black_wins\"]/data[d][\"rollouts\"],data[d][\"white_wins\"]/data[d][\"rollouts\"]])\n",
    "    diff[d] = prediction - reality\n",
    "'''"
   ]
  },
  {
   "cell_type": "code",
   "execution_count": 13,
   "metadata": {
    "colab": {
     "base_uri": "https://localhost:8080/",
     "height": 54
    },
    "colab_type": "code",
    "id": "U0bScdQ4HnvD",
    "outputId": "7fbc86b9-6b55-4fde-9687-d3f9d70949a0"
   },
   "outputs": [
    {
     "data": {
      "text/plain": [
       "\"\\ndiff = np.absolute(diff)\\nplt.hist(diff[:,0],50, facecolor='g', alpha=0.75)\\nplt.xlabel('Valeur absolue de la différence des probas : valeur prédite - réelle valeur')\\nplt.ylabel('Nombres d'échantillons')\\nplt.title('(NOIR) Histogramme des prédictions sur le jeu de données de base : 50 barres')\\nplt.grid(True)\\nplt.show()\\n\\nplt.hist(diff[:,1],50, facecolor='g', alpha=0.75)\\nplt.xlabel('Valeur absolue de la différence des probas : valeur prédite - réelle valeur')\\nplt.ylabel('Nombres d'échantillons')\\nplt.title('(BLANC) Histogramme des prédictions sur le jeu de données de base : 50 barres')\\nplt.grid(True)\\nplt.show()\\n\""
      ]
     },
     "execution_count": 13,
     "metadata": {},
     "output_type": "execute_result"
    }
   ],
   "source": [
    "'''\n",
    "diff = np.absolute(diff)\n",
    "plt.hist(diff[:,0],50, facecolor='g', alpha=0.75)\n",
    "plt.xlabel('Valeur absolue de la différence des probas : valeur prédite - réelle valeur')\n",
    "plt.ylabel('Nombres d\\'échantillons')\n",
    "plt.title('(NOIR) Histogramme des prédictions sur le jeu de données de base : 50 barres')\n",
    "plt.grid(True)\n",
    "plt.show()\n",
    "\n",
    "plt.hist(diff[:,1],50, facecolor='g', alpha=0.75)\n",
    "plt.xlabel('Valeur absolue de la différence des probas : valeur prédite - réelle valeur')\n",
    "plt.ylabel('Nombres d\\'échantillons')\n",
    "plt.title('(BLANC) Histogramme des prédictions sur le jeu de données de base : 50 barres')\n",
    "plt.grid(True)\n",
    "plt.show()\n",
    "'''"
   ]
  },
  {
   "cell_type": "code",
   "execution_count": null,
   "metadata": {
    "colab": {
     "base_uri": "https://localhost:8080/",
     "height": 54
    },
    "colab_type": "code",
    "id": "zsv4CspdMHFB",
    "outputId": "753a8a85-149f-432e-8aff-5e780ca581ea"
   },
   "outputs": [
    {
     "data": {
      "text/plain": [
       "\"\\nplt.hist(diff[:,0],3, facecolor='g', alpha=0.75)\\nplt.xlabel('Valeur absolue de la différence : valeur prédite - réelle valeur')\\nplt.ylabel('Nombres d'échantillons')\\nplt.title('(NOIR) Histogramme des prédictions sur le jeu de données de base : 3 barres')\\nplt.grid(True)\\nplt.show()\\n\\nplt.hist(diff[:,1],3, facecolor='g', alpha=0.75)\\nplt.xlabel('Valeur absolue de la différence : valeur prédite - réelle valeur')\\nplt.ylabel('Nombres d'échantillons')\\nplt.title('(BLANC) Histogramme des prédictions sur le jeu de données de base : 3 barres')\\nplt.grid(True)\\nplt.show()\\n\""
      ]
     },
     "execution_count": 15,
     "metadata": {
      "tags": []
     },
     "output_type": "execute_result"
    }
   ],
   "source": [
    "'''\n",
    "plt.hist(diff[:,0],3, facecolor='g', alpha=0.75)\n",
    "plt.xlabel('Valeur absolue de la différence : valeur prédite - réelle valeur')\n",
    "plt.ylabel('Nombres d\\'échantillons')\n",
    "plt.title('(NOIR) Histogramme des prédictions sur le jeu de données de base : 3 barres')\n",
    "plt.grid(True)\n",
    "plt.show()\n",
    "\n",
    "plt.hist(diff[:,1],3, facecolor='g', alpha=0.75)\n",
    "plt.xlabel('Valeur absolue de la différence : valeur prédite - réelle valeur')\n",
    "plt.ylabel('Nombres d\\'échantillons')\n",
    "plt.title('(BLANC) Histogramme des prédictions sur le jeu de données de base : 3 barres')\n",
    "plt.grid(True)\n",
    "plt.show()\n",
    "'''"
   ]
  },
  {
   "cell_type": "code",
   "execution_count": null,
   "metadata": {
    "colab": {
     "base_uri": "https://localhost:8080/",
     "height": 34
    },
    "colab_type": "code",
    "id": "fqLXqRR6qoUO",
    "outputId": "e7b9bbb0-758f-4061-ca57-16db1b359dde"
   },
   "outputs": [
    {
     "data": {
      "text/plain": [
       "'\\nprint(\"Moyenne des écart (NOIR) : \", np.mean(diff[:,0])) \\nprint(\"Moyenne des écart (BLANC) : \", np.mean(diff[:,1])) \\n'"
      ]
     },
     "execution_count": 28,
     "metadata": {
      "tags": []
     },
     "output_type": "execute_result"
    }
   ],
   "source": [
    "'''\n",
    "print(\"Moyenne des écart (NOIR) : \", np.mean(diff[:,0])) \n",
    "print(\"Moyenne des écart (BLANC) : \", np.mean(diff[:,1])) \n",
    "'''"
   ]
  },
  {
   "cell_type": "code",
   "execution_count": 20,
   "metadata": {
    "colab": {
     "base_uri": "https://localhost:8080/",
     "height": 54
    },
    "colab_type": "code",
    "id": "jhMPw3BvIFEg",
    "outputId": "29d40054-4114-427f-c942-5e256654092e"
   },
   "outputs": [
    {
     "data": {
      "text/plain": [
       "\"\\n# Predire les données\\npredictions = np.empty(len(to_predict))\\n\\nfor t in range(len(to_predict)):\\n  predictions[t] = position_predict(to_predict[t]['black_stones'], to_predict[t]['white_stones'])[0][0]\\n\\n# Voir différences avec les résultats des tests (SEULEMENT POUR NOUS)\\nmean, final, predictions = do_mean_detailed(predictions, results)\\nplt.hist(final,50, facecolor='g', alpha=0.75)\\nplt.xlabel('Valeur absolue de la différence des probas : valeur prédite - réelle valeur')\\nplt.ylabel('Nombres d'échantillons')\\nplt.title('(NOIR) Histogramme des prédictions sur les nouvelles données : 50 barres')\\nplt.grid(True)\\nplt.show()\\n\""
      ]
     },
     "execution_count": 20,
     "metadata": {},
     "output_type": "execute_result"
    }
   ],
   "source": [
    "def do_mean_detailed(prediction,reality) :\n",
    "    final = np.empty((len(prediction)))\n",
    "    \n",
    "    mean = 0\n",
    "    div = 0\n",
    "    un = 0\n",
    "    cinq = 0\n",
    "    dix = 0\n",
    "    vingt = 0\n",
    "    cinquante = 0\n",
    "\n",
    "    for i in range(len(prediction)):\n",
    "        final[i] = abs(prediction[0] - reality[i])\n",
    "        ecart = final[i]\n",
    "\n",
    "        if(ecart < 0.01):\n",
    "            un += 1\n",
    "        if(ecart < 0.05):\n",
    "            cinq += 1\n",
    "        if(ecart < 0.10):\n",
    "            dix += 1\n",
    "        if(ecart < 0.20):\n",
    "            vingt += 1\n",
    "        if(ecart <0.5):\n",
    "            cinquante += 1\n",
    "\n",
    "    print(\"En dessous de 1% :\",un)\n",
    "    print(\"En dessous de 5% :\",cinq)\n",
    "    print(\"En dessous de 10% :\",dix) \n",
    "    print(\"En dessous de 20% :\",vingt)\n",
    "    print(\"En dessous de 50% :\",cinquante)\n",
    "\n",
    "    mean = np.mean(final)\n",
    "    print(\"Accuracy : {}\".format(1-mean))\n",
    "\n",
    "    return mean, final, predictions\n",
    "\n",
    "'''\n",
    "# Predire les données\n",
    "predictions = np.empty(len(to_predict))\n",
    "\n",
    "for t in range(len(to_predict)):\n",
    "  predictions[t] = position_predict(to_predict[t]['black_stones'], to_predict[t]['white_stones'])[0][0]\n",
    "\n",
    "# Voir différences avec les résultats des tests (SEULEMENT POUR NOUS)\n",
    "mean, final, predictions = do_mean_detailed(predictions, results)\n",
    "plt.hist(final,50, facecolor='g', alpha=0.75)\n",
    "plt.xlabel('Valeur absolue de la différence des probas : valeur prédite - réelle valeur')\n",
    "plt.ylabel('Nombres d\\'échantillons')\n",
    "plt.title('(NOIR) Histogramme des prédictions sur les nouvelles données : 50 barres')\n",
    "plt.grid(True)\n",
    "plt.show()\n",
    "'''"
   ]
  },
  {
   "cell_type": "markdown",
   "metadata": {
    "colab_type": "text",
    "id": "K-LJyTQa_NNt"
   },
   "source": [
    "<font color=\"lightblue\">\n",
    "\n",
    "Après avoir exécuter le code précédent, nous avons obtenu les résultats suivants :\n",
    "\n",
    "![Texte alternatif…](https://i.imgur.com/CALbZ9L.png)\n",
    "\n",
    "![Texte alternatif…](https://i.imgur.com/96RlOws.png)\n",
    "\n",
    "</font>"
   ]
  },
  {
   "cell_type": "markdown",
   "metadata": {
    "colab_type": "text",
    "id": "wL7bB3dJ34D3"
   },
   "source": [
    "<font color=\"lightblue\">\n",
    "\n",
    "Nous pouvons constater que nous avons un écart de moyenne de seulement 7% sur les données de base. Cependant, quand on a utilisé le modèle sur les données de test, nous avons obtenu ces résultats :\n",
    "\n",
    "\n",
    "En dessous de 1% : 1  \n",
    "En dessous de 5% : 9  \n",
    "En dessous de 10% : 34  \n",
    "En dessous de 20% : 46  \n",
    "En dessous de 50% : 71  \n",
    "Accuracy : 0.6390679131507873  \n",
    "\n",
    "\n",
    "![Résultats sur le jeu de données de test](https://i.imgur.com/sbKFRcr.png)\n",
    "\n",
    "</font>"
   ]
  },
  {
   "cell_type": "markdown",
   "metadata": {
    "colab_type": "text",
    "id": "DzRYAjiub8_9"
   },
   "source": [
    "<font color=\"lightblue\">\n",
    "\n",
    "Les résultats des données de test ne sont pas aussi satisfaisants que ceux des donénes de base.\n",
    "\n",
    "En dessous de 1% : 14  \n",
    "En dessous de 5% : 17  \n",
    "En dessous de 10% : 20  \n",
    "En dessous de 20% : 22  \n",
    "En dessous de 50% : 35  \n",
    "Accuracy : 0.4104\n",
    "\n",
    "![8 symétries, c'est pas fou](https://i.imgur.com/9I6hxS9.png)\n",
    "\n",
    "</font>"
   ]
  },
  {
   "cell_type": "markdown",
   "metadata": {
    "colab_type": "text",
    "id": "1o-YYdyddEJk"
   },
   "source": [
    "# Prédictions des données"
   ]
  },
  {
   "cell_type": "code",
   "execution_count": 14,
   "metadata": {
    "colab": {
     "base_uri": "https://localhost:8080/",
     "height": 71
    },
    "colab_type": "code",
    "id": "KQlCjUrvpi5u",
    "outputId": "c0d3f93d-f1c3-40c0-eb18-5ddee75c6545"
   },
   "outputs": [
    {
     "name": "stdout",
     "output_type": "stream",
     "text": [
      "File to_predict.json.gz not found, I am downloading it... Done\n"
     ]
    },
    {
     "data": {
      "text/plain": [
       "'\\ndownload(data_url_results,data_results)\\n# Récuperer les résults\\nwith open(\"results.txt\") as f:\\n    txt = f.readlines()\\nresults = [float(x.strip()) for x in txt]\\n'"
      ]
     },
     "execution_count": 14,
     "metadata": {},
     "output_type": "execute_result"
    }
   ],
   "source": [
    "# Importer les données à tester\n",
    "# ------------ CHANGER ICI LES URLS -----------------\n",
    "data_url = \"https://www.labri.fr/perso/lsimon/ia-inge2/positions-to-evaluate-9x9.json.gz\"\n",
    "data_to_predict = \"to_predict.json.gz\"\n",
    "\n",
    "data_url_results = \"https://www.labri.fr/perso/lsimon/ia-inge2/positions-to-evaluate-9x9-attempt.results.txt\"\n",
    "data_results = \"results.txt\"\n",
    "\n",
    "to_predict = get_raw_data_go(data_url,data_to_predict)\n",
    "\n",
    "'''\n",
    "download(data_url_results,data_results)\n",
    "# Récuperer les résults\n",
    "with open(\"results.txt\") as f:\n",
    "    txt = f.readlines()\n",
    "results = [float(x.strip()) for x in txt]\n",
    "'''"
   ]
  },
  {
   "cell_type": "markdown",
   "metadata": {
    "colab_type": "text",
    "id": "2z84InOFdq_t"
   },
   "source": [
    "<font color=\"lightblue\">\n",
    "\n",
    "Nous pouvons maintenant écrire nos prédictions des nouvelles données dans ```my_predictions.txt```.\n",
    "\n",
    "</font>"
   ]
  },
  {
   "cell_type": "code",
   "execution_count": 18,
   "metadata": {
    "colab": {},
    "colab_type": "code",
    "id": "XH31skRUeCXi"
   },
   "outputs": [],
   "source": [
    "# Prediction des données\n",
    "predictions = np.empty(len(to_predict))\n",
    "\n",
    "# Remplissage du tableau de prédictions\n",
    "for t in range(len(to_predict)):\n",
    "  # Comme nous souhaitons seulement les prédictions sur le % de victoire pour le joueur noir, on prend la première composante\n",
    "  predictions[t] = position_predict(to_predict[t]['black_stones'], to_predict[t]['white_stones'])[0][0]"
   ]
  },
  {
   "cell_type": "code",
   "execution_count": 19,
   "metadata": {
    "colab": {},
    "colab_type": "code",
    "id": "44CZWItulFR4"
   },
   "outputs": [],
   "source": [
    "with open(\"my_predictions.txt\", \"w\") as f:\n",
    "     for p in predictions:\n",
    "        f.write(str(p)+\"\\n\")"
   ]
  }
 ],
 "metadata": {
  "accelerator": "GPU",
  "colab": {
   "collapsed_sections": [],
   "name": "tp_ml_note.ipynb",
   "provenance": []
  },
  "kernelspec": {
   "display_name": "Python 3",
   "language": "python",
   "name": "python3"
  },
  "language_info": {
   "codemirror_mode": {
    "name": "ipython",
    "version": 3
   },
   "file_extension": ".py",
   "mimetype": "text/x-python",
   "name": "python",
   "nbconvert_exporter": "python",
   "pygments_lexer": "ipython3",
   "version": "3.7.9"
  }
 },
 "nbformat": 4,
 "nbformat_minor": 4
}
