{
  "nbformat": 4,
  "nbformat_minor": 0,
  "metadata": {
    "accelerator": "GPU",
    "colab": {
      "name": "CNN_priors.ipynb",
      "provenance": [],
      "collapsed_sections": [],
      "toc_visible": true
    },
    "kernelspec": {
      "display_name": "Python 3",
      "language": "python",
      "name": "python3"
    },
    "language_info": {
      "codemirror_mode": {
        "name": "ipython",
        "version": 3
      },
      "file_extension": ".py",
      "mimetype": "text/x-python",
      "name": "python",
      "nbconvert_exporter": "python",
      "pygments_lexer": "ipython3",
      "version": "3.6.12"
    }
  },
  "cells": [
    {
      "cell_type": "markdown",
      "metadata": {
        "id": "ClVitoOygOyQ"
      },
      "source": [
        "<font color=\"lightblue\">\n",
        "\n",
        "**GERMON Paul et MARTIN Hugo**\n",
        "\n",
        "</font>"
      ]
    },
    {
      "cell_type": "code",
      "metadata": {
        "id": "631asENzcJk1"
      },
      "source": [
        "import pickle\n",
        "import numpy as np\n",
        "from sklearn.model_selection import train_test_split\n",
        "\n",
        "import tensorflow.keras\n",
        "from tensorflow.keras.models import Sequential\n",
        "from tensorflow.keras.layers import Input, Dense, Dropout, Activation, Flatten\n",
        "from tensorflow.keras.layers import Conv2D, BatchNormalization\n",
        "import tensorflow.keras.optimizers as optimizers"
      ],
      "execution_count": 1,
      "outputs": []
    },
    {
      "cell_type": "code",
      "metadata": {
        "colab": {
          "base_uri": "https://localhost:8080/"
        },
        "id": "A1JB6vfl45XJ",
        "outputId": "287233bb-3035-4c74-c215-a4642fb61c43"
      },
      "source": [
        "with open('pickle_enlarged_X', 'rb') as fx:\n",
        "    enlarged_X = pickle.load(fx)\n",
        "\n",
        "with open('pickle_enlarged_Y', 'rb') as fy:\n",
        "    enlarged_Y = pickle.load(fy)\n",
        "    \n",
        "print(\"enlarged_X.shape = \", enlarged_X.shape)\n",
        "print(\"enlarged_Y.shape = \", enlarged_Y.shape)"
      ],
      "execution_count": 2,
      "outputs": [
        {
          "output_type": "stream",
          "text": [
            "enlarged_X.shape =  (331584, 15, 9, 9)\n",
            "enlarged_Y.shape =  (331584,)\n"
          ],
          "name": "stdout"
        }
      ]
    },
    {
      "cell_type": "code",
      "metadata": {
        "id": "qqSD6D3eeLtr"
      },
      "source": [
        "# Séparation des données d'entrée en un training set et un test set\n",
        "X_train, X_test, Y_train, Y_test = train_test_split(enlarged_X, enlarged_Y, test_size=0.33, shuffle=True)"
      ],
      "execution_count": 3,
      "outputs": []
    },
    {
      "cell_type": "code",
      "metadata": {
        "colab": {
          "base_uri": "https://localhost:8080/"
        },
        "id": "qgxbomiX3M0u",
        "outputId": "396e062f-ca06-4cd4-ba40-d204b8f4dfc3"
      },
      "source": [
        "print(f\"X_train.shape = {X_train.shape}\")\n",
        "print(f\"X_test.shape = {X_test.shape}\")\n",
        "print(f\"Y_train.shape = {Y_train.shape}\")\n",
        "print(f\"Y_test.shape = {Y_test.shape}\")"
      ],
      "execution_count": 4,
      "outputs": [
        {
          "output_type": "stream",
          "text": [
            "X_train.shape = (222161, 15, 9, 9)\n",
            "X_test.shape = (109423, 15, 9, 9)\n",
            "Y_train.shape = (222161,)\n",
            "Y_test.shape = (109423,)\n"
          ],
          "name": "stdout"
        }
      ]
    },
    {
      "cell_type": "markdown",
      "metadata": {
        "id": "HwRh2s8ReLtr"
      },
      "source": [
        "# Model training"
      ]
    },
    {
      "cell_type": "code",
      "metadata": {
        "id": "UkzbwkNb3M03"
      },
      "source": [
        "model_priors = Sequential()\n",
        "\n",
        "# 1 Conv2D 128 filters\n",
        "model_priors.add(Conv2D(filters = 128,\n",
        "                 kernel_size = (3,3),\n",
        "                 padding = 'same',\n",
        "                 data_format = 'channels_first',\n",
        "                 input_shape = X_train.shape[1:]))\n",
        "model_priors.add(BatchNormalization())\n",
        "model_priors.add(Activation('relu'))\n",
        "\n",
        "# 3 Conv2D 64 filters\n",
        "model_priors.add(Conv2D(filters = 64,\n",
        "                 kernel_size = (3,3),\n",
        "                 padding = 'same',\n",
        "                 data_format = 'channels_first',\n",
        "                 input_shape = X_train.shape[1:]))\n",
        "model_priors.add(BatchNormalization())\n",
        "model_priors.add(Activation('relu'))\n",
        "\n",
        "model_priors.add(Conv2D(filters = 64,\n",
        "                 kernel_size = (3,3),\n",
        "                 padding = 'same',\n",
        "                 data_format = 'channels_first',\n",
        "                 input_shape = X_train.shape[1:]))\n",
        "model_priors.add(BatchNormalization())\n",
        "model_priors.add(Activation('relu'))\n",
        "\n",
        "model_priors.add(Conv2D(filters = 64,\n",
        "                 kernel_size = (3,3),\n",
        "                 padding = 'same',\n",
        "                 data_format = 'channels_first',\n",
        "                 input_shape = X_train.shape[1:]))\n",
        "model_priors.add(BatchNormalization())\n",
        "model_priors.add(Activation('relu'))\n",
        "\n",
        "# 5 Conv2D 32 filters\n",
        "model_priors.add(Conv2D(filters = 32,\n",
        "                 kernel_size = (3,3),\n",
        "                 padding = 'same',\n",
        "                 data_format = 'channels_first',\n",
        "                 input_shape = X_train.shape[1:]))\n",
        "model_priors.add(BatchNormalization())\n",
        "model_priors.add(Activation('relu'))\n",
        "\n",
        "model_priors.add(Conv2D(filters = 32,\n",
        "                 kernel_size = (3,3),\n",
        "                 padding = 'same',\n",
        "                 data_format = 'channels_first',\n",
        "                 input_shape = X_train.shape[1:]))\n",
        "model_priors.add(BatchNormalization())\n",
        "model_priors.add(Activation('relu'))\n",
        "\n",
        "model_priors.add(Conv2D(filters = 32,\n",
        "                 kernel_size = (3,3),\n",
        "                 padding = 'same',\n",
        "                 data_format = 'channels_first',\n",
        "                 input_shape = X_train.shape[1:]))\n",
        "model_priors.add(BatchNormalization())\n",
        "model_priors.add(Activation('relu'))\n",
        "\n",
        "model_priors.add(Conv2D(filters = 32,\n",
        "                 kernel_size = (3,3),\n",
        "                 padding = 'same',\n",
        "                 data_format = 'channels_first',\n",
        "                 input_shape = X_train.shape[1:]))\n",
        "model_priors.add(BatchNormalization())\n",
        "model_priors.add(Activation('relu'))\n",
        "\n",
        "model_priors.add(Conv2D(filters = 32,\n",
        "                 kernel_size = (3,3),\n",
        "                 padding = 'same',\n",
        "                 data_format = 'channels_first',\n",
        "                 input_shape = X_train.shape[1:]))\n",
        "model_priors.add(BatchNormalization())\n",
        "model_priors.add(Activation('relu'))\n",
        "\n",
        "\n",
        "# 3 Conv 2D 16 filters\n",
        "model_priors.add(Conv2D(filters = 16,\n",
        "                 kernel_size = (3,3),\n",
        "                 padding = 'same',\n",
        "                 data_format = 'channels_first',\n",
        "                 input_shape = X_train.shape[1:]))\n",
        "model_priors.add(BatchNormalization())\n",
        "model_priors.add(Activation('relu'))\n",
        "\n",
        "model_priors.add(Conv2D(filters = 16,\n",
        "                 kernel_size = (3,3),\n",
        "                 padding = 'same',\n",
        "                 data_format = 'channels_first',\n",
        "                 input_shape = X_train.shape[1:]))\n",
        "model_priors.add(BatchNormalization())\n",
        "model_priors.add(Activation('relu'))\n",
        "\n",
        "model_priors.add(Conv2D(filters = 16,\n",
        "                 kernel_size = (3,3),\n",
        "                 padding = 'same',\n",
        "                 data_format = 'channels_first',\n",
        "                 input_shape = X_train.shape[1:]))\n",
        "model_priors.add(BatchNormalization())\n",
        "model_priors.add(Activation('relu'))\n",
        "\n",
        "model_priors.add(Flatten())\n",
        "\n",
        "# 3 Dense 160 neurons\n",
        "model_priors.add(Dense(160))\n",
        "model_priors.add(BatchNormalization())\n",
        "model_priors.add(Activation('relu'))\n",
        "model_priors.add(Dropout(0.5))\n",
        "\n",
        "model_priors.add(Dense(160))\n",
        "model_priors.add(BatchNormalization())\n",
        "model_priors.add(Activation('relu'))\n",
        "model_priors.add(Dropout(0.5))\n",
        "\n",
        "model_priors.add(Dense(160))\n",
        "model_priors.add(BatchNormalization())\n",
        "model_priors.add(Activation('relu'))\n",
        "model_priors.add(Dropout(0.5))\n",
        "\n",
        "model_priors.add(Dense(1, activation='relu'))\n",
        "\n",
        "model_priors.compile(loss='mse',\n",
        "              optimizer='adam',\n",
        "              metrics=['mae', 'mse'])"
      ],
      "execution_count": 5,
      "outputs": []
    },
    {
      "cell_type": "code",
      "metadata": {
        "colab": {
          "base_uri": "https://localhost:8080/"
        },
        "id": "w-5OBvEp3M0-",
        "outputId": "b4921cf0-cd79-48eb-a791-d7fa8d0c2246"
      },
      "source": [
        "model_priors.summary()"
      ],
      "execution_count": 6,
      "outputs": [
        {
          "output_type": "stream",
          "text": [
            "Model: \"sequential\"\n",
            "_________________________________________________________________\n",
            "Layer (type)                 Output Shape              Param #   \n",
            "=================================================================\n",
            "conv2d (Conv2D)              (None, 128, 9, 9)         17408     \n",
            "_________________________________________________________________\n",
            "batch_normalization (BatchNo (None, 128, 9, 9)         36        \n",
            "_________________________________________________________________\n",
            "activation (Activation)      (None, 128, 9, 9)         0         \n",
            "_________________________________________________________________\n",
            "conv2d_1 (Conv2D)            (None, 64, 9, 9)          73792     \n",
            "_________________________________________________________________\n",
            "batch_normalization_1 (Batch (None, 64, 9, 9)          36        \n",
            "_________________________________________________________________\n",
            "activation_1 (Activation)    (None, 64, 9, 9)          0         \n",
            "_________________________________________________________________\n",
            "conv2d_2 (Conv2D)            (None, 64, 9, 9)          36928     \n",
            "_________________________________________________________________\n",
            "batch_normalization_2 (Batch (None, 64, 9, 9)          36        \n",
            "_________________________________________________________________\n",
            "activation_2 (Activation)    (None, 64, 9, 9)          0         \n",
            "_________________________________________________________________\n",
            "conv2d_3 (Conv2D)            (None, 64, 9, 9)          36928     \n",
            "_________________________________________________________________\n",
            "batch_normalization_3 (Batch (None, 64, 9, 9)          36        \n",
            "_________________________________________________________________\n",
            "activation_3 (Activation)    (None, 64, 9, 9)          0         \n",
            "_________________________________________________________________\n",
            "conv2d_4 (Conv2D)            (None, 32, 9, 9)          18464     \n",
            "_________________________________________________________________\n",
            "batch_normalization_4 (Batch (None, 32, 9, 9)          36        \n",
            "_________________________________________________________________\n",
            "activation_4 (Activation)    (None, 32, 9, 9)          0         \n",
            "_________________________________________________________________\n",
            "conv2d_5 (Conv2D)            (None, 32, 9, 9)          9248      \n",
            "_________________________________________________________________\n",
            "batch_normalization_5 (Batch (None, 32, 9, 9)          36        \n",
            "_________________________________________________________________\n",
            "activation_5 (Activation)    (None, 32, 9, 9)          0         \n",
            "_________________________________________________________________\n",
            "conv2d_6 (Conv2D)            (None, 32, 9, 9)          9248      \n",
            "_________________________________________________________________\n",
            "batch_normalization_6 (Batch (None, 32, 9, 9)          36        \n",
            "_________________________________________________________________\n",
            "activation_6 (Activation)    (None, 32, 9, 9)          0         \n",
            "_________________________________________________________________\n",
            "conv2d_7 (Conv2D)            (None, 32, 9, 9)          9248      \n",
            "_________________________________________________________________\n",
            "batch_normalization_7 (Batch (None, 32, 9, 9)          36        \n",
            "_________________________________________________________________\n",
            "activation_7 (Activation)    (None, 32, 9, 9)          0         \n",
            "_________________________________________________________________\n",
            "conv2d_8 (Conv2D)            (None, 32, 9, 9)          9248      \n",
            "_________________________________________________________________\n",
            "batch_normalization_8 (Batch (None, 32, 9, 9)          36        \n",
            "_________________________________________________________________\n",
            "activation_8 (Activation)    (None, 32, 9, 9)          0         \n",
            "_________________________________________________________________\n",
            "conv2d_9 (Conv2D)            (None, 16, 9, 9)          4624      \n",
            "_________________________________________________________________\n",
            "batch_normalization_9 (Batch (None, 16, 9, 9)          36        \n",
            "_________________________________________________________________\n",
            "activation_9 (Activation)    (None, 16, 9, 9)          0         \n",
            "_________________________________________________________________\n",
            "conv2d_10 (Conv2D)           (None, 16, 9, 9)          2320      \n",
            "_________________________________________________________________\n",
            "batch_normalization_10 (Batc (None, 16, 9, 9)          36        \n",
            "_________________________________________________________________\n",
            "activation_10 (Activation)   (None, 16, 9, 9)          0         \n",
            "_________________________________________________________________\n",
            "conv2d_11 (Conv2D)           (None, 16, 9, 9)          2320      \n",
            "_________________________________________________________________\n",
            "batch_normalization_11 (Batc (None, 16, 9, 9)          36        \n",
            "_________________________________________________________________\n",
            "activation_11 (Activation)   (None, 16, 9, 9)          0         \n",
            "_________________________________________________________________\n",
            "flatten (Flatten)            (None, 1296)              0         \n",
            "_________________________________________________________________\n",
            "dense (Dense)                (None, 160)               207520    \n",
            "_________________________________________________________________\n",
            "batch_normalization_12 (Batc (None, 160)               640       \n",
            "_________________________________________________________________\n",
            "activation_12 (Activation)   (None, 160)               0         \n",
            "_________________________________________________________________\n",
            "dropout (Dropout)            (None, 160)               0         \n",
            "_________________________________________________________________\n",
            "dense_1 (Dense)              (None, 160)               25760     \n",
            "_________________________________________________________________\n",
            "batch_normalization_13 (Batc (None, 160)               640       \n",
            "_________________________________________________________________\n",
            "activation_13 (Activation)   (None, 160)               0         \n",
            "_________________________________________________________________\n",
            "dropout_1 (Dropout)          (None, 160)               0         \n",
            "_________________________________________________________________\n",
            "dense_2 (Dense)              (None, 160)               25760     \n",
            "_________________________________________________________________\n",
            "batch_normalization_14 (Batc (None, 160)               640       \n",
            "_________________________________________________________________\n",
            "activation_14 (Activation)   (None, 160)               0         \n",
            "_________________________________________________________________\n",
            "dropout_2 (Dropout)          (None, 160)               0         \n",
            "_________________________________________________________________\n",
            "dense_3 (Dense)              (None, 1)                 161       \n",
            "=================================================================\n",
            "Total params: 491,329\n",
            "Trainable params: 490,153\n",
            "Non-trainable params: 1,176\n",
            "_________________________________________________________________\n"
          ],
          "name": "stdout"
        }
      ]
    },
    {
      "cell_type": "code",
      "metadata": {
        "colab": {
          "base_uri": "https://localhost:8080/"
        },
        "id": "D8GQh2Cx3M1H",
        "outputId": "2ad2e21d-dcda-4394-b3ea-85dfe0fce164"
      },
      "source": [
        "epochs = 30\n",
        "batch_size = 128\n",
        "\n",
        "history = model_priors.fit(X_train, Y_train,\n",
        "          batch_size=batch_size,\n",
        "          epochs=epochs,\n",
        "          verbose=1,\n",
        "          validation_data=(X_test, Y_test),\n",
        "          shuffle=True)"
      ],
      "execution_count": 7,
      "outputs": [
        {
          "output_type": "stream",
          "text": [
            "Epoch 1/30\n",
            "1736/1736 [==============================] - 33s 14ms/step - loss: 0.1897 - mae: 0.3296 - mse: 0.1897 - val_loss: 0.0576 - val_mae: 0.1704 - val_mse: 0.0576\n",
            "Epoch 2/30\n",
            "1736/1736 [==============================] - 24s 14ms/step - loss: 0.0599 - mae: 0.1720 - mse: 0.0599 - val_loss: 0.0589 - val_mae: 0.1746 - val_mse: 0.0589\n",
            "Epoch 3/30\n",
            "1736/1736 [==============================] - 25s 14ms/step - loss: 0.0482 - mae: 0.1509 - mse: 0.0482 - val_loss: 0.0465 - val_mae: 0.1580 - val_mse: 0.0465\n",
            "Epoch 4/30\n",
            "1736/1736 [==============================] - 24s 14ms/step - loss: 0.0433 - mae: 0.1416 - mse: 0.0433 - val_loss: 0.1248 - val_mae: 0.2505 - val_mse: 0.1248\n",
            "Epoch 5/30\n",
            "1736/1736 [==============================] - 25s 14ms/step - loss: 0.0397 - mae: 0.1339 - mse: 0.0397 - val_loss: 0.0351 - val_mae: 0.1195 - val_mse: 0.0351\n",
            "Epoch 6/30\n",
            "1736/1736 [==============================] - 25s 14ms/step - loss: 0.0361 - mae: 0.1269 - mse: 0.0361 - val_loss: 0.1376 - val_mae: 0.2613 - val_mse: 0.1376\n",
            "Epoch 7/30\n",
            "1736/1736 [==============================] - 25s 14ms/step - loss: 0.0347 - mae: 0.1237 - mse: 0.0347 - val_loss: 0.0964 - val_mae: 0.1987 - val_mse: 0.0964\n",
            "Epoch 8/30\n",
            "1736/1736 [==============================] - 25s 14ms/step - loss: 0.0327 - mae: 0.1192 - mse: 0.0327 - val_loss: 0.0949 - val_mae: 0.2046 - val_mse: 0.0949\n",
            "Epoch 9/30\n",
            "1736/1736 [==============================] - 25s 14ms/step - loss: 0.0319 - mae: 0.1172 - mse: 0.0319 - val_loss: 0.0407 - val_mae: 0.1213 - val_mse: 0.0407\n",
            "Epoch 10/30\n",
            "1736/1736 [==============================] - 25s 14ms/step - loss: 0.0300 - mae: 0.1130 - mse: 0.0300 - val_loss: 0.0396 - val_mae: 0.1234 - val_mse: 0.0396\n",
            "Epoch 11/30\n",
            "1736/1736 [==============================] - 25s 14ms/step - loss: 0.0289 - mae: 0.1102 - mse: 0.0289 - val_loss: 0.0262 - val_mae: 0.1127 - val_mse: 0.0262\n",
            "Epoch 12/30\n",
            "1736/1736 [==============================] - 25s 14ms/step - loss: 0.0275 - mae: 0.1084 - mse: 0.0275 - val_loss: 0.0273 - val_mae: 0.0971 - val_mse: 0.0273\n",
            "Epoch 13/30\n",
            "1736/1736 [==============================] - 25s 14ms/step - loss: 0.0270 - mae: 0.1065 - mse: 0.0270 - val_loss: 0.0547 - val_mae: 0.1354 - val_mse: 0.0547\n",
            "Epoch 14/30\n",
            "1736/1736 [==============================] - 25s 14ms/step - loss: 0.0262 - mae: 0.1047 - mse: 0.0262 - val_loss: 0.0263 - val_mae: 0.1054 - val_mse: 0.0263\n",
            "Epoch 15/30\n",
            "1736/1736 [==============================] - 25s 14ms/step - loss: 0.0253 - mae: 0.1025 - mse: 0.0253 - val_loss: 0.0336 - val_mae: 0.1106 - val_mse: 0.0336\n",
            "Epoch 16/30\n",
            "1736/1736 [==============================] - 25s 15ms/step - loss: 0.0239 - mae: 0.1002 - mse: 0.0239 - val_loss: 0.0269 - val_mae: 0.1062 - val_mse: 0.0269\n",
            "Epoch 17/30\n",
            "1736/1736 [==============================] - 25s 14ms/step - loss: 0.0234 - mae: 0.0992 - mse: 0.0234 - val_loss: 0.0242 - val_mae: 0.0923 - val_mse: 0.0242\n",
            "Epoch 18/30\n",
            "1736/1736 [==============================] - 25s 15ms/step - loss: 0.0231 - mae: 0.0983 - mse: 0.0231 - val_loss: 0.0309 - val_mae: 0.0994 - val_mse: 0.0309\n",
            "Epoch 19/30\n",
            "1736/1736 [==============================] - 25s 15ms/step - loss: 0.0227 - mae: 0.0974 - mse: 0.0227 - val_loss: 0.0334 - val_mae: 0.1035 - val_mse: 0.0334\n",
            "Epoch 20/30\n",
            "1736/1736 [==============================] - 25s 14ms/step - loss: 0.0218 - mae: 0.0957 - mse: 0.0218 - val_loss: 0.0245 - val_mae: 0.0894 - val_mse: 0.0245\n",
            "Epoch 21/30\n",
            "1736/1736 [==============================] - 25s 15ms/step - loss: 0.0210 - mae: 0.0941 - mse: 0.0210 - val_loss: 0.0357 - val_mae: 0.1068 - val_mse: 0.0357\n",
            "Epoch 22/30\n",
            "1736/1736 [==============================] - 25s 14ms/step - loss: 0.0208 - mae: 0.0933 - mse: 0.0208 - val_loss: 0.0230 - val_mae: 0.0889 - val_mse: 0.0230\n",
            "Epoch 23/30\n",
            "1736/1736 [==============================] - 25s 14ms/step - loss: 0.0198 - mae: 0.0911 - mse: 0.0198 - val_loss: 0.0265 - val_mae: 0.0939 - val_mse: 0.0265\n",
            "Epoch 24/30\n",
            "1736/1736 [==============================] - 25s 14ms/step - loss: 0.0199 - mae: 0.0916 - mse: 0.0199 - val_loss: 0.0283 - val_mae: 0.0904 - val_mse: 0.0283\n",
            "Epoch 25/30\n",
            "1736/1736 [==============================] - 25s 15ms/step - loss: 0.0188 - mae: 0.0893 - mse: 0.0188 - val_loss: 0.0269 - val_mae: 0.0938 - val_mse: 0.0269\n",
            "Epoch 26/30\n",
            "1736/1736 [==============================] - 25s 14ms/step - loss: 0.0192 - mae: 0.0903 - mse: 0.0192 - val_loss: 0.0369 - val_mae: 0.1108 - val_mse: 0.0369\n",
            "Epoch 27/30\n",
            "1736/1736 [==============================] - 25s 15ms/step - loss: 0.0183 - mae: 0.0880 - mse: 0.0183 - val_loss: 0.0321 - val_mae: 0.1056 - val_mse: 0.0321\n",
            "Epoch 28/30\n",
            "1736/1736 [==============================] - 25s 14ms/step - loss: 0.0182 - mae: 0.0879 - mse: 0.0182 - val_loss: 0.0292 - val_mae: 0.0939 - val_mse: 0.0292\n",
            "Epoch 29/30\n",
            "1736/1736 [==============================] - 25s 14ms/step - loss: 0.0177 - mae: 0.0868 - mse: 0.0177 - val_loss: 0.0487 - val_mae: 0.1170 - val_mse: 0.0487\n",
            "Epoch 30/30\n",
            "1736/1736 [==============================] - 25s 15ms/step - loss: 0.0172 - mae: 0.0857 - mse: 0.0172 - val_loss: 0.0328 - val_mae: 0.1024 - val_mse: 0.0328\n"
          ],
          "name": "stdout"
        }
      ]
    },
    {
      "cell_type": "code",
      "metadata": {
        "id": "FBm7F4wpcJln"
      },
      "source": [
        "score = model_priors.evaluate(X_test, Y_test, verbose=0)"
      ],
      "execution_count": 8,
      "outputs": []
    },
    {
      "cell_type": "code",
      "metadata": {
        "colab": {
          "base_uri": "https://localhost:8080/"
        },
        "id": "f_H972-VnzTg",
        "outputId": "4d722b97-7ecc-475c-f340-1f10da24c414"
      },
      "source": [
        "print(len(score))\r\n",
        "print('Test loss:', score[0])\r\n",
        "print('Test mae:', score[1])\r\n",
        "print('Test mse:', score[2])"
      ],
      "execution_count": 9,
      "outputs": [
        {
          "output_type": "stream",
          "text": [
            "3\n",
            "Test loss: 0.03279639035463333\n",
            "Test mae: 0.10237310081720352\n",
            "Test mse: 0.03279639035463333\n"
          ],
          "name": "stdout"
        }
      ]
    },
    {
      "cell_type": "code",
      "metadata": {
        "colab": {
          "base_uri": "https://localhost:8080/"
        },
        "id": "hyzyprFE3M1Q",
        "outputId": "95e10c12-d8a2-40d6-ba1c-8f6bb25488b5"
      },
      "source": [
        "model_priors.save('model_priors')"
      ],
      "execution_count": 10,
      "outputs": [
        {
          "output_type": "stream",
          "text": [
            "INFO:tensorflow:Assets written to: model_priors/assets\n"
          ],
          "name": "stdout"
        }
      ]
    },
    {
      "cell_type": "code",
      "metadata": {
        "colab": {
          "base_uri": "https://localhost:8080/"
        },
        "id": "q6uVuGsy3M1b",
        "outputId": "8408b0db-89d9-433a-ea8f-b6e5fba71b43"
      },
      "source": [
        "X_10 = X_test[:10]\n",
        "Y_10 = Y_test[:10]\n",
        "print(X_10.shape)\n",
        "print(Y_10.shape)\n",
        "\n",
        "Y_pred_10 = model_priors.predict(X_10)\n",
        "\n",
        "for i in range(10):\n",
        "  print(f\"Sample {i}: predicted = {Y_pred_10[i][0]} / true = {Y_10[i]}\")"
      ],
      "execution_count": 11,
      "outputs": [
        {
          "output_type": "stream",
          "text": [
            "(10, 15, 9, 9)\n",
            "(10,)\n",
            "Sample 0: predicted = 0.0 / true = 0.0\n",
            "Sample 1: predicted = 0.9792319536209106 / true = 1.0\n",
            "Sample 2: predicted = 0.9763538837432861 / true = 1.0\n",
            "Sample 3: predicted = 0.0 / true = 0.0\n",
            "Sample 4: predicted = 0.2720310091972351 / true = 0.23\n",
            "Sample 5: predicted = 0.703839123249054 / true = 0.61\n",
            "Sample 6: predicted = 0.9574737548828125 / true = 0.85\n",
            "Sample 7: predicted = 0.33598750829696655 / true = 0.42\n",
            "Sample 8: predicted = 0.0 / true = 0.0\n",
            "Sample 9: predicted = 0.672990620136261 / true = 0.79\n"
          ],
          "name": "stdout"
        }
      ]
    }
  ]
}