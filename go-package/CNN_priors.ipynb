{
  "nbformat": 4,
  "nbformat_minor": 0,
  "metadata": {
    "accelerator": "GPU",
    "colab": {
      "name": "CNN_priors.ipynb",
      "provenance": [],
      "collapsed_sections": [],
      "toc_visible": true
    },
    "kernelspec": {
      "display_name": "Python 3",
      "language": "python",
      "name": "python3"
    },
    "language_info": {
      "codemirror_mode": {
        "name": "ipython",
        "version": 3
      },
      "file_extension": ".py",
      "mimetype": "text/x-python",
      "name": "python",
      "nbconvert_exporter": "python",
      "pygments_lexer": "ipython3",
      "version": "3.7.9"
    }
  },
  "cells": [
    {
      "cell_type": "markdown",
      "metadata": {
        "id": "ClVitoOygOyQ"
      },
      "source": [
        "<font color=\"lightblue\">\n",
        "\n",
        "**GERMON Paul et MARTIN Hugo**\n",
        "\n",
        "</font>"
      ]
    },
    {
      "cell_type": "code",
      "metadata": {
        "id": "L56EhGBIeLtn"
      },
      "source": [
        "import Goban\n",
        "import dataset_builder as db"
      ],
      "execution_count": 6,
      "outputs": []
    },
    {
      "cell_type": "code",
      "metadata": {
        "id": "ESucC5AicJks"
      },
      "source": [
        "import numpy as np\n",
        "from sklearn.model_selection import train_test_split\n",
        "import gzip, os.path\n",
        "import json\n",
        "%matplotlib inline\n",
        "import matplotlib.pyplot as plt"
      ],
      "execution_count": 7,
      "outputs": []
    },
    {
      "cell_type": "code",
      "metadata": {
        "id": "631asENzcJk1"
      },
      "source": [
        "import tensorflow.keras\n",
        "from tensorflow.keras.models import Sequential\n",
        "from tensorflow.keras.layers import Input, Dense, Dropout, Activation, Flatten\n",
        "from tensorflow.keras.layers import Conv2D, BatchNormalization\n",
        "import tensorflow.keras.optimizers as optimizers"
      ],
      "execution_count": 8,
      "outputs": []
    },
    {
      "cell_type": "code",
      "metadata": {
        "colab": {
          "base_uri": "https://localhost:8080/"
        },
        "id": "lcA12UDM3Mzv",
        "outputId": "9aa9a602-1ccf-4ee0-c499-3d6d4ec1e1f6"
      },
      "source": [
        "data = db.get_raw_data_go(\"https://www.labri.fr/perso/lsimon/ia-inge2/samples-9x9.json.gz\",\"samples-9x9.json.gz\")\n",
        "print(\"We have\", len(data),\"examples\")"
      ],
      "execution_count": 9,
      "outputs": [
        {
          "output_type": "stream",
          "text": [
            "File samples-9x9.json.gz not found, I am downloading it... Done\n",
            "We have 41563 examples\n"
          ],
          "name": "stdout"
        }
      ]
    },
    {
      "cell_type": "code",
      "metadata": {
        "id": "Vq-YEmOy3M0i",
        "colab": {
          "base_uri": "https://localhost:8080/"
        },
        "outputId": "851c78f2-36f8-4178-e4fe-4717fa4758a9"
      },
      "source": [
        "board_size = 9\n",
        "\n",
        "X = db.build_dataset(data, board_size)\n",
        "Y = db.get_winning_priors(data)\n",
        "\n",
        "print(X.shape)\n",
        "print(Y.shape)"
      ],
      "execution_count": 10,
      "outputs": [
        {
          "output_type": "stream",
          "text": [
            "(41563, 3, 9, 9)\n",
            "(41563,)\n"
          ],
          "name": "stdout"
        }
      ]
    },
    {
      "cell_type": "code",
      "metadata": {
        "id": "7A149llweLtq",
        "colab": {
          "base_uri": "https://localhost:8080/"
        },
        "outputId": "f81235d2-c9da-4b5b-8c24-1e136d9c0f94"
      },
      "source": [
        "enlarged_X, enlarged_Y = db.enlarge_dataset(X, Y)\n",
        "\n",
        "print(enlarged_X.shape)\n",
        "print(enlarged_Y.shape)"
      ],
      "execution_count": 11,
      "outputs": [
        {
          "output_type": "stream",
          "text": [
            "(332504, 3, 9, 9)\n",
            "(332504,)\n"
          ],
          "name": "stdout"
        }
      ]
    },
    {
      "cell_type": "code",
      "metadata": {
        "id": "qqSD6D3eeLtr"
      },
      "source": [
        "# Séparation des données d'entrée en un training set et un test set\n",
        "X_train, X_test, Y_train, Y_test = train_test_split(enlarged_X, enlarged_Y, test_size=0.33, shuffle=True)"
      ],
      "execution_count": 12,
      "outputs": []
    },
    {
      "cell_type": "code",
      "metadata": {
        "colab": {
          "base_uri": "https://localhost:8080/"
        },
        "id": "qgxbomiX3M0u",
        "outputId": "8abb758f-5d5d-4160-9fbf-3a79ed56d777"
      },
      "source": [
        "print(f\"X.shape = {enlarged_X.shape}\")\n",
        "print(f\"Y.shape = {enlarged_Y.shape}\")\n",
        "print(f\"X_train.shape = {X_train.shape}\")\n",
        "print(f\"X_test.shape = {X_test.shape}\")\n",
        "print(f\"Y_train.shape = {Y_train.shape}\")\n",
        "print(f\"Y_test.shape = {Y_test.shape}\")"
      ],
      "execution_count": 13,
      "outputs": [
        {
          "output_type": "stream",
          "text": [
            "X.shape = (332504, 3, 9, 9)\n",
            "Y.shape = (332504,)\n",
            "X_train.shape = (222777, 3, 9, 9)\n",
            "X_test.shape = (109727, 3, 9, 9)\n",
            "Y_train.shape = (222777,)\n",
            "Y_test.shape = (109727,)\n"
          ],
          "name": "stdout"
        }
      ]
    },
    {
      "cell_type": "markdown",
      "metadata": {
        "id": "HwRh2s8ReLtr"
      },
      "source": [
        "# Model training"
      ]
    },
    {
      "cell_type": "code",
      "metadata": {
        "id": "UkzbwkNb3M03"
      },
      "source": [
        "model_priors = Sequential()\n",
        "\n",
        "# 1 Conv2D 128 filters\n",
        "model_priors.add(Conv2D(filters = 128,\n",
        "                 kernel_size = (3,3),\n",
        "                 padding = 'same',\n",
        "                 data_format = 'channels_first',\n",
        "                 input_shape = X.shape[1:]))\n",
        "model_priors.add(BatchNormalization())\n",
        "model_priors.add(Activation('relu'))\n",
        "\n",
        "# 3 Conv2D 64 filters\n",
        "model_priors.add(Conv2D(filters = 64,\n",
        "                 kernel_size = (3,3),\n",
        "                 padding = 'same',\n",
        "                 data_format = 'channels_first',\n",
        "                 input_shape = X.shape[1:]))\n",
        "model_priors.add(BatchNormalization())\n",
        "model_priors.add(Activation('relu'))\n",
        "\n",
        "model_priors.add(Conv2D(filters = 64,\n",
        "                 kernel_size = (3,3),\n",
        "                 padding = 'same',\n",
        "                 data_format = 'channels_first',\n",
        "                 input_shape = X.shape[1:]))\n",
        "model_priors.add(BatchNormalization())\n",
        "model_priors.add(Activation('relu'))\n",
        "\n",
        "model_priors.add(Conv2D(filters = 64,\n",
        "                 kernel_size = (3,3),\n",
        "                 padding = 'same',\n",
        "                 data_format = 'channels_first',\n",
        "                 input_shape = X.shape[1:]))\n",
        "model_priors.add(BatchNormalization())\n",
        "model_priors.add(Activation('relu'))\n",
        "\n",
        "# 5 Conv2D 32 filters\n",
        "model_priors.add(Conv2D(filters = 32,\n",
        "                 kernel_size = (3,3),\n",
        "                 padding = 'same',\n",
        "                 data_format = 'channels_first',\n",
        "                 input_shape = X.shape[1:]))\n",
        "model_priors.add(BatchNormalization())\n",
        "model_priors.add(Activation('relu'))\n",
        "\n",
        "model_priors.add(Conv2D(filters = 32,\n",
        "                 kernel_size = (3,3),\n",
        "                 padding = 'same',\n",
        "                 data_format = 'channels_first',\n",
        "                 input_shape = X.shape[1:]))\n",
        "model_priors.add(BatchNormalization())\n",
        "model_priors.add(Activation('relu'))\n",
        "\n",
        "model_priors.add(Conv2D(filters = 32,\n",
        "                 kernel_size = (3,3),\n",
        "                 padding = 'same',\n",
        "                 data_format = 'channels_first',\n",
        "                 input_shape = X.shape[1:]))\n",
        "model_priors.add(BatchNormalization())\n",
        "model_priors.add(Activation('relu'))\n",
        "\n",
        "model_priors.add(Conv2D(filters = 32,\n",
        "                 kernel_size = (3,3),\n",
        "                 padding = 'same',\n",
        "                 data_format = 'channels_first',\n",
        "                 input_shape = X.shape[1:]))\n",
        "model_priors.add(BatchNormalization())\n",
        "model_priors.add(Activation('relu'))\n",
        "\n",
        "model_priors.add(Conv2D(filters = 32,\n",
        "                 kernel_size = (3,3),\n",
        "                 padding = 'same',\n",
        "                 data_format = 'channels_first',\n",
        "                 input_shape = X.shape[1:]))\n",
        "model_priors.add(BatchNormalization())\n",
        "model_priors.add(Activation('relu'))\n",
        "\n",
        "\n",
        "# 3 Conv 2D 16 filters\n",
        "model_priors.add(Conv2D(filters = 16,\n",
        "                 kernel_size = (3,3),\n",
        "                 padding = 'same',\n",
        "                 data_format = 'channels_first',\n",
        "                 input_shape = X.shape[1:]))\n",
        "model_priors.add(BatchNormalization())\n",
        "model_priors.add(Activation('relu'))\n",
        "\n",
        "model_priors.add(Conv2D(filters = 16,\n",
        "                 kernel_size = (3,3),\n",
        "                 padding = 'same',\n",
        "                 data_format = 'channels_first',\n",
        "                 input_shape = X.shape[1:]))\n",
        "model_priors.add(BatchNormalization())\n",
        "model_priors.add(Activation('relu'))\n",
        "\n",
        "model_priors.add(Conv2D(filters = 16,\n",
        "                 kernel_size = (3,3),\n",
        "                 padding = 'same',\n",
        "                 data_format = 'channels_first',\n",
        "                 input_shape = X.shape[1:]))\n",
        "model_priors.add(BatchNormalization())\n",
        "model_priors.add(Activation('relu'))\n",
        "\n",
        "model_priors.add(Flatten())\n",
        "\n",
        "# 3 Dense 160 neurons\n",
        "model_priors.add(Dense(160))\n",
        "model_priors.add(BatchNormalization())\n",
        "model_priors.add(Activation('relu'))\n",
        "model_priors.add(Dropout(0.5))\n",
        "\n",
        "model_priors.add(Dense(160))\n",
        "model_priors.add(BatchNormalization())\n",
        "model_priors.add(Activation('relu'))\n",
        "model_priors.add(Dropout(0.5))\n",
        "\n",
        "model_priors.add(Dense(160))\n",
        "model_priors.add(BatchNormalization())\n",
        "model_priors.add(Activation('relu'))\n",
        "model_priors.add(Dropout(0.5))\n",
        "\n",
        "model_priors.add(Dense(1, activation='relu'))\n",
        "\n",
        "model_priors.compile(loss='mse',\n",
        "              optimizer='adam',\n",
        "              metrics=['mae', 'mse'])"
      ],
      "execution_count": 14,
      "outputs": []
    },
    {
      "cell_type": "code",
      "metadata": {
        "colab": {
          "base_uri": "https://localhost:8080/"
        },
        "id": "w-5OBvEp3M0-",
        "outputId": "764e6763-45a7-4c21-c20b-e72e12cde972"
      },
      "source": [
        "model_priors.summary()"
      ],
      "execution_count": 15,
      "outputs": [
        {
          "output_type": "stream",
          "text": [
            "Model: \"sequential\"\n",
            "_________________________________________________________________\n",
            "Layer (type)                 Output Shape              Param #   \n",
            "=================================================================\n",
            "conv2d (Conv2D)              (None, 128, 9, 9)         3584      \n",
            "_________________________________________________________________\n",
            "batch_normalization (BatchNo (None, 128, 9, 9)         36        \n",
            "_________________________________________________________________\n",
            "activation (Activation)      (None, 128, 9, 9)         0         \n",
            "_________________________________________________________________\n",
            "conv2d_1 (Conv2D)            (None, 64, 9, 9)          73792     \n",
            "_________________________________________________________________\n",
            "batch_normalization_1 (Batch (None, 64, 9, 9)          36        \n",
            "_________________________________________________________________\n",
            "activation_1 (Activation)    (None, 64, 9, 9)          0         \n",
            "_________________________________________________________________\n",
            "conv2d_2 (Conv2D)            (None, 64, 9, 9)          36928     \n",
            "_________________________________________________________________\n",
            "batch_normalization_2 (Batch (None, 64, 9, 9)          36        \n",
            "_________________________________________________________________\n",
            "activation_2 (Activation)    (None, 64, 9, 9)          0         \n",
            "_________________________________________________________________\n",
            "conv2d_3 (Conv2D)            (None, 64, 9, 9)          36928     \n",
            "_________________________________________________________________\n",
            "batch_normalization_3 (Batch (None, 64, 9, 9)          36        \n",
            "_________________________________________________________________\n",
            "activation_3 (Activation)    (None, 64, 9, 9)          0         \n",
            "_________________________________________________________________\n",
            "conv2d_4 (Conv2D)            (None, 32, 9, 9)          18464     \n",
            "_________________________________________________________________\n",
            "batch_normalization_4 (Batch (None, 32, 9, 9)          36        \n",
            "_________________________________________________________________\n",
            "activation_4 (Activation)    (None, 32, 9, 9)          0         \n",
            "_________________________________________________________________\n",
            "conv2d_5 (Conv2D)            (None, 32, 9, 9)          9248      \n",
            "_________________________________________________________________\n",
            "batch_normalization_5 (Batch (None, 32, 9, 9)          36        \n",
            "_________________________________________________________________\n",
            "activation_5 (Activation)    (None, 32, 9, 9)          0         \n",
            "_________________________________________________________________\n",
            "conv2d_6 (Conv2D)            (None, 32, 9, 9)          9248      \n",
            "_________________________________________________________________\n",
            "batch_normalization_6 (Batch (None, 32, 9, 9)          36        \n",
            "_________________________________________________________________\n",
            "activation_6 (Activation)    (None, 32, 9, 9)          0         \n",
            "_________________________________________________________________\n",
            "conv2d_7 (Conv2D)            (None, 32, 9, 9)          9248      \n",
            "_________________________________________________________________\n",
            "batch_normalization_7 (Batch (None, 32, 9, 9)          36        \n",
            "_________________________________________________________________\n",
            "activation_7 (Activation)    (None, 32, 9, 9)          0         \n",
            "_________________________________________________________________\n",
            "conv2d_8 (Conv2D)            (None, 32, 9, 9)          9248      \n",
            "_________________________________________________________________\n",
            "batch_normalization_8 (Batch (None, 32, 9, 9)          36        \n",
            "_________________________________________________________________\n",
            "activation_8 (Activation)    (None, 32, 9, 9)          0         \n",
            "_________________________________________________________________\n",
            "conv2d_9 (Conv2D)            (None, 16, 9, 9)          4624      \n",
            "_________________________________________________________________\n",
            "batch_normalization_9 (Batch (None, 16, 9, 9)          36        \n",
            "_________________________________________________________________\n",
            "activation_9 (Activation)    (None, 16, 9, 9)          0         \n",
            "_________________________________________________________________\n",
            "conv2d_10 (Conv2D)           (None, 16, 9, 9)          2320      \n",
            "_________________________________________________________________\n",
            "batch_normalization_10 (Batc (None, 16, 9, 9)          36        \n",
            "_________________________________________________________________\n",
            "activation_10 (Activation)   (None, 16, 9, 9)          0         \n",
            "_________________________________________________________________\n",
            "conv2d_11 (Conv2D)           (None, 16, 9, 9)          2320      \n",
            "_________________________________________________________________\n",
            "batch_normalization_11 (Batc (None, 16, 9, 9)          36        \n",
            "_________________________________________________________________\n",
            "activation_11 (Activation)   (None, 16, 9, 9)          0         \n",
            "_________________________________________________________________\n",
            "flatten (Flatten)            (None, 1296)              0         \n",
            "_________________________________________________________________\n",
            "dense (Dense)                (None, 160)               207520    \n",
            "_________________________________________________________________\n",
            "batch_normalization_12 (Batc (None, 160)               640       \n",
            "_________________________________________________________________\n",
            "activation_12 (Activation)   (None, 160)               0         \n",
            "_________________________________________________________________\n",
            "dropout (Dropout)            (None, 160)               0         \n",
            "_________________________________________________________________\n",
            "dense_1 (Dense)              (None, 160)               25760     \n",
            "_________________________________________________________________\n",
            "batch_normalization_13 (Batc (None, 160)               640       \n",
            "_________________________________________________________________\n",
            "activation_13 (Activation)   (None, 160)               0         \n",
            "_________________________________________________________________\n",
            "dropout_1 (Dropout)          (None, 160)               0         \n",
            "_________________________________________________________________\n",
            "dense_2 (Dense)              (None, 160)               25760     \n",
            "_________________________________________________________________\n",
            "batch_normalization_14 (Batc (None, 160)               640       \n",
            "_________________________________________________________________\n",
            "activation_14 (Activation)   (None, 160)               0         \n",
            "_________________________________________________________________\n",
            "dropout_2 (Dropout)          (None, 160)               0         \n",
            "_________________________________________________________________\n",
            "dense_3 (Dense)              (None, 1)                 161       \n",
            "=================================================================\n",
            "Total params: 477,505\n",
            "Trainable params: 476,329\n",
            "Non-trainable params: 1,176\n",
            "_________________________________________________________________\n"
          ],
          "name": "stdout"
        }
      ]
    },
    {
      "cell_type": "code",
      "metadata": {
        "colab": {
          "base_uri": "https://localhost:8080/"
        },
        "id": "D8GQh2Cx3M1H",
        "outputId": "02586a1d-e460-44cc-cf9e-4805e419e2ab"
      },
      "source": [
        "epochs = 30\n",
        "batch_size = 128\n",
        "\n",
        "history = model_priors.fit(X_train, Y_train,\n",
        "          batch_size=batch_size,\n",
        "          epochs=epochs,\n",
        "          verbose=1,\n",
        "          validation_data=(X_test, Y_test),\n",
        "          shuffle=True)"
      ],
      "execution_count": 16,
      "outputs": [
        {
          "output_type": "stream",
          "text": [
            "Epoch 1/30\n",
            "1741/1741 [==============================] - 24s 14ms/step - loss: 0.1437 - mae: 0.2977 - mse: 0.1437 - val_loss: 0.0977 - val_mae: 0.2653 - val_mse: 0.0977\n",
            "Epoch 2/30\n",
            "1741/1741 [==============================] - 24s 14ms/step - loss: 0.0693 - mae: 0.1947 - mse: 0.0693 - val_loss: 0.0703 - val_mae: 0.1895 - val_mse: 0.0703\n",
            "Epoch 3/30\n",
            "1741/1741 [==============================] - 24s 14ms/step - loss: 0.0467 - mae: 0.1494 - mse: 0.0467 - val_loss: 0.1037 - val_mae: 0.2155 - val_mse: 0.1037\n",
            "Epoch 4/30\n",
            "1741/1741 [==============================] - 24s 14ms/step - loss: 0.0416 - mae: 0.1384 - mse: 0.0416 - val_loss: 0.1304 - val_mae: 0.2593 - val_mse: 0.1304\n",
            "Epoch 5/30\n",
            "1741/1741 [==============================] - 24s 14ms/step - loss: 0.0387 - mae: 0.1321 - mse: 0.0387 - val_loss: 0.0405 - val_mae: 0.1187 - val_mse: 0.0405\n",
            "Epoch 6/30\n",
            "1741/1741 [==============================] - 25s 14ms/step - loss: 0.0357 - mae: 0.1258 - mse: 0.0357 - val_loss: 0.0463 - val_mae: 0.1363 - val_mse: 0.0463\n",
            "Epoch 7/30\n",
            "1741/1741 [==============================] - 24s 14ms/step - loss: 0.0342 - mae: 0.1222 - mse: 0.0342 - val_loss: 0.0679 - val_mae: 0.1650 - val_mse: 0.0679\n",
            "Epoch 8/30\n",
            "1741/1741 [==============================] - 24s 14ms/step - loss: 0.0324 - mae: 0.1183 - mse: 0.0324 - val_loss: 0.0376 - val_mae: 0.1139 - val_mse: 0.0376\n",
            "Epoch 9/30\n",
            "1741/1741 [==============================] - 24s 14ms/step - loss: 0.0314 - mae: 0.1161 - mse: 0.0314 - val_loss: 0.0318 - val_mae: 0.1125 - val_mse: 0.0318\n",
            "Epoch 10/30\n",
            "1741/1741 [==============================] - 25s 14ms/step - loss: 0.0306 - mae: 0.1141 - mse: 0.0306 - val_loss: 0.0666 - val_mae: 0.1713 - val_mse: 0.0666\n",
            "Epoch 11/30\n",
            "1741/1741 [==============================] - 24s 14ms/step - loss: 0.0294 - mae: 0.1115 - mse: 0.0294 - val_loss: 0.0631 - val_mae: 0.1673 - val_mse: 0.0631\n",
            "Epoch 12/30\n",
            "1741/1741 [==============================] - 24s 14ms/step - loss: 0.0288 - mae: 0.1103 - mse: 0.0288 - val_loss: 0.0268 - val_mae: 0.0997 - val_mse: 0.0268\n",
            "Epoch 13/30\n",
            "1741/1741 [==============================] - 24s 14ms/step - loss: 0.0275 - mae: 0.1074 - mse: 0.0275 - val_loss: 0.0275 - val_mae: 0.1009 - val_mse: 0.0275\n",
            "Epoch 14/30\n",
            "1741/1741 [==============================] - 24s 14ms/step - loss: 0.0270 - mae: 0.1061 - mse: 0.0270 - val_loss: 0.0283 - val_mae: 0.1147 - val_mse: 0.0283\n",
            "Epoch 15/30\n",
            "1741/1741 [==============================] - 24s 14ms/step - loss: 0.0260 - mae: 0.1044 - mse: 0.0260 - val_loss: 0.0263 - val_mae: 0.0984 - val_mse: 0.0263\n",
            "Epoch 16/30\n",
            "1741/1741 [==============================] - 24s 14ms/step - loss: 0.0255 - mae: 0.1033 - mse: 0.0255 - val_loss: 0.0263 - val_mae: 0.0928 - val_mse: 0.0263\n",
            "Epoch 17/30\n",
            "1741/1741 [==============================] - 24s 14ms/step - loss: 0.0249 - mae: 0.1021 - mse: 0.0249 - val_loss: 0.0334 - val_mae: 0.1061 - val_mse: 0.0334\n",
            "Epoch 18/30\n",
            "1741/1741 [==============================] - 24s 14ms/step - loss: 0.0240 - mae: 0.1002 - mse: 0.0240 - val_loss: 0.0321 - val_mae: 0.1145 - val_mse: 0.0321\n",
            "Epoch 19/30\n",
            "1741/1741 [==============================] - 24s 14ms/step - loss: 0.0236 - mae: 0.0992 - mse: 0.0236 - val_loss: 0.0358 - val_mae: 0.1156 - val_mse: 0.0358\n",
            "Epoch 20/30\n",
            "1741/1741 [==============================] - 24s 14ms/step - loss: 0.0231 - mae: 0.0980 - mse: 0.0231 - val_loss: 0.0386 - val_mae: 0.1157 - val_mse: 0.0386\n",
            "Epoch 21/30\n",
            "1741/1741 [==============================] - 24s 14ms/step - loss: 0.0221 - mae: 0.0960 - mse: 0.0221 - val_loss: 0.0321 - val_mae: 0.0993 - val_mse: 0.0321\n",
            "Epoch 22/30\n",
            "1741/1741 [==============================] - 25s 14ms/step - loss: 0.0219 - mae: 0.0954 - mse: 0.0219 - val_loss: 0.0250 - val_mae: 0.0971 - val_mse: 0.0250\n",
            "Epoch 23/30\n",
            "1741/1741 [==============================] - 25s 14ms/step - loss: 0.0218 - mae: 0.0952 - mse: 0.0218 - val_loss: 0.0260 - val_mae: 0.0935 - val_mse: 0.0260\n",
            "Epoch 24/30\n",
            "1741/1741 [==============================] - 24s 14ms/step - loss: 0.0212 - mae: 0.0940 - mse: 0.0212 - val_loss: 0.0252 - val_mae: 0.1021 - val_mse: 0.0252\n",
            "Epoch 25/30\n",
            "1741/1741 [==============================] - 24s 14ms/step - loss: 0.0205 - mae: 0.0929 - mse: 0.0205 - val_loss: 0.0432 - val_mae: 0.1374 - val_mse: 0.0432\n",
            "Epoch 26/30\n",
            "1741/1741 [==============================] - 24s 14ms/step - loss: 0.0208 - mae: 0.0932 - mse: 0.0208 - val_loss: 0.0258 - val_mae: 0.0994 - val_mse: 0.0258\n",
            "Epoch 27/30\n",
            "1741/1741 [==============================] - 24s 14ms/step - loss: 0.0199 - mae: 0.0916 - mse: 0.0199 - val_loss: 0.0266 - val_mae: 0.0977 - val_mse: 0.0266\n",
            "Epoch 28/30\n",
            "1741/1741 [==============================] - 24s 14ms/step - loss: 0.0196 - mae: 0.0909 - mse: 0.0196 - val_loss: 0.0389 - val_mae: 0.1120 - val_mse: 0.0389\n",
            "Epoch 29/30\n",
            "1741/1741 [==============================] - 25s 14ms/step - loss: 0.0193 - mae: 0.0901 - mse: 0.0193 - val_loss: 0.0254 - val_mae: 0.0938 - val_mse: 0.0254\n",
            "Epoch 30/30\n",
            "1741/1741 [==============================] - 24s 14ms/step - loss: 0.0188 - mae: 0.0893 - mse: 0.0188 - val_loss: 0.0328 - val_mae: 0.1099 - val_mse: 0.0328\n"
          ],
          "name": "stdout"
        }
      ]
    },
    {
      "cell_type": "code",
      "metadata": {
        "id": "FBm7F4wpcJln"
      },
      "source": [
        "score = model_priors.evaluate(X_test, Y_test, verbose=0)"
      ],
      "execution_count": 17,
      "outputs": []
    },
    {
      "cell_type": "code",
      "metadata": {
        "colab": {
          "base_uri": "https://localhost:8080/"
        },
        "id": "f_H972-VnzTg",
        "outputId": "8ddf7f84-85b4-47a0-fdf8-ef6d412c8fb9"
      },
      "source": [
        "print(len(score))\r\n",
        "print('Test loss:', score[0])\r\n",
        "print('Test mae:', score[1])\r\n",
        "print('Test mse:', score[2])"
      ],
      "execution_count": 18,
      "outputs": [
        {
          "output_type": "stream",
          "text": [
            "3\n",
            "Test loss: 0.03284333273768425\n",
            "Test mae: 0.10987913608551025\n",
            "Test mse: 0.03284333273768425\n"
          ],
          "name": "stdout"
        }
      ]
    },
    {
      "cell_type": "code",
      "metadata": {
        "colab": {
          "base_uri": "https://localhost:8080/"
        },
        "id": "hyzyprFE3M1Q",
        "outputId": "59bba188-6c06-45c3-880e-297b2b587756"
      },
      "source": [
        "path = \"C:/Users/Lenovo/Documents/Paul/Travail/ENSEIRB-MATMECA/3A/Alpha-Go/alpha-go-like/priors/\"\n",
        "model_priors.save('model_priors')\n",
        "\n",
        "model_priors_json = model_priors.to_json()\n",
        "with open(\"model_priors.json\", \"w\") as json_file:\n",
        "    json_file.write(model_priors_json)\n",
        "# serialize weights to HDF5\n",
        "model_priors.save_weights(\"model_priors.h5\")\n",
        "print(\"Saved model to disk\")"
      ],
      "execution_count": 19,
      "outputs": [
        {
          "output_type": "stream",
          "text": [
            "WARNING:tensorflow:From /usr/local/lib/python3.6/dist-packages/tensorflow/python/training/tracking/tracking.py:111: Model.state_updates (from tensorflow.python.keras.engine.training) is deprecated and will be removed in a future version.\n",
            "Instructions for updating:\n",
            "This property should not be used in TensorFlow 2.0, as updates are applied automatically.\n",
            "WARNING:tensorflow:From /usr/local/lib/python3.6/dist-packages/tensorflow/python/training/tracking/tracking.py:111: Layer.updates (from tensorflow.python.keras.engine.base_layer) is deprecated and will be removed in a future version.\n",
            "Instructions for updating:\n",
            "This property should not be used in TensorFlow 2.0, as updates are applied automatically.\n",
            "INFO:tensorflow:Assets written to: model_priors/assets\n",
            "Saved model to disk\n"
          ],
          "name": "stdout"
        }
      ]
    },
    {
      "cell_type": "code",
      "metadata": {
        "colab": {
          "base_uri": "https://localhost:8080/"
        },
        "id": "q6uVuGsy3M1b",
        "outputId": "5d5a39c5-a799-41fd-9d5b-43da528ec97a"
      },
      "source": [
        "X_10 = X_test[:10]\n",
        "Y_10 = Y_test[:10]\n",
        "print(X_10.shape)\n",
        "print(Y_10.shape)\n",
        "\n",
        "Y_pred_10 = model_priors.predict(X_10)\n",
        "\n",
        "for i in range(10):\n",
        "  print(f\"Sample {i}: predicted = {Y_pred_10[i]} / true = {Y_10[i]}\")"
      ],
      "execution_count": 20,
      "outputs": [
        {
          "output_type": "stream",
          "text": [
            "(10, 3, 9, 9)\n",
            "(10,)\n",
            "Sample 0: predicted = [0.6540259] / true = 0.53\n",
            "Sample 1: predicted = [0.] / true = 0.0\n",
            "Sample 2: predicted = [0.] / true = 0.0\n",
            "Sample 3: predicted = [0.41661206] / true = 0.23\n",
            "Sample 4: predicted = [0.] / true = 0.01\n",
            "Sample 5: predicted = [0.5693151] / true = 0.43\n",
            "Sample 6: predicted = [0.5636389] / true = 0.46\n",
            "Sample 7: predicted = [0.] / true = 0.0\n",
            "Sample 8: predicted = [0.9462801] / true = 1.0\n",
            "Sample 9: predicted = [0.9470581] / true = 1.0\n"
          ],
          "name": "stdout"
        }
      ]
    }
  ]
}