{
  "nbformat": 4,
  "nbformat_minor": 0,
  "metadata": {
    "accelerator": "GPU",
    "colab": {
      "name": "CNN_priors.ipynb",
      "provenance": [],
      "collapsed_sections": [],
      "toc_visible": true
    },
    "kernelspec": {
      "display_name": "Python 3",
      "language": "python",
      "name": "python3"
    },
    "language_info": {
      "codemirror_mode": {
        "name": "ipython",
        "version": 3
      },
      "file_extension": ".py",
      "mimetype": "text/x-python",
      "name": "python",
      "nbconvert_exporter": "python",
      "pygments_lexer": "ipython3",
      "version": "3.7.9"
    }
  },
  "cells": [
    {
      "cell_type": "markdown",
      "metadata": {
        "id": "ClVitoOygOyQ"
      },
      "source": [
        "<font color=\"lightblue\">\n",
        "\n",
        "**GERMON Paul et MARTIN Hugo**\n",
        "\n",
        "</font>"
      ]
    },
    {
      "cell_type": "code",
      "metadata": {
        "id": "631asENzcJk1"
      },
      "source": [
        "import pickle\n",
        "import numpy as np\n",
        "from sklearn.model_selection import train_test_split\n",
        "\n",
        "import tensorflow.keras\n",
        "from tensorflow.keras.models import Sequential\n",
        "from tensorflow.keras.layers import Input, Dense, Dropout, Activation, Flatten\n",
        "from tensorflow.keras.layers import Conv2D, BatchNormalization\n",
        "import tensorflow.keras.optimizers as optimizers"
      ],
      "execution_count": 1,
      "outputs": []
    },
    {
      "cell_type": "code",
      "metadata": {
        "id": "A1JB6vfl45XJ",
        "colab": {
          "base_uri": "https://localhost:8080/"
        },
        "outputId": "a3bfe7e4-bb54-4f05-cfea-62d3328cab75"
      },
      "source": [
        "with open('pickle_enlarged_X', 'rb') as fx:\n",
        "    enlarged_X = pickle.load(fx)\n",
        "\n",
        "with open('pickle_enlarged_Y', 'rb') as fy:\n",
        "    enlarged_Y = pickle.load(fy)\n",
        "    \n",
        "print(\"enlarged_X.shape = \", enlarged_X.shape)\n",
        "print(\"enlarged_Y.shape = \", enlarged_Y.shape)"
      ],
      "execution_count": 3,
      "outputs": [
        {
          "output_type": "stream",
          "text": [
            "enlarged_X.shape =  (331584, 15, 9, 9)\n",
            "enlarged_Y.shape =  (331584,)\n"
          ],
          "name": "stdout"
        }
      ]
    },
    {
      "cell_type": "code",
      "metadata": {
        "id": "qqSD6D3eeLtr"
      },
      "source": [
        "# Séparation des données d'entrée en un training set et un test set\n",
        "X_train, X_test, Y_train, Y_test = train_test_split(enlarged_X, enlarged_Y, test_size=0.33, shuffle=True)"
      ],
      "execution_count": 4,
      "outputs": []
    },
    {
      "cell_type": "code",
      "metadata": {
        "colab": {
          "base_uri": "https://localhost:8080/"
        },
        "id": "qgxbomiX3M0u",
        "outputId": "ee91678b-00d4-4463-9ea9-4686ffba735a"
      },
      "source": [
        "print(f\"X_train.shape = {X_train.shape}\")\n",
        "print(f\"X_test.shape = {X_test.shape}\")\n",
        "print(f\"Y_train.shape = {Y_train.shape}\")\n",
        "print(f\"Y_test.shape = {Y_test.shape}\")"
      ],
      "execution_count": 5,
      "outputs": [
        {
          "output_type": "stream",
          "text": [
            "X_train.shape = (222161, 15, 9, 9)\n",
            "X_test.shape = (109423, 15, 9, 9)\n",
            "Y_train.shape = (222161,)\n",
            "Y_test.shape = (109423,)\n"
          ],
          "name": "stdout"
        }
      ]
    },
    {
      "cell_type": "markdown",
      "metadata": {
        "id": "HwRh2s8ReLtr"
      },
      "source": [
        "# Model training"
      ]
    },
    {
      "cell_type": "code",
      "metadata": {
        "id": "UkzbwkNb3M03"
      },
      "source": [
        "model_priors = Sequential()\n",
        "\n",
        "# 1 Conv2D 128 filters\n",
        "model_priors.add(Conv2D(filters = 128,\n",
        "                 kernel_size = (3,3),\n",
        "                 padding = 'same',\n",
        "                 data_format = 'channels_first',\n",
        "                 input_shape = X_train.shape[1:]))\n",
        "model_priors.add(BatchNormalization())\n",
        "model_priors.add(Activation('relu'))\n",
        "\n",
        "# 3 Conv2D 64 filters\n",
        "model_priors.add(Conv2D(filters = 64,\n",
        "                 kernel_size = (3,3),\n",
        "                 padding = 'same',\n",
        "                 data_format = 'channels_first',\n",
        "                 input_shape = X_train.shape[1:]))\n",
        "model_priors.add(BatchNormalization())\n",
        "model_priors.add(Activation('relu'))\n",
        "\n",
        "model_priors.add(Conv2D(filters = 64,\n",
        "                 kernel_size = (3,3),\n",
        "                 padding = 'same',\n",
        "                 data_format = 'channels_first',\n",
        "                 input_shape = X_train.shape[1:]))\n",
        "model_priors.add(BatchNormalization())\n",
        "model_priors.add(Activation('relu'))\n",
        "\n",
        "model_priors.add(Conv2D(filters = 64,\n",
        "                 kernel_size = (3,3),\n",
        "                 padding = 'same',\n",
        "                 data_format = 'channels_first',\n",
        "                 input_shape = X_train.shape[1:]))\n",
        "model_priors.add(BatchNormalization())\n",
        "model_priors.add(Activation('relu'))\n",
        "\n",
        "# 5 Conv2D 32 filters\n",
        "model_priors.add(Conv2D(filters = 32,\n",
        "                 kernel_size = (3,3),\n",
        "                 padding = 'same',\n",
        "                 data_format = 'channels_first',\n",
        "                 input_shape = X_train.shape[1:]))\n",
        "model_priors.add(BatchNormalization())\n",
        "model_priors.add(Activation('relu'))\n",
        "\n",
        "model_priors.add(Conv2D(filters = 32,\n",
        "                 kernel_size = (3,3),\n",
        "                 padding = 'same',\n",
        "                 data_format = 'channels_first',\n",
        "                 input_shape = X_train.shape[1:]))\n",
        "model_priors.add(BatchNormalization())\n",
        "model_priors.add(Activation('relu'))\n",
        "\n",
        "model_priors.add(Conv2D(filters = 32,\n",
        "                 kernel_size = (3,3),\n",
        "                 padding = 'same',\n",
        "                 data_format = 'channels_first',\n",
        "                 input_shape = X_train.shape[1:]))\n",
        "model_priors.add(BatchNormalization())\n",
        "model_priors.add(Activation('relu'))\n",
        "\n",
        "model_priors.add(Conv2D(filters = 32,\n",
        "                 kernel_size = (3,3),\n",
        "                 padding = 'same',\n",
        "                 data_format = 'channels_first',\n",
        "                 input_shape = X_train.shape[1:]))\n",
        "model_priors.add(BatchNormalization())\n",
        "model_priors.add(Activation('relu'))\n",
        "\n",
        "model_priors.add(Conv2D(filters = 32,\n",
        "                 kernel_size = (3,3),\n",
        "                 padding = 'same',\n",
        "                 data_format = 'channels_first',\n",
        "                 input_shape = X_train.shape[1:]))\n",
        "model_priors.add(BatchNormalization())\n",
        "model_priors.add(Activation('relu'))\n",
        "\n",
        "\n",
        "# 3 Conv 2D 16 filters\n",
        "model_priors.add(Conv2D(filters = 16,\n",
        "                 kernel_size = (3,3),\n",
        "                 padding = 'same',\n",
        "                 data_format = 'channels_first',\n",
        "                 input_shape = X_train.shape[1:]))\n",
        "model_priors.add(BatchNormalization())\n",
        "model_priors.add(Activation('relu'))\n",
        "\n",
        "model_priors.add(Conv2D(filters = 16,\n",
        "                 kernel_size = (3,3),\n",
        "                 padding = 'same',\n",
        "                 data_format = 'channels_first',\n",
        "                 input_shape = X_train.shape[1:]))\n",
        "model_priors.add(BatchNormalization())\n",
        "model_priors.add(Activation('relu'))\n",
        "\n",
        "model_priors.add(Conv2D(filters = 16,\n",
        "                 kernel_size = (3,3),\n",
        "                 padding = 'same',\n",
        "                 data_format = 'channels_first',\n",
        "                 input_shape = X_train.shape[1:]))\n",
        "model_priors.add(BatchNormalization())\n",
        "model_priors.add(Activation('relu'))\n",
        "\n",
        "model_priors.add(Flatten())\n",
        "\n",
        "# 3 Dense 160 neurons\n",
        "model_priors.add(Dense(160))\n",
        "model_priors.add(BatchNormalization())\n",
        "model_priors.add(Activation('relu'))\n",
        "model_priors.add(Dropout(0.5))\n",
        "\n",
        "model_priors.add(Dense(160))\n",
        "model_priors.add(BatchNormalization())\n",
        "model_priors.add(Activation('relu'))\n",
        "model_priors.add(Dropout(0.5))\n",
        "\n",
        "model_priors.add(Dense(160))\n",
        "model_priors.add(BatchNormalization())\n",
        "model_priors.add(Activation('relu'))\n",
        "model_priors.add(Dropout(0.5))\n",
        "\n",
        "model_priors.add(Dense(1, activation='relu'))\n",
        "\n",
        "model_priors.compile(loss='mse',\n",
        "              optimizer='adam',\n",
        "              metrics=['mae', 'mse'])"
      ],
      "execution_count": 7,
      "outputs": []
    },
    {
      "cell_type": "code",
      "metadata": {
        "colab": {
          "base_uri": "https://localhost:8080/"
        },
        "id": "w-5OBvEp3M0-",
        "outputId": "dd2ad92d-811f-435d-aeb9-a0ff5ee2c1ca"
      },
      "source": [
        "model_priors.summary()"
      ],
      "execution_count": 8,
      "outputs": [
        {
          "output_type": "stream",
          "text": [
            "Model: \"sequential_1\"\n",
            "_________________________________________________________________\n",
            "Layer (type)                 Output Shape              Param #   \n",
            "=================================================================\n",
            "conv2d (Conv2D)              (None, 128, 9, 9)         17408     \n",
            "_________________________________________________________________\n",
            "batch_normalization (BatchNo (None, 128, 9, 9)         36        \n",
            "_________________________________________________________________\n",
            "activation (Activation)      (None, 128, 9, 9)         0         \n",
            "_________________________________________________________________\n",
            "conv2d_1 (Conv2D)            (None, 64, 9, 9)          73792     \n",
            "_________________________________________________________________\n",
            "batch_normalization_1 (Batch (None, 64, 9, 9)          36        \n",
            "_________________________________________________________________\n",
            "activation_1 (Activation)    (None, 64, 9, 9)          0         \n",
            "_________________________________________________________________\n",
            "conv2d_2 (Conv2D)            (None, 64, 9, 9)          36928     \n",
            "_________________________________________________________________\n",
            "batch_normalization_2 (Batch (None, 64, 9, 9)          36        \n",
            "_________________________________________________________________\n",
            "activation_2 (Activation)    (None, 64, 9, 9)          0         \n",
            "_________________________________________________________________\n",
            "conv2d_3 (Conv2D)            (None, 64, 9, 9)          36928     \n",
            "_________________________________________________________________\n",
            "batch_normalization_3 (Batch (None, 64, 9, 9)          36        \n",
            "_________________________________________________________________\n",
            "activation_3 (Activation)    (None, 64, 9, 9)          0         \n",
            "_________________________________________________________________\n",
            "conv2d_4 (Conv2D)            (None, 32, 9, 9)          18464     \n",
            "_________________________________________________________________\n",
            "batch_normalization_4 (Batch (None, 32, 9, 9)          36        \n",
            "_________________________________________________________________\n",
            "activation_4 (Activation)    (None, 32, 9, 9)          0         \n",
            "_________________________________________________________________\n",
            "conv2d_5 (Conv2D)            (None, 32, 9, 9)          9248      \n",
            "_________________________________________________________________\n",
            "batch_normalization_5 (Batch (None, 32, 9, 9)          36        \n",
            "_________________________________________________________________\n",
            "activation_5 (Activation)    (None, 32, 9, 9)          0         \n",
            "_________________________________________________________________\n",
            "conv2d_6 (Conv2D)            (None, 32, 9, 9)          9248      \n",
            "_________________________________________________________________\n",
            "batch_normalization_6 (Batch (None, 32, 9, 9)          36        \n",
            "_________________________________________________________________\n",
            "activation_6 (Activation)    (None, 32, 9, 9)          0         \n",
            "_________________________________________________________________\n",
            "conv2d_7 (Conv2D)            (None, 32, 9, 9)          9248      \n",
            "_________________________________________________________________\n",
            "batch_normalization_7 (Batch (None, 32, 9, 9)          36        \n",
            "_________________________________________________________________\n",
            "activation_7 (Activation)    (None, 32, 9, 9)          0         \n",
            "_________________________________________________________________\n",
            "conv2d_8 (Conv2D)            (None, 32, 9, 9)          9248      \n",
            "_________________________________________________________________\n",
            "batch_normalization_8 (Batch (None, 32, 9, 9)          36        \n",
            "_________________________________________________________________\n",
            "activation_8 (Activation)    (None, 32, 9, 9)          0         \n",
            "_________________________________________________________________\n",
            "conv2d_9 (Conv2D)            (None, 16, 9, 9)          4624      \n",
            "_________________________________________________________________\n",
            "batch_normalization_9 (Batch (None, 16, 9, 9)          36        \n",
            "_________________________________________________________________\n",
            "activation_9 (Activation)    (None, 16, 9, 9)          0         \n",
            "_________________________________________________________________\n",
            "conv2d_10 (Conv2D)           (None, 16, 9, 9)          2320      \n",
            "_________________________________________________________________\n",
            "batch_normalization_10 (Batc (None, 16, 9, 9)          36        \n",
            "_________________________________________________________________\n",
            "activation_10 (Activation)   (None, 16, 9, 9)          0         \n",
            "_________________________________________________________________\n",
            "conv2d_11 (Conv2D)           (None, 16, 9, 9)          2320      \n",
            "_________________________________________________________________\n",
            "batch_normalization_11 (Batc (None, 16, 9, 9)          36        \n",
            "_________________________________________________________________\n",
            "activation_11 (Activation)   (None, 16, 9, 9)          0         \n",
            "_________________________________________________________________\n",
            "flatten (Flatten)            (None, 1296)              0         \n",
            "_________________________________________________________________\n",
            "dense (Dense)                (None, 160)               207520    \n",
            "_________________________________________________________________\n",
            "batch_normalization_12 (Batc (None, 160)               640       \n",
            "_________________________________________________________________\n",
            "activation_12 (Activation)   (None, 160)               0         \n",
            "_________________________________________________________________\n",
            "dropout (Dropout)            (None, 160)               0         \n",
            "_________________________________________________________________\n",
            "dense_1 (Dense)              (None, 160)               25760     \n",
            "_________________________________________________________________\n",
            "batch_normalization_13 (Batc (None, 160)               640       \n",
            "_________________________________________________________________\n",
            "activation_13 (Activation)   (None, 160)               0         \n",
            "_________________________________________________________________\n",
            "dropout_1 (Dropout)          (None, 160)               0         \n",
            "_________________________________________________________________\n",
            "dense_2 (Dense)              (None, 160)               25760     \n",
            "_________________________________________________________________\n",
            "batch_normalization_14 (Batc (None, 160)               640       \n",
            "_________________________________________________________________\n",
            "activation_14 (Activation)   (None, 160)               0         \n",
            "_________________________________________________________________\n",
            "dropout_2 (Dropout)          (None, 160)               0         \n",
            "_________________________________________________________________\n",
            "dense_3 (Dense)              (None, 1)                 161       \n",
            "=================================================================\n",
            "Total params: 491,329\n",
            "Trainable params: 490,153\n",
            "Non-trainable params: 1,176\n",
            "_________________________________________________________________\n"
          ],
          "name": "stdout"
        }
      ]
    },
    {
      "cell_type": "code",
      "metadata": {
        "colab": {
          "base_uri": "https://localhost:8080/"
        },
        "id": "D8GQh2Cx3M1H",
        "outputId": "5d9b1cac-ae0d-4edd-b5c0-0f921876f844"
      },
      "source": [
        "epochs = 30\n",
        "batch_size = 128\n",
        "\n",
        "history = model_priors.fit(X_train, Y_train,\n",
        "          batch_size=batch_size,\n",
        "          epochs=epochs,\n",
        "          verbose=1,\n",
        "          validation_data=(X_test, Y_test),\n",
        "          shuffle=True)"
      ],
      "execution_count": 9,
      "outputs": [
        {
          "output_type": "stream",
          "text": [
            "Epoch 1/30\n",
            "1736/1736 [==============================] - 25s 14ms/step - loss: 0.1425 - mae: 0.2944 - mse: 0.1425 - val_loss: 0.1126 - val_mae: 0.2762 - val_mse: 0.1126\n",
            "Epoch 2/30\n",
            "1736/1736 [==============================] - 24s 14ms/step - loss: 0.0764 - mae: 0.2062 - mse: 0.0764 - val_loss: 0.0586 - val_mae: 0.1878 - val_mse: 0.0586\n",
            "Epoch 3/30\n",
            "1736/1736 [==============================] - 24s 14ms/step - loss: 0.0502 - mae: 0.1574 - mse: 0.0502 - val_loss: 0.1123 - val_mae: 0.2331 - val_mse: 0.1123\n",
            "Epoch 4/30\n",
            "1736/1736 [==============================] - 25s 14ms/step - loss: 0.0428 - mae: 0.1418 - mse: 0.0428 - val_loss: 0.0411 - val_mae: 0.1316 - val_mse: 0.0411\n",
            "Epoch 5/30\n",
            "1736/1736 [==============================] - 24s 14ms/step - loss: 0.0394 - mae: 0.1344 - mse: 0.0394 - val_loss: 0.0434 - val_mae: 0.1327 - val_mse: 0.0434\n",
            "Epoch 6/30\n",
            "1736/1736 [==============================] - 24s 14ms/step - loss: 0.0367 - mae: 0.1280 - mse: 0.0367 - val_loss: 0.0381 - val_mae: 0.1214 - val_mse: 0.0381\n",
            "Epoch 7/30\n",
            "1736/1736 [==============================] - 24s 14ms/step - loss: 0.0344 - mae: 0.1232 - mse: 0.0344 - val_loss: 0.0312 - val_mae: 0.1201 - val_mse: 0.0312\n",
            "Epoch 8/30\n",
            "1736/1736 [==============================] - 24s 14ms/step - loss: 0.0331 - mae: 0.1201 - mse: 0.0331 - val_loss: 0.0741 - val_mae: 0.1673 - val_mse: 0.0741\n",
            "Epoch 9/30\n",
            "1736/1736 [==============================] - 24s 14ms/step - loss: 0.0317 - mae: 0.1169 - mse: 0.0317 - val_loss: 0.0355 - val_mae: 0.1218 - val_mse: 0.0355\n",
            "Epoch 10/30\n",
            "1736/1736 [==============================] - 24s 14ms/step - loss: 0.0304 - mae: 0.1142 - mse: 0.0304 - val_loss: 0.0273 - val_mae: 0.1079 - val_mse: 0.0273\n",
            "Epoch 11/30\n",
            "1736/1736 [==============================] - 24s 14ms/step - loss: 0.0291 - mae: 0.1112 - mse: 0.0291 - val_loss: 0.0312 - val_mae: 0.1224 - val_mse: 0.0312\n",
            "Epoch 12/30\n",
            "1736/1736 [==============================] - 24s 14ms/step - loss: 0.0282 - mae: 0.1094 - mse: 0.0282 - val_loss: 0.0413 - val_mae: 0.1231 - val_mse: 0.0413\n",
            "Epoch 13/30\n",
            "1736/1736 [==============================] - 24s 14ms/step - loss: 0.0273 - mae: 0.1070 - mse: 0.0273 - val_loss: 0.0416 - val_mae: 0.1170 - val_mse: 0.0416\n",
            "Epoch 14/30\n",
            "1736/1736 [==============================] - 24s 14ms/step - loss: 0.0259 - mae: 0.1043 - mse: 0.0259 - val_loss: 0.0285 - val_mae: 0.1014 - val_mse: 0.0285\n",
            "Epoch 15/30\n",
            "1736/1736 [==============================] - 24s 14ms/step - loss: 0.0259 - mae: 0.1043 - mse: 0.0259 - val_loss: 0.0343 - val_mae: 0.1135 - val_mse: 0.0343\n",
            "Epoch 16/30\n",
            "1736/1736 [==============================] - 24s 14ms/step - loss: 0.0251 - mae: 0.1025 - mse: 0.0251 - val_loss: 0.0477 - val_mae: 0.1300 - val_mse: 0.0477\n",
            "Epoch 17/30\n",
            "1736/1736 [==============================] - 24s 14ms/step - loss: 0.0244 - mae: 0.1009 - mse: 0.0244 - val_loss: 0.0303 - val_mae: 0.1035 - val_mse: 0.0303\n",
            "Epoch 18/30\n",
            "1736/1736 [==============================] - 24s 14ms/step - loss: 0.0234 - mae: 0.0988 - mse: 0.0234 - val_loss: 0.0287 - val_mae: 0.1060 - val_mse: 0.0287\n",
            "Epoch 19/30\n",
            "1736/1736 [==============================] - 24s 14ms/step - loss: 0.0232 - mae: 0.0984 - mse: 0.0232 - val_loss: 0.0439 - val_mae: 0.1398 - val_mse: 0.0439\n",
            "Epoch 20/30\n",
            "1736/1736 [==============================] - 24s 14ms/step - loss: 0.0228 - mae: 0.0976 - mse: 0.0228 - val_loss: 0.0324 - val_mae: 0.1128 - val_mse: 0.0324\n",
            "Epoch 21/30\n",
            "1736/1736 [==============================] - 24s 14ms/step - loss: 0.0217 - mae: 0.0957 - mse: 0.0217 - val_loss: 0.0258 - val_mae: 0.0940 - val_mse: 0.0258\n",
            "Epoch 22/30\n",
            "1736/1736 [==============================] - 24s 14ms/step - loss: 0.0219 - mae: 0.0959 - mse: 0.0219 - val_loss: 0.0357 - val_mae: 0.1080 - val_mse: 0.0357\n",
            "Epoch 23/30\n",
            "1736/1736 [==============================] - 24s 14ms/step - loss: 0.0214 - mae: 0.0948 - mse: 0.0214 - val_loss: 0.0322 - val_mae: 0.1020 - val_mse: 0.0322\n",
            "Epoch 24/30\n",
            "1736/1736 [==============================] - 24s 14ms/step - loss: 0.0201 - mae: 0.0922 - mse: 0.0201 - val_loss: 0.0249 - val_mae: 0.0920 - val_mse: 0.0249\n",
            "Epoch 25/30\n",
            "1736/1736 [==============================] - 24s 14ms/step - loss: 0.0200 - mae: 0.0918 - mse: 0.0200 - val_loss: 0.0258 - val_mae: 0.1000 - val_mse: 0.0258\n",
            "Epoch 26/30\n",
            "1736/1736 [==============================] - 24s 14ms/step - loss: 0.0203 - mae: 0.0925 - mse: 0.0203 - val_loss: 0.0580 - val_mae: 0.1627 - val_mse: 0.0580\n",
            "Epoch 27/30\n",
            "1736/1736 [==============================] - 24s 14ms/step - loss: 0.0192 - mae: 0.0901 - mse: 0.0192 - val_loss: 0.0277 - val_mae: 0.0999 - val_mse: 0.0277\n",
            "Epoch 28/30\n",
            "1736/1736 [==============================] - 24s 14ms/step - loss: 0.0189 - mae: 0.0894 - mse: 0.0189 - val_loss: 0.0252 - val_mae: 0.0897 - val_mse: 0.0252\n",
            "Epoch 29/30\n",
            "1736/1736 [==============================] - 24s 14ms/step - loss: 0.0186 - mae: 0.0888 - mse: 0.0186 - val_loss: 0.0281 - val_mae: 0.1060 - val_mse: 0.0281\n",
            "Epoch 30/30\n",
            "1736/1736 [==============================] - 24s 14ms/step - loss: 0.0182 - mae: 0.0879 - mse: 0.0182 - val_loss: 0.0300 - val_mae: 0.0969 - val_mse: 0.0300\n"
          ],
          "name": "stdout"
        }
      ]
    },
    {
      "cell_type": "code",
      "metadata": {
        "id": "FBm7F4wpcJln"
      },
      "source": [
        "score = model_priors.evaluate(X_test, Y_test, verbose=0)"
      ],
      "execution_count": 10,
      "outputs": []
    },
    {
      "cell_type": "code",
      "metadata": {
        "colab": {
          "base_uri": "https://localhost:8080/"
        },
        "id": "f_H972-VnzTg",
        "outputId": "6e6e7067-fcdb-4630-d7ee-27077847ca7f"
      },
      "source": [
        "print(len(score))\r\n",
        "print('Test loss:', score[0])\r\n",
        "print('Test mae:', score[1])\r\n",
        "print('Test mse:', score[2])"
      ],
      "execution_count": 11,
      "outputs": [
        {
          "output_type": "stream",
          "text": [
            "3\n",
            "Test loss: 0.030031021684408188\n",
            "Test mae: 0.09688544273376465\n",
            "Test mse: 0.030031021684408188\n"
          ],
          "name": "stdout"
        }
      ]
    },
    {
      "cell_type": "code",
      "metadata": {
        "colab": {
          "base_uri": "https://localhost:8080/"
        },
        "id": "hyzyprFE3M1Q",
        "outputId": "160121ea-3059-4fdc-d072-df198f2d1ca5"
      },
      "source": [
        "path = \"C:/Users/Lenovo/Documents/Paul/Travail/ENSEIRB-MATMECA/3A/Alpha-Go/alpha-go-like/priors/\"\n",
        "model_priors.save('model_priors')\n",
        "\n",
        "model_priors_json = model_priors.to_json()\n",
        "with open(\"model_priors.json\", \"w\") as json_file:\n",
        "    json_file.write(model_priors_json)\n",
        "# serialize weights to HDF5\n",
        "model_priors.save_weights(\"model_priors.h5\")\n",
        "print(\"Saved model to disk\")"
      ],
      "execution_count": 12,
      "outputs": [
        {
          "output_type": "stream",
          "text": [
            "WARNING:tensorflow:From /usr/local/lib/python3.6/dist-packages/tensorflow/python/training/tracking/tracking.py:111: Model.state_updates (from tensorflow.python.keras.engine.training) is deprecated and will be removed in a future version.\n",
            "Instructions for updating:\n",
            "This property should not be used in TensorFlow 2.0, as updates are applied automatically.\n",
            "WARNING:tensorflow:From /usr/local/lib/python3.6/dist-packages/tensorflow/python/training/tracking/tracking.py:111: Layer.updates (from tensorflow.python.keras.engine.base_layer) is deprecated and will be removed in a future version.\n",
            "Instructions for updating:\n",
            "This property should not be used in TensorFlow 2.0, as updates are applied automatically.\n",
            "INFO:tensorflow:Assets written to: model_priors/assets\n",
            "Saved model to disk\n"
          ],
          "name": "stdout"
        }
      ]
    },
    {
      "cell_type": "code",
      "metadata": {
        "colab": {
          "base_uri": "https://localhost:8080/"
        },
        "id": "q6uVuGsy3M1b",
        "outputId": "4a2a9695-ef21-4caa-b180-44b6c5761470"
      },
      "source": [
        "X_10 = X_test[:10]\n",
        "Y_10 = Y_test[:10]\n",
        "print(X_10.shape)\n",
        "print(Y_10.shape)\n",
        "\n",
        "Y_pred_10 = model_priors.predict(X_10)\n",
        "\n",
        "for i in range(10):\n",
        "  print(f\"Sample {i}: predicted = {Y_pred_10[i]} / true = {Y_10[i]}\")"
      ],
      "execution_count": 13,
      "outputs": [
        {
          "output_type": "stream",
          "text": [
            "(10, 15, 9, 9)\n",
            "(10,)\n",
            "Sample 0: predicted = [0.] / true = 0.0\n",
            "Sample 1: predicted = [0.] / true = 0.0\n",
            "Sample 2: predicted = [0.] / true = 0.03\n",
            "Sample 3: predicted = [0.38198596] / true = 0.3\n",
            "Sample 4: predicted = [1.0056674] / true = 1.0\n",
            "Sample 5: predicted = [0.37277603] / true = 0.24\n",
            "Sample 6: predicted = [0.5180142] / true = 0.32\n",
            "Sample 7: predicted = [0.6262366] / true = 0.62\n",
            "Sample 8: predicted = [0.6480617] / true = 0.76\n",
            "Sample 9: predicted = [0.24482161] / true = 0.13\n"
          ],
          "name": "stdout"
        }
      ]
    }
  ]
}