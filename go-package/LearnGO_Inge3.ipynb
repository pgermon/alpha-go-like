{
  "nbformat": 4,
  "nbformat_minor": 0,
  "metadata": {
    "colab": {
      "name": "LearnGO-Inge3.ipynb",
      "provenance": [],
      "collapsed_sections": []
    },
    "kernelspec": {
      "name": "python3",
      "display_name": "Python 3"
    }
  },
  "cells": [
    {
      "cell_type": "code",
      "metadata": {
        "id": "lB1RCVRe66fv",
        "outputId": "a51ccc27-7927-490a-a55b-7b1aa5dbc8ac",
        "colab": {
          "base_uri": "https://localhost:8080/"
        }
      },
      "source": [
        "!wget https://www.labri.fr/perso/lsimon/option-ia/Alphago/samples-9x9.json.gz"
      ],
      "execution_count": 1,
      "outputs": [
        {
          "output_type": "stream",
          "text": [
            "--2020-11-13 09:25:27--  https://www.labri.fr/perso/lsimon/option-ia/Alphago/samples-9x9.json.gz\n",
            "Resolving www.labri.fr (www.labri.fr)... 147.210.8.59, 2001:660:6101:404::80\n",
            "Connecting to www.labri.fr (www.labri.fr)|147.210.8.59|:443... connected.\n",
            "HTTP request sent, awaiting response... 200 OK\n",
            "Length: 3185947 (3.0M) [application/x-gzip]\n",
            "Saving to: ‘samples-9x9.json.gz.1’\n",
            "\n",
            "samples-9x9.json.gz 100%[===================>]   3.04M  3.88MB/s    in 0.8s    \n",
            "\n",
            "2020-11-13 09:25:29 (3.88 MB/s) - ‘samples-9x9.json.gz.1’ saved [3185947/3185947]\n",
            "\n"
          ],
          "name": "stdout"
        }
      ]
    },
    {
      "cell_type": "code",
      "metadata": {
        "id": "7aOSMDUi7L1h",
        "outputId": "521e3dc3-29b4-4c7f-b68e-8c2fdb7958f2",
        "colab": {
          "base_uri": "https://localhost:8080/"
        }
      },
      "source": [
        "import gzip, json\n",
        "\n",
        "with gzip.open(\"samples-9x9.json.gz\",\"r\") as fz:\n",
        "  rawdata = json.loads(fz.read().decode(\"utf-8\"))\n",
        "\n",
        "print(len(rawdata), \"examples\")\n",
        "print(\"Exemple 0: \", rawdata[0])"
      ],
      "execution_count": 34,
      "outputs": [
        {
          "output_type": "stream",
          "text": [
            "41563 examples\n",
            "Exemple 0:  {'depth': 41, 'list_of_moves': ['C6', 'G3', 'D3', 'E7', 'F3', 'G4', 'G7', 'C8', 'F6', 'B6', 'B5', 'E6', 'D5', 'F8', 'H6', 'F2', 'E2', 'H2', 'F5', 'F4', 'E3', 'B7', 'E5', 'G8', 'H8', 'A5', 'G9', 'B4', 'C5', 'H5', 'G5', 'C2', 'H4', 'C7', 'F9', 'E9', 'H9', 'C4', 'F1', 'C3', 'F7'], 'black_stones': ['F9', 'G9', 'H9', 'H8', 'F7', 'G7', 'C6', 'F6', 'H6', 'B5', 'C5', 'D5', 'E5', 'F5', 'G5', 'H4', 'D3', 'E3', 'F3', 'E2', 'F1'], 'white_stones': ['E9', 'C8', 'F8', 'G8', 'B7', 'C7', 'E7', 'B6', 'E6', 'A5', 'H5', 'B4', 'C4', 'F4', 'G4', 'C3', 'G3', 'C2', 'F2', 'H2'], 'rollouts': 100, 'black_wins': 84, 'black_points': 1034.0, 'white_wins': 16, 'white_points': 296.0}\n"
          ],
          "name": "stdout"
        }
      ]
    },
    {
      "cell_type": "code",
      "metadata": {
        "id": "_g9AAM6G7uoi",
        "outputId": "a1afe6cf-3742-4a97-e863-0911ce0a3e44",
        "colab": {
          "base_uri": "https://localhost:8080/"
        }
      },
      "source": [
        "import numpy as np\n",
        "from collections import namedtuple\n",
        "\n",
        "Data = namedtuple('Data',['board','wins'])\n",
        "\n",
        "def toCoord(s):\n",
        "  c = ord('I' if s[0]=='J' else s[0]) - ord('A') # Bricolage parce que le I n'existe pas en GO\n",
        "  l = int(s[1]) - 1\n",
        "  return c, l\n",
        "\n",
        "def arrangeSample(s):\n",
        "  grid = np.zeros((9,9), dtype=\"int\")\n",
        "  for c in s[\"black_stones\"]:\n",
        "    cc = toCoord(c)\n",
        "    assert 0 <= cc[0] < 9\n",
        "    assert 0 <= cc[1] < 9\n",
        "    grid[cc[0], cc[1]] = 1\n",
        "  for c in s[\"white_stones\"]:\n",
        "    cc = toCoord(c)\n",
        "    grid[cc[0], cc[1]] = 2\n",
        "  return Data(grid, s[\"black_wins\"])\n",
        "\n",
        "gridtoencode = rawdata[0]\n",
        "print(\"Exemple de donnée à prédire\")\n",
        "print(\"blacks\", [(x, toCoord(x)) for x in gridtoencode[\"black_stones\"]])\n",
        "print(\"whites\", gridtoencode[\"white_stones\"])\n",
        "print(\"Score to predict\", gridtoencode[\"black_wins\"])\n",
        "print(arrangeSample(gridtoencode))\n",
        "\n",
        "datas = [arrangeSample(x) for x in rawdata]\n"
      ],
      "execution_count": 35,
      "outputs": [
        {
          "output_type": "stream",
          "text": [
            "Exemple de donnée à prédire\n",
            "blacks [('F9', (5, 8)), ('G9', (6, 8)), ('H9', (7, 8)), ('H8', (7, 7)), ('F7', (5, 6)), ('G7', (6, 6)), ('C6', (2, 5)), ('F6', (5, 5)), ('H6', (7, 5)), ('B5', (1, 4)), ('C5', (2, 4)), ('D5', (3, 4)), ('E5', (4, 4)), ('F5', (5, 4)), ('G5', (6, 4)), ('H4', (7, 3)), ('D3', (3, 2)), ('E3', (4, 2)), ('F3', (5, 2)), ('E2', (4, 1)), ('F1', (5, 0))]\n",
            "whites ['E9', 'C8', 'F8', 'G8', 'B7', 'C7', 'E7', 'B6', 'E6', 'A5', 'H5', 'B4', 'C4', 'F4', 'G4', 'C3', 'G3', 'C2', 'F2', 'H2']\n",
            "Score to predict 84\n",
            "Data(board=array([[0, 0, 0, 0, 2, 0, 0, 0, 0],\n",
            "       [0, 0, 0, 2, 1, 2, 2, 0, 0],\n",
            "       [0, 2, 2, 2, 1, 1, 2, 2, 0],\n",
            "       [0, 0, 1, 0, 1, 0, 0, 0, 0],\n",
            "       [0, 1, 1, 0, 1, 2, 2, 0, 2],\n",
            "       [1, 2, 1, 2, 1, 1, 1, 2, 1],\n",
            "       [0, 0, 2, 2, 1, 0, 1, 2, 1],\n",
            "       [0, 2, 0, 1, 2, 1, 0, 1, 1],\n",
            "       [0, 0, 0, 0, 0, 0, 0, 0, 0]]), wins=84)\n"
          ],
          "name": "stdout"
        }
      ]
    }
  ]
}