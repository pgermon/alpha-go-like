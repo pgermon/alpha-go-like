{
 "cells": [
  {
   "cell_type": "markdown",
   "metadata": {
    "id": "ClVitoOygOyQ"
   },
   "source": [
    "<font color=\"lightblue\">\n",
    "\n",
    "**GERMON Paul et MARTIN Hugo**\n",
    "\n",
    "</font>"
   ]
  },
  {
   "cell_type": "markdown",
   "metadata": {
    "id": "IdAm6-qM3Mzt"
   },
   "source": [
    "# Apprenez une heuristique pour le Go\n",
    "\n",
    "Dans ce TP noté, vous devrez déployer des methodes d'apprentissage automatique permettant d'évaluer la qualité de plateaux de GO.\n",
    "\n",
    "Pour cela, vous disposerez de 41563 exemples de plateau de Go, tous générés par gnugo après quelques coups contre lui même avec un niveau de difficulté de 0. Par chaque plateau, nous avons lancé 100 matchs de gnugo contre lui même, toujours avec un niveau 0, et compté le nombre de victoires de noir et de blanc depuis ce plateau.\n",
    "\n",
    "A noter, chaque \"rollout\" (un rollout et un déroulement possible du match depuis le plateau de référence) correspond à des mouvements choisis aléatoirement parmis les 10 meilleurs mouvements possibles, en biasant le choix aléatoire par la qualité prédite du mouvement par gnugo (les meilleurs mouvements ont une plus forte probabilité d'être tirés).\n",
    "\n",
    "Les données dont vous disposez sont brutes. Ce sera à vous de proposer un format adéquat pour utiliser ces données en entrée de votre réseau neuronal. \n",
    "\n",
    "## Comment sera évalué votre modèle ?\n",
    "\n",
    "Nous vous fournirons 6h avant la date de rendu un nouveau fichier contenant 1000 nouveaux exemples, qui ne contiendront pas les champs `black_wins`, `white_wins`, `black_points` et `white_points`. Vous devrez laisser, dans votre dépot de projet un fichier texte nommé `my_predictions.txt` ayant une prédiction par ligne (un simple flottant) qui donnera, dans le même ordre de la liste des exemples les scores que vous prédisez pour chacune des entrées du fichier que nous vous aurons donné. Il faudra laisser, dans votre feuille notebook (voir tout en dessous) la cellule Python qui aura créé ce fichier, pour que l'on puisse éventuellement refaire vos prédictions.\n",
    "\n",
    "Bien entendu, vous nous rendrez également votre feuille jupyter **sous deux formats**, à la fois le fichier `.ipynb` et le fichier `.html` nous permettant de lire ce que vous avez fait, sans forcément relancer la feuille. Nous prendrons en compte les résultats obtenus sur les prédictions mais aussi le contenu de vos notebooks jupyter.\n",
    "\n",
    "### Comment sera noté ce TP ?\n",
    "\n",
    "Il s'agit d'un TP noté, donc il ne faudra pas y passer trop de temps. Nous attendons des prédictions correctes mais surtout des choix justifiés dans la feuille. Votre feuille notebook sera le plus important pour la notation (n'hésitez pas à mettre des cellules de texte pour expliquer pourquoi vous avez été amenés à faire certains choix). Ainsi, il serait bien d'avoir, par exemple, les données (graphiques ou autre) qui permettent de comprendre comment vous avez évité l'overfitting.\n",
    "\n",
    "Le fichier de vos prédiction sera évalué en se basant sur la qualité de vos prédictions. Nous mesurerons par exemple le nombre d'exemples dont votre prédiction donnera la bonne valeur à 5%, 10%, 20%, 35%, 50% pour estimer sa qualité.\n",
    "\n",
    "\n",
    "## Mise en route !\n",
    "\n",
    "Voyons  comment lire les données\n"
   ]
  },
  {
   "cell_type": "code",
   "execution_count": null,
   "metadata": {
    "id": "ESucC5AicJks"
   },
   "outputs": [],
   "source": [
    "import numpy as np\n",
    "from sklearn.model_selection import train_test_split\n",
    "import gzip, os.path\n",
    "import json\n",
    "%matplotlib inline\n",
    "import matplotlib.pyplot as plt"
   ]
  },
  {
   "cell_type": "code",
   "execution_count": null,
   "metadata": {
    "id": "631asENzcJk1"
   },
   "outputs": [],
   "source": [
    "import tensorflow.keras\n",
    "from tensorflow.keras.models import Sequential\n",
    "from tensorflow.keras.layers import Input, Dense, Dropout, Activation, Flatten\n",
    "from tensorflow.keras.layers import Conv2D, BatchNormalization\n",
    "import tensorflow.keras.optimizers as optimizers"
   ]
  },
  {
   "cell_type": "code",
   "execution_count": null,
   "metadata": {
    "colab": {
     "base_uri": "https://localhost:8080/"
    },
    "executionInfo": {
     "elapsed": 5593,
     "status": "ok",
     "timestamp": 1605370843475,
     "user": {
      "displayName": "Paul Germon",
      "photoUrl": "",
      "userId": "15796364191288627368"
     },
     "user_tz": -60
    },
    "id": "lcA12UDM3Mzv",
    "outputId": "4321d0d1-24e1-4654-8cac-a042b5520de3"
   },
   "outputs": [
    {
     "name": "stdout",
     "output_type": "stream",
     "text": [
      "File samples-9x9.json.gz not found, I am downloading it... Done\n",
      "We have 41563 examples\n"
     ]
    }
   ],
   "source": [
    "# Import du fichier d'exemples\n",
    "\n",
    "def get_raw_data_go(data_to_predict, output):\n",
    "    ''' Returns the set of samples from the local file or download it if it does not exists'''\n",
    "\n",
    "\n",
    "    raw_samples_file = output\n",
    "\n",
    "    if not os.path.isfile(raw_samples_file):\n",
    "        print(\"File\", raw_samples_file, \"not found, I am downloading it...\", end=\"\")\n",
    "        import urllib.request \n",
    "        urllib.request.urlretrieve (data_to_predict, output)\n",
    "        print(\" Done\")\n",
    "\n",
    "    with gzip.open(output) as fz:\n",
    "        data = json.loads(fz.read().decode(\"utf-8\"))\n",
    "    return data\n",
    "\n",
    "# Fonction qui permet de télécharger le fichier file depuis l'url\n",
    "def download(url,file):\n",
    "  import os.path\n",
    "  if not os.path.isfile(file):\n",
    "        print(\"File\", file, \"not found, I am downloading it...\", end=\"\")\n",
    "        import urllib.request \n",
    "        urllib.request.urlretrieve (url, file)\n",
    "        print(\" Done\")\n",
    "\n",
    "\n",
    "data = get_raw_data_go(\"https://www.labri.fr/perso/lsimon/ia-inge2/samples-9x9.json.gz\",\"samples-9x9.json.gz\")\n",
    "print(\"We have\", len(data),\"examples\")"
   ]
  },
  {
   "cell_type": "markdown",
   "metadata": {
    "id": "dqUcsEMT3Mz9"
   },
   "source": [
    "## Compréhension des données de chaque entrée\n",
    "\n",
    "Voici une description de chaque exemple"
   ]
  },
  {
   "cell_type": "code",
   "execution_count": null,
   "metadata": {
    "colab": {
     "base_uri": "https://localhost:8080/"
    },
    "executionInfo": {
     "elapsed": 5584,
     "status": "ok",
     "timestamp": 1605370843476,
     "user": {
      "displayName": "Paul Germon",
      "photoUrl": "",
      "userId": "15796364191288627368"
     },
     "user_tz": -60
    },
    "id": "bTWtB1GE3Mz_",
    "outputId": "1c3a854f-a457-4582-e34d-fd4da1c7d1f7"
   },
   "outputs": [
    {
     "name": "stdout",
     "output_type": "stream",
     "text": [
      "Sample 10\n",
      "\n",
      "Données brutes en format JSON: {'depth': 8, 'list_of_moves': ['C6', 'E7', 'C3', 'C8', 'E5', 'G3', 'B7', 'H7'], 'black_stones': ['B7', 'C6', 'E5', 'C3'], 'white_stones': ['C8', 'E7', 'H7', 'G3'], 'rollouts': 100, 'black_wins': 60, 'black_points': 876.0, 'white_wins': 40, 'white_points': 378.0}\n",
      "\n",
      "The sample was obtained after 8 moves\n",
      "The successive moves were ['C6', 'E7', 'C3', 'C8', 'E5', 'G3', 'B7', 'H7']\n",
      "After these moves and all the captures, there was black stones at the following position ['B7', 'C6', 'E5', 'C3']\n",
      "After these moves and all the captures, there was white stones at the following position ['C8', 'E7', 'H7', 'G3']\n",
      "Number of rollouts (gnugo games played against itself from this position): 100\n",
      "Over these 100 games, black won 60 times with 876.0 total points over all these winning games\n",
      "Over these 100 games, white won 40 times with 378.0 total points over all these winning games\n"
     ]
    }
   ],
   "source": [
    "def summary_of_example(data, sample_nb):\n",
    "    ''' Gives you some insights about a sample number'''\n",
    "    sample = data[sample_nb]\n",
    "    print(\"Sample\", sample_nb)\n",
    "    print()\n",
    "    print(\"Données brutes en format JSON:\", sample)\n",
    "    print()\n",
    "    print(\"The sample was obtained after\", sample[\"depth\"], \"moves\")\n",
    "    print(\"The successive moves were\", sample[\"list_of_moves\"])\n",
    "    print(\"After these moves and all the captures, there was black stones at the following position\", sample[\"black_stones\"])\n",
    "    print(\"After these moves and all the captures, there was white stones at the following position\", sample[\"white_stones\"])\n",
    "    print(\"Number of rollouts (gnugo games played against itself from this position):\", sample[\"rollouts\"])\n",
    "    print(\"Over these\", sample[\"rollouts\"], \"games, black won\", sample[\"black_wins\"], \"times with\", sample[\"black_points\"], \"total points over all these winning games\")\n",
    "    print(\"Over these\", sample[\"rollouts\"], \"games, white won\", sample[\"white_wins\"], \"times with\", sample[\"white_points\"], \"total points over all these winning games\")\n",
    "\n",
    "summary_of_example(data,10)"
   ]
  },
  {
   "cell_type": "markdown",
   "metadata": {
    "id": "8HIMkUDJ3M0I"
   },
   "source": [
    "## Données en entrée et en sortie de votre modèle final\n",
    "\n",
    "Même si en interne, votre modèle va manipuler des tenseurs en numpy, vous devrez construire une boite noire qui prendra en entrée les coordonnées des pierres noires et blanches et donnera le pourcentage de chance pour noir de gagner depuis cette position. \n",
    "\n",
    "Ainsi, pour l'exemple `i` :\n",
    "- Vous prendez en entree `data[i][\"black_stones\"]` et `data[i][\"white_stones\"]`\n",
    "- Vous devrez prédire simplement `data[i][\"black_wins\"]/data[i][\"rollouts\"]`\n",
    "\n",
    "Encore une fois, **attention** : en interne, il faudra absolument construire vos données formattées en matrices numpy pour faire votre entrainement. On vous demande juste ici d'écrire comment vous faites ces transformations, pour comprendre ce que vous avez décidé de mettre en entrée du réseau.\n",
    "\n",
    "Voici le modèle de la fonction qui pourra être appelée, au final :\n"
   ]
  },
  {
   "cell_type": "code",
   "execution_count": null,
   "metadata": {
    "id": "CMIaMUlu3M0K"
   },
   "outputs": [],
   "source": [
    "# Ainsi, pour le rendu, en admettant que newdata soit le fichier json contenant les nouvelles données que \n",
    "# l'on vous donnera 24h avant la fin, vous pourrez construire le fichier resultat ainsi\n",
    "\n",
    "def create_result_file(newdata):\n",
    "    ''' Exemple de méthode permettant de générer le fichier de resultats demandés. '''\n",
    "    resultat  = [position_predict(d[\"black_stones\"], d[\"white_stones\"]) for d in newdata]\n",
    "    with open(\"my_predictions.txt\", \"w\") as f:\n",
    "         for p in resultat:\n",
    "            f.write(str(p)+\"\\n\")"
   ]
  },
  {
   "cell_type": "code",
   "execution_count": null,
   "metadata": {
    "id": "ilGxPKK1UVKm"
   },
   "outputs": [],
   "source": [
    "def plot_loss_acc(history):\n",
    "    \"\"\"Plot training and (optionally) validation loss and accuracy\"\"\"\n",
    "\n",
    "    loss = history.history['loss']\n",
    "    epochs = range(1, len(loss) + 1)\n",
    "\n",
    "    plt.figure(figsize=(10, 10))\n",
    "\n",
    "    plt.subplot(2, 1, 1)\n",
    "    plt.plot(epochs, loss, '.--', label='Training loss')\n",
    "    final_loss = loss[-1]\n",
    "    title = 'Training loss: {:.4f}'.format(final_loss)\n",
    "    plt.ylabel('Loss')\n",
    "    if 'val_loss' in history.history:\n",
    "        val_loss = history.history['val_loss']\n",
    "        plt.plot(epochs, val_loss, 'o-', label='Validation loss')\n",
    "        final_val_loss = val_loss[-1]\n",
    "        title += ', Validation loss: {:.4f}'.format(final_val_loss)\n",
    "    plt.title(title)\n",
    "    plt.legend()\n",
    "\n",
    "    acc = history.history['accuracy']\n",
    "\n",
    "    plt.subplot(2, 1, 2)\n",
    "    plt.plot(epochs, acc, '.--', label='Training acc')\n",
    "    final_acc = acc[-1]\n",
    "    title = 'Training accuracy: {:.2f}%'.format(final_acc * 100)\n",
    "    plt.xlabel('Epochs')\n",
    "    plt.ylabel('Accuracy')\n",
    "    if 'val_accuracy' in history.history:\n",
    "        val_acc = history.history['val_accuracy']\n",
    "        plt.plot(epochs, val_acc, 'o-', label='Validation acc')\n",
    "        final_val_acc = val_acc[-1]\n",
    "        title += ', Validation accuracy: {:.2f}%'.format(final_val_acc * 100)\n",
    "    plt.title(title)\n",
    "    plt.legend()"
   ]
  },
  {
   "cell_type": "code",
   "execution_count": null,
   "metadata": {
    "colab": {
     "base_uri": "https://localhost:8080/",
     "height": 591
    },
    "executionInfo": {
     "elapsed": 6171,
     "status": "ok",
     "timestamp": 1605370844087,
     "user": {
      "displayName": "Paul Germon",
      "photoUrl": "",
      "userId": "15796364191288627368"
     },
     "user_tz": -60
    },
    "id": "aCQnDuYn3M0W",
    "outputId": "6a92873c-93fa-4bc8-f777-8d3439652b1c"
   },
   "outputs": [
    {
     "name": "stdout",
     "output_type": "stream",
     "text": [
      "The CDF curve shows that black has more chances to win, globally\n"
     ]
    },
    {
     "data": {
      "image/png": "[encoded data removed]",
      "text/plain": [
       "<Figure size 432x288 with 1 Axes>"
      ]
     },
     "metadata": {
      "needs_background": "light",
      "tags": []
     },
     "output_type": "display_data"
    },
    {
     "data": {
      "image/png": "[encoded data removed]",
      "text/plain": [
       "<Figure size 432x288 with 1 Axes>"
      ]
     },
     "metadata": {
      "needs_background": "light",
      "tags": []
     },
     "output_type": "display_data"
    }
   ],
   "source": [
    "plt.title(\"Relationship between the depth of the board and the chance for black to win\")\n",
    "plt.plot([sample[\"black_wins\"] for sample in data],[sample[\"depth\"] for sample in data], '.')\n",
    "plt.xlabel(\"black wins (percentage)\")\n",
    "plt.ylabel(\"depth of the game\")\n",
    "\n",
    "\n",
    "# Cumulative Distribution function of the chance of black to win\n",
    "cdf_wins = sorted([sample[\"black_wins\"] for sample in data])\n",
    "plt.figure()\n",
    "plt.plot([x/len(cdf_wins) for x in range(len(cdf_wins))], cdf_wins)\n",
    "plt.title(\"Cumulative Distribution function of the chance of black to win\")\n",
    "plt.xlabel(\"\\% of the samples with a chance of black to win below y\")\n",
    "plt.ylabel(\"Chance of black to win\")\n",
    "print(\"The CDF curve shows that black has more chances to win, globally\")"
   ]
  },
  {
   "cell_type": "markdown",
   "metadata": {
    "id": "RZ5gfyME3M0g"
   },
   "source": [
    "# First steps: transform all the data into numpy arrays to feed your neural network\n",
    "\n",
    "Advices:\n",
    "- do not use only a 9x9 matrix as input. Use at least two planes to encode the board. One plane for black and one plane for white (typically with a 1 if there is a black stone for the first plane and with a 1 if there is a white stone for the second plane). The dimension of an input should be at least `[9,9,2]`.\n",
    "- consider to enrich your dataset with all symmetries and rotations. You should be able to multiply the number of samples to consider: any rotation of the board should have the same score, right?\n",
    "- what should happen on the score if you switch the colors? To know which player has to play next, you can check, for a sample, the parity of the length of the list `data[i][\"list_of_moves\"]` (an odd length list would mean that white is the next player. An even length list means that black has to play).\n",
    "- work on enlarging and preparing your data only once. Once all you input data is setup as a big Numpy matrix, you may want to save it for speeding up everything. You can use, for instance `numpy.rot90()` and `numpy.flipud()` to generate all the symmetries\n",
    "\n"
   ]
  },
  {
   "cell_type": "code",
   "execution_count": null,
   "metadata": {
    "id": "yy0u3-bycJlJ"
   },
   "outputs": [],
   "source": [
    "# Convertit les moves en coordonnées\n",
    "def name_to_coord(s):\n",
    "    assert s != \"PASS\"\n",
    "    indexLetters = {'A':0, 'B':1, 'C':2, 'D':3, 'E':4, 'F':5, 'G':6, 'H':7, 'J':8}\n",
    "\n",
    "    col = indexLetters[s[0]]\n",
    "    lin = int(s[1:]) - 1\n",
    "    return col, lin"
   ]
  },
  {
   "cell_type": "code",
   "execution_count": null,
   "metadata": {
    "id": "56Uv5ANRcJlM"
   },
   "outputs": [],
   "source": [
    "# Preprocess la data et remplit les structures X et Y de données et labels\n",
    "def fill_data_struct(data, board_size):\n",
    "    N_EXAMPLES = len(data)\n",
    "    \n",
    "    # *8 pour le nombre de symétries et rotations possibles\n",
    "    X = np.zeros([N_EXAMPLES * 8, board_size, board_size, 3], dtype = int)\n",
    "    Y = np.zeros([N_EXAMPLES * 8, 3], dtype = float)\n",
    "    #Y = np.zeros(N_EXAMPLES * 8, dtype = float)\n",
    "\n",
    "    # Construction de X : un plateau pour les blancs et un pour les noirs\n",
    "    for i in range(N_EXAMPLES):\n",
    "\n",
    "        # On ajoute les pierres noires dans le plan 0 de X via leurs coordonnées\n",
    "        for black in data[i]['black_stones']:\n",
    "            (col, lin) = name_to_coord(black)\n",
    "            X[i][col][lin][0] = 1\n",
    "            \n",
    "        # Idem pour les pierres blanches dans le plan 1 de X\n",
    "        for white in data[i]['white_stones']:\n",
    "            (col, lin) = name_to_coord(white)\n",
    "            X[i][col][lin][1] = 1\n",
    "            \n",
    "        player = 0 if len(data[i][\"list_of_moves\"]) % 2 == 0 else 1\n",
    "        \n",
    "        for x in range(board_size):\n",
    "            for y in range(board_size):\n",
    "                X[i][col][lin][2] = player\n",
    "            \n",
    "        \n",
    "        # On ajoute les rotations de 90° des plateaux\n",
    "        for k in range(1, 4):\n",
    "            X[i + N_EXAMPLES * k] = np.rot90(X[i], k, axes=(0, 1))\n",
    "\n",
    "        # Puis les symétries horizontales des rotations\n",
    "        for k in range(0, 4):\n",
    "            X[i + N_EXAMPLES * (k + 4)] = np.flipud(X[i + N_EXAMPLES * k])\n",
    "\n",
    "\n",
    "        # On remplit Y : les rotations/symétries d'un plateau ont le même label\n",
    "        b_wins = data[i]['black_wins'] / data[i]['rollouts']\n",
    "        w_wins = data[i]['white_wins'] / data[i]['rollouts']\n",
    "        \n",
    "        for k in range(8):\n",
    "            #Y[i + N_EXAMPLES * k] = b_wins\n",
    "            Y[i + N_EXAMPLES * k][0] = b_wins\n",
    "            Y[i + N_EXAMPLES * k][1] = w_wins\n",
    "    \n",
    "    return X, Y"
   ]
  },
  {
   "cell_type": "markdown",
   "metadata": {
    "id": "B7kQwtbq8bqr"
   },
   "source": [
    "<font color=\"lightblue\">\n",
    "\n",
    "La matrice X correspond donc aux données d'entrée et est sous la forme (N\\*8,9,9,2) tandis que la matrice Y correspond aux probabilités de victoire en tant que joueur noir et joueur blanc et est sous la forme (N\\*8,) \n",
    "\n",
    "Pour chaque plateau dans le dataset nous avons ajouté ses rotations de 0° (plateau de base), 90°, 180° et 270° ainsi que les symétries horizontales de ces rotations.\n",
    ",\n",
    "Pour chaque plateau du dataset nous ajoutons donc 7 variations de ce plateau. Cela nous permet d'augmenter notre jeu de données sans modifier la probabilité de victoire des noirs ou des blancs.\n",
    "\n",
    "</font>"
   ]
  },
  {
   "cell_type": "code",
   "execution_count": null,
   "metadata": {
    "id": "Vq-YEmOy3M0i"
   },
   "outputs": [],
   "source": [
    "board_size = 9\n",
    "\n",
    "X, Y = fill_data_struct(data, board_size)\n",
    "\n",
    "# Séparation des données d'entrée en un training set et un test set\n",
    "X_train, X_test, Y_train, Y_test = train_test_split(X, Y, test_size=0.20, shuffle=True)"
   ]
  },
  {
   "cell_type": "code",
   "execution_count": null,
   "metadata": {
    "colab": {
     "base_uri": "https://localhost:8080/"
    },
    "executionInfo": {
     "elapsed": 10579,
     "status": "ok",
     "timestamp": 1605370848529,
     "user": {
      "displayName": "Paul Germon",
      "photoUrl": "",
      "userId": "15796364191288627368"
     },
     "user_tz": -60
    },
    "id": "qgxbomiX3M0u",
    "outputId": "3ea9ed13-aba8-46e9-ca44-0ee6546620e5"
   },
   "outputs": [
    {
     "name": "stdout",
     "output_type": "stream",
     "text": [
      "X.shape = (332504, 9, 9, 2)\n",
      "Y.shape = (332504, 2)\n",
      "X_train.shape = (266003, 9, 9, 2)\n",
      "X_test.shape = (66501, 9, 9, 2)\n",
      "Y_train.shape = (266003, 2)\n",
      "Y_test.shape = (66501, 2)\n"
     ]
    }
   ],
   "source": [
    "print(f\"X.shape = {X.shape}\")\n",
    "print(f\"Y.shape = {Y.shape}\")\n",
    "print(f\"X_train.shape = {X_train.shape}\")\n",
    "print(f\"X_test.shape = {X_test.shape}\")\n",
    "print(f\"Y_train.shape = {Y_train.shape}\")\n",
    "print(f\"Y_test.shape = {Y_test.shape}\")"
   ]
  },
  {
   "cell_type": "markdown",
   "metadata": {
    "id": "KZqFi0bt3M01"
   },
   "source": [
    "# Second steps: build your neural network and train it\n",
    "\n",
    "Don't forget to check overfitting, ...\n",
    "\n",
    "*advices* :\n",
    "- you need to test Dense and Conv2D layers (the best models may contain convolution layers=\n",
    "- if you use convolution layers, be sure not to downsize your board. Applying a filter should keep the original size of the board (9x9), otherwise you would somehow forget the stones on the borders\n",
    "- you will use like 33% of your input sample for validation. However, the final goal is to score new data that will be given in addition to the actual data. So, you should use the 33% splitting rule to set up your network architecture and, once you fixed it, you should train your final model on the whole set of data, crossing your fingers that it will generalize well.\n",
    "- Warning: if you launch the fit function from keras more than once, it will not reset the weights and the biases of your neural network. It's good news because you can add more and more epochs to your model, but be careful about the training/test sets: each time you call fit() with validation_split set up to something like 0.33, it will choose a **new** partition of the samples. So you are breaking your validation/training partition! We advice you to use the `sklearn.model_selection.train_test_split()` method to split the set of examples just once and then use the parameter `validation_data` in the call for `fit()`.  Thus you will be able to call it multiple time.\n"
   ]
  },
  {
   "cell_type": "code",
   "execution_count": null,
   "metadata": {
    "id": "UkzbwkNb3M03"
   },
   "outputs": [],
   "source": [
    "model_prior = Sequential()\n",
    "model_prior.add(Conv2D(filters = 64,\n",
    "                        input_shape = (9,9,2),\n",
    "                        activation = 'relu',\n",
    "                        kernel_size = (5,5),\n",
    "                        padding = 'same',\n",
    "                        data_format = 'channels_last'))\n",
    "model_prior.add(BatchNormalization(axis = 3))\n",
    "model_prior.add(Conv2D(filters = 64,\n",
    "                        activation = 'relu',\n",
    "                        kernel_size = (5,5),\n",
    "                        padding = 'same',\n",
    "                        data_format = 'channels_last'))\n",
    "model_prior.add(BatchNormalization(axis = 3))\n",
    "model_prior.add(Conv2D(filters = 64,\n",
    "                        activation = 'relu',\n",
    "                        kernel_size = (5,5),\n",
    "                        padding = 'same',\n",
    "                        data_format = 'channels_last'))\n",
    "model_prior.add(BatchNormalization(axis = 3))\n",
    "model_prior.add(Flatten(data_format = 'channels_last'))\n",
    "model_prior.add(Dropout(rate = 0.5))\n",
    "model_prior.add(Dense(units = 32, activation='relu'))\n",
    "model_prior.add(Dense(2, activation='sigmoid'))\n",
    "\n",
    "model_prior.compile(loss='mae',\n",
    "              optimizer='adam',\n",
    "              metrics=['accuracy'])"
   ]
  },
  {
   "cell_type": "code",
   "execution_count": null,
   "metadata": {
    "colab": {
     "base_uri": "https://localhost:8080/"
    },
    "executionInfo": {
     "elapsed": 16650,
     "status": "ok",
     "timestamp": 1605370854619,
     "user": {
      "displayName": "Paul Germon",
      "photoUrl": "",
      "userId": "15796364191288627368"
     },
     "user_tz": -60
    },
    "id": "w-5OBvEp3M0-",
    "outputId": "530b2d7f-c7f5-45e5-a410-c27a66c3bb89"
   },
   "outputs": [
    {
     "name": "stdout",
     "output_type": "stream",
     "text": [
      "Model: \"sequential\"\n",
      "_________________________________________________________________\n",
      "Layer (type)                 Output Shape              Param #   \n",
      "=================================================================\n",
      "conv2d (Conv2D)              (None, 9, 9, 64)          3264      \n",
      "_________________________________________________________________\n",
      "batch_normalization (BatchNo (None, 9, 9, 64)          256       \n",
      "_________________________________________________________________\n",
      "conv2d_1 (Conv2D)            (None, 9, 9, 64)          102464    \n",
      "_________________________________________________________________\n",
      "batch_normalization_1 (Batch (None, 9, 9, 64)          256       \n",
      "_________________________________________________________________\n",
      "conv2d_2 (Conv2D)            (None, 9, 9, 64)          102464    \n",
      "_________________________________________________________________\n",
      "batch_normalization_2 (Batch (None, 9, 9, 64)          256       \n",
      "_________________________________________________________________\n",
      "flatten (Flatten)            (None, 5184)              0         \n",
      "_________________________________________________________________\n",
      "dropout (Dropout)            (None, 5184)              0         \n",
      "_________________________________________________________________\n",
      "dense (Dense)                (None, 32)                165920    \n",
      "_________________________________________________________________\n",
      "dense_1 (Dense)              (None, 2)                 66        \n",
      "=================================================================\n",
      "Total params: 374,946\n",
      "Trainable params: 374,562\n",
      "Non-trainable params: 384\n",
      "_________________________________________________________________\n"
     ]
    }
   ],
   "source": [
    "model_prior.summary()"
   ]
  },
  {
   "cell_type": "markdown",
   "metadata": {
    "id": "TH21WxkGvmfT"
   },
   "source": [
    "<font color=\"lightblue\">\n",
    "\n",
    "Nous avons donc créé un réseau de neurones composé de 10 couches. Les premières sont des couches ```Conv2D``` qui permettent de créer un noyau de convolution. Nous avons aussi utilisé la fonction d'activation ```ReLU``` car elle est rapide à calculer et permet d'augmenter la convergence.\n",
    "\n",
    "De plus, nous avons également mis en place des couches de ```BatchNormalization``` afin d'éviter *l'overfitting*. Ces couches permettent de normaliser la couche d'entrée et d'éviter les minmimas locaux en étant moins dépendant de l'initialisation.\n",
    "\n",
    "Nous aplatissons ensuite les données avec une couche ```Flatten``` et nous appliquons également une couche ```Dropout``` qui permet d'éviter *l'overfitting* en ignorant certains neurones durant l'apprentissage.\n",
    "\n",
    "Enfin, les dernières couches ```Dense``` servent à relier tous les neurones. Nous utilisons finalement la fonction d'activation ```softmax``` pour générer les probabilités de victoire des noirs."
   ]
  },
  {
   "cell_type": "markdown",
   "metadata": {
    "id": "-96jmx_93M1G"
   },
   "source": [
    "# Last step\n",
    "\n",
    "Prepare your model to predict the set of new data to predict, you will have only 6 hours to push your predictions.\n",
    "\n",
    "(may be you would like to express, when guessing the percentage of wins for blacks, that it should reflect the fact that this score should be the same for all the symmetries you considered)..."
   ]
  },
  {
   "cell_type": "code",
   "execution_count": null,
   "metadata": {
    "colab": {
     "base_uri": "https://localhost:8080/"
    },
    "executionInfo": {
     "elapsed": 380158,
     "status": "ok",
     "timestamp": 1605371218137,
     "user": {
      "displayName": "Paul Germon",
      "photoUrl": "",
      "userId": "15796364191288627368"
     },
     "user_tz": -60
    },
    "id": "D8GQh2Cx3M1H",
    "outputId": "6ff4b729-c8fe-40a6-9b99-207e8c598c26"
   },
   "outputs": [
    {
     "name": "stdout",
     "output_type": "stream",
     "text": [
      "Epoch 1/30\n",
      "2079/2079 [==============================] - 12s 6ms/step - loss: 0.1393 - accuracy: 0.8397 - val_loss: 0.1214 - val_accuracy: 0.8586\n",
      "Epoch 2/30\n",
      "2079/2079 [==============================] - 12s 6ms/step - loss: 0.1153 - accuracy: 0.8663 - val_loss: 0.1094 - val_accuracy: 0.8727\n",
      "Epoch 3/30\n",
      "2079/2079 [==============================] - 12s 6ms/step - loss: 0.1088 - accuracy: 0.8743 - val_loss: 0.1235 - val_accuracy: 0.8555\n",
      "Epoch 4/30\n",
      "2079/2079 [==============================] - 12s 6ms/step - loss: 0.1057 - accuracy: 0.8777 - val_loss: 0.0979 - val_accuracy: 0.8845\n",
      "Epoch 5/30\n",
      "2079/2079 [==============================] - 12s 6ms/step - loss: 0.1016 - accuracy: 0.8820 - val_loss: 0.0992 - val_accuracy: 0.8825\n",
      "Epoch 6/30\n",
      "2079/2079 [==============================] - 12s 6ms/step - loss: 0.0997 - accuracy: 0.8849 - val_loss: 0.0979 - val_accuracy: 0.8827\n",
      "Epoch 7/30\n",
      "2079/2079 [==============================] - 12s 6ms/step - loss: 0.0975 - accuracy: 0.8864 - val_loss: 0.0974 - val_accuracy: 0.8846\n",
      "Epoch 8/30\n",
      "2079/2079 [==============================] - 12s 6ms/step - loss: 0.0952 - accuracy: 0.8886 - val_loss: 0.1005 - val_accuracy: 0.8804\n",
      "Epoch 9/30\n",
      "2079/2079 [==============================] - 12s 6ms/step - loss: 0.0939 - accuracy: 0.8908 - val_loss: 0.1096 - val_accuracy: 0.8696\n",
      "Epoch 10/30\n",
      "2079/2079 [==============================] - 12s 6ms/step - loss: 0.0929 - accuracy: 0.8913 - val_loss: 0.0975 - val_accuracy: 0.8860\n",
      "Epoch 11/30\n",
      "2079/2079 [==============================] - 12s 6ms/step - loss: 0.0920 - accuracy: 0.8924 - val_loss: 0.0934 - val_accuracy: 0.8863\n",
      "Epoch 12/30\n",
      "2079/2079 [==============================] - 12s 6ms/step - loss: 0.0903 - accuracy: 0.8941 - val_loss: 0.0884 - val_accuracy: 0.8946\n",
      "Epoch 13/30\n",
      "2079/2079 [==============================] - 12s 6ms/step - loss: 0.0898 - accuracy: 0.8949 - val_loss: 0.0912 - val_accuracy: 0.8913\n",
      "Epoch 14/30\n",
      "2079/2079 [==============================] - 12s 6ms/step - loss: 0.0883 - accuracy: 0.8972 - val_loss: 0.0938 - val_accuracy: 0.8851\n",
      "Epoch 15/30\n",
      "2079/2079 [==============================] - 12s 6ms/step - loss: 0.0875 - accuracy: 0.8974 - val_loss: 0.0926 - val_accuracy: 0.8903\n",
      "Epoch 16/30\n",
      "2079/2079 [==============================] - 12s 6ms/step - loss: 0.0869 - accuracy: 0.8984 - val_loss: 0.0922 - val_accuracy: 0.8899\n",
      "Epoch 17/30\n",
      "2079/2079 [==============================] - 12s 6ms/step - loss: 0.0866 - accuracy: 0.8986 - val_loss: 0.0963 - val_accuracy: 0.8868\n",
      "Epoch 18/30\n",
      "2079/2079 [==============================] - 12s 6ms/step - loss: 0.0861 - accuracy: 0.8995 - val_loss: 0.0900 - val_accuracy: 0.8927\n",
      "Epoch 19/30\n",
      "2079/2079 [==============================] - 12s 6ms/step - loss: 0.0848 - accuracy: 0.9008 - val_loss: 0.0927 - val_accuracy: 0.8893\n",
      "Epoch 20/30\n",
      "2079/2079 [==============================] - 12s 6ms/step - loss: 0.0841 - accuracy: 0.9017 - val_loss: 0.0952 - val_accuracy: 0.8887\n",
      "Epoch 21/30\n",
      "2079/2079 [==============================] - 12s 6ms/step - loss: 0.0839 - accuracy: 0.9015 - val_loss: 0.0935 - val_accuracy: 0.8894\n",
      "Epoch 22/30\n",
      "2079/2079 [==============================] - 12s 6ms/step - loss: 0.0828 - accuracy: 0.9028 - val_loss: 0.0868 - val_accuracy: 0.8970\n",
      "Epoch 23/30\n",
      "2079/2079 [==============================] - 12s 6ms/step - loss: 0.0823 - accuracy: 0.9028 - val_loss: 0.0887 - val_accuracy: 0.8935\n",
      "Epoch 24/30\n",
      "2079/2079 [==============================] - 12s 6ms/step - loss: 0.0814 - accuracy: 0.9047 - val_loss: 0.0918 - val_accuracy: 0.8909\n",
      "Epoch 25/30\n",
      "2079/2079 [==============================] - 12s 6ms/step - loss: 0.0812 - accuracy: 0.9048 - val_loss: 0.0866 - val_accuracy: 0.8959\n",
      "Epoch 26/30\n",
      "2079/2079 [==============================] - 12s 6ms/step - loss: 0.0806 - accuracy: 0.9057 - val_loss: 0.0866 - val_accuracy: 0.8955\n",
      "Epoch 27/30\n",
      "2079/2079 [==============================] - 12s 6ms/step - loss: 0.0802 - accuracy: 0.9065 - val_loss: 0.0883 - val_accuracy: 0.8933\n",
      "Epoch 28/30\n",
      "2079/2079 [==============================] - 12s 6ms/step - loss: 0.0798 - accuracy: 0.9057 - val_loss: 0.0913 - val_accuracy: 0.8896\n",
      "Epoch 29/30\n",
      "2079/2079 [==============================] - 12s 6ms/step - loss: 0.0800 - accuracy: 0.9066 - val_loss: 0.0897 - val_accuracy: 0.8923\n",
      "Epoch 30/30\n",
      "2079/2079 [==============================] - 12s 6ms/step - loss: 0.0786 - accuracy: 0.9079 - val_loss: 0.0885 - val_accuracy: 0.8931\n"
     ]
    }
   ],
   "source": [
    "epochs = 30\n",
    "batch_size = 128\n",
    "\n",
    "history = model_prior.fit(X_train, Y_train,\n",
    "          batch_size=batch_size,\n",
    "          epochs=epochs,\n",
    "          verbose=1,\n",
    "          validation_data=(X_test, Y_test))"
   ]
  },
  {
   "cell_type": "code",
   "execution_count": null,
   "metadata": {
    "colab": {
     "base_uri": "https://localhost:8080/"
    },
    "executionInfo": {
     "elapsed": 382868,
     "status": "ok",
     "timestamp": 1605371220857,
     "user": {
      "displayName": "Paul Germon",
      "photoUrl": "",
      "userId": "15796364191288627368"
     },
     "user_tz": -60
    },
    "id": "FBm7F4wpcJln",
    "outputId": "cd8d857d-4abf-4b27-efd7-63a425788eaf"
   },
   "outputs": [
    {
     "name": "stdout",
     "output_type": "stream",
     "text": [
      "Test loss: 0.08852323889732361\n",
      "Test accuracy: 0.8931294083595276\n"
     ]
    }
   ],
   "source": [
    "score = model_prior.evaluate(X_test, Y_test, verbose=0)\n",
    "print('Test loss:', score[0])\n",
    "print('Test accuracy:', score[1])"
   ]
  },
  {
   "cell_type": "code",
   "execution_count": null,
   "metadata": {
    "colab": {
     "base_uri": "https://localhost:8080/",
     "height": 621
    },
    "executionInfo": {
     "elapsed": 1552,
     "status": "ok",
     "timestamp": 1605371268079,
     "user": {
      "displayName": "Paul Germon",
      "photoUrl": "",
      "userId": "15796364191288627368"
     },
     "user_tz": -60
    },
    "id": "ykdUdEl8Ucvj",
    "outputId": "934de06c-5564-4ef6-8412-1cd89bccb495"
   },
   "outputs": [
    {
     "data": {
      "image/png": "[encoded data removed]",
      "text/plain": [
       "<Figure size 720x720 with 2 Axes>"
      ]
     },
     "metadata": {
      "needs_background": "light",
      "tags": []
     },
     "output_type": "display_data"
    }
   ],
   "source": [
    "plot_loss_acc(history)"
   ]
  },
  {
   "cell_type": "code",
   "execution_count": 30,
   "metadata": {
    "colab": {
     "base_uri": "https://localhost:8080/"
    },
    "executionInfo": {
     "elapsed": 2223,
     "status": "ok",
     "timestamp": 1605373750982,
     "user": {
      "displayName": "Paul Germon",
      "photoUrl": "",
      "userId": "15796364191288627368"
     },
     "user_tz": -60
    },
    "id": "hyzyprFE3M1Q",
    "outputId": "b0d15c0d-12ca-42cb-aa62-ba6d3d986eb6"
   },
   "outputs": [
    {
     "name": "stdout",
     "output_type": "stream",
     "text": [
      "INFO:tensorflow:Assets written to: model_prior/assets\n",
      "Saved model to disk\n"
     ]
    }
   ],
   "source": [
    "path = \"C:/Users/Lenovo/Documents/Paul/Travail/ENSEIRB-MATMECA/3A/Alpha-Go/alpha-go-like/priors/\"\n",
    "model_prior.save('model_prior')\n",
    "\n",
    "model_prior_json = model_prior.to_json()\n",
    "with open(\"model_prior.json\", \"w\") as json_file:\n",
    "    json_file.write(model_prior_json)\n",
    "# serialize weights to HDF5\n",
    "model_prior.save_weights(\"model_prior.h5\")\n",
    "print(\"Saved model to disk\")"
   ]
  },
  {
   "cell_type": "code",
   "execution_count": null,
   "metadata": {
    "id": "9RKM6iF9V0GK"
   },
   "outputs": [],
   "source": [
    "def position_predict(black_stones, white_stones):\n",
    "\n",
    "    X = np.zeros([1, board_size, board_size, 2], dtype = int)\n",
    "\n",
    "    # Construction du board\n",
    "    for white in white_stones:\n",
    "        (col, lin) = name_to_coord(white)\n",
    "        X[0][col][lin][1] = 1    \n",
    "    for black in black_stones:\n",
    "        (col, lin) = name_to_coord(black)\n",
    "        X[0][col][lin][0] = 1\n",
    "\n",
    "    prediction = model_prior.predict(X)\n",
    "    \n",
    "    return prediction"
   ]
  },
  {
   "cell_type": "code",
   "execution_count": null,
   "metadata": {
    "colab": {
     "base_uri": "https://localhost:8080/"
    },
    "executionInfo": {
     "elapsed": 914,
     "status": "ok",
     "timestamp": 1605371581574,
     "user": {
      "displayName": "Paul Germon",
      "photoUrl": "",
      "userId": "15796364191288627368"
     },
     "user_tz": -60
    },
    "id": "q6uVuGsy3M1b",
    "outputId": "431ad51f-106e-4230-da85-618e037ab27e"
   },
   "outputs": [
    {
     "name": "stdout",
     "output_type": "stream",
     "text": [
      "Prediction this sample:\n",
      "For sample 15564 you predicted [[0.88326585 0.11933982]] and the actual target was [0.96, 0.04]\n"
     ]
    }
   ],
   "source": [
    "# Par exemple, nous pourrons appeler votre prédiction ainsi\n",
    "print(\"Prediction this sample:\")\n",
    "P = np.random.randint(0, len(data))\n",
    "prediction = position_predict(data[P][\"black_stones\"], data[P][\"white_stones\"])\n",
    "reality = [data[P][\"black_wins\"]/data[P][\"rollouts\"], data[P][\"white_wins\"]/data[P][\"rollouts\"]]\n",
    "print(f\"For sample {P} you predicted {prediction} and the actual target was {reality}\")"
   ]
  },
  {
   "cell_type": "markdown",
   "metadata": {
    "id": "2Rl7KBDk_yRA"
   },
   "source": [
    "<font color=\"lightblue\">\n",
    "\n",
    "Il nous suffit maintenant d'appeler la fonction ```position_predict()``` pour calculer les prédictions des probabilités de victoire pour le joueur noir et le joueur blanc.\n",
    "\n",
    "Le code suivant permettant de prédire les probabilités de victoire sur le jeu de données de base mais il est commenté car il est très long à exécuter et les résultats sont présentés par la suite.\n",
    "\n",
    "</font>"
   ]
  },
  {
   "cell_type": "markdown",
   "metadata": {
    "id": "1o-YYdyddEJk"
   },
   "source": [
    "# Prédictions des données"
   ]
  },
  {
   "cell_type": "code",
   "execution_count": null,
   "metadata": {
    "colab": {
     "base_uri": "https://localhost:8080/",
     "height": 70
    },
    "executionInfo": {
     "elapsed": 2116,
     "status": "ok",
     "timestamp": 1605371594415,
     "user": {
      "displayName": "Paul Germon",
      "photoUrl": "",
      "userId": "15796364191288627368"
     },
     "user_tz": -60
    },
    "id": "KQlCjUrvpi5u",
    "outputId": "de9ebcde-7507-4acb-d842-4ce5f9a5efca"
   },
   "outputs": [
    {
     "name": "stdout",
     "output_type": "stream",
     "text": [
      "File to_predict.json.gz not found, I am downloading it... Done\n"
     ]
    },
    {
     "data": {
      "application/vnd.google.colaboratory.intrinsic+json": {
       "type": "string"
      },
      "text/plain": [
       "'\\ndownload(data_url_results,data_results)\\n# Récuperer les résults\\nwith open(\"results.txt\") as f:\\n    txt = f.readlines()\\nresults = [float(x.strip()) for x in txt]\\n'"
      ]
     },
     "execution_count": 22,
     "metadata": {
      "tags": []
     },
     "output_type": "execute_result"
    }
   ],
   "source": [
    "# Importer les données à tester\n",
    "# ------------ CHANGER ICI LES URLS -----------------\n",
    "data_url = \"https://www.labri.fr/perso/lsimon/ia-inge2/positions-to-evaluate-9x9.json.gz\"\n",
    "data_to_predict = \"to_predict.json.gz\"\n",
    "\n",
    "data_url_results = \"https://www.labri.fr/perso/lsimon/ia-inge2/positions-to-evaluate-9x9-attempt.results.txt\"\n",
    "data_results = \"results.txt\"\n",
    "\n",
    "to_predict = get_raw_data_go(data_url,data_to_predict)\n",
    "\n",
    "'''\n",
    "download(data_url_results,data_results)\n",
    "# Récuperer les résults\n",
    "with open(\"results.txt\") as f:\n",
    "    txt = f.readlines()\n",
    "results = [float(x.strip()) for x in txt]\n",
    "'''"
   ]
  },
  {
   "cell_type": "markdown",
   "metadata": {
    "id": "2z84InOFdq_t"
   },
   "source": [
    "<font color=\"lightblue\">\n",
    "\n",
    "Nous pouvons maintenant écrire nos prédictions des nouvelles données dans ```my_predictions.txt```.\n",
    "\n",
    "</font>"
   ]
  },
  {
   "cell_type": "code",
   "execution_count": null,
   "metadata": {
    "id": "XH31skRUeCXi"
   },
   "outputs": [],
   "source": [
    "# Prediction des données\n",
    "predictions = np.empty(len(to_predict))\n",
    "\n",
    "# Remplissage du tableau de prédictions\n",
    "for t in range(len(to_predict)):\n",
    "  # Comme nous souhaitons seulement les prédictions sur le % de victoire pour le joueur noir, on prend la première composante\n",
    "  predictions[t] = position_predict(to_predict[t]['black_stones'], to_predict[t]['white_stones'])[0][0]"
   ]
  },
  {
   "cell_type": "code",
   "execution_count": 31,
   "metadata": {
    "colab": {
     "base_uri": "https://localhost:8080/"
    },
    "executionInfo": {
     "elapsed": 522,
     "status": "ok",
     "timestamp": 1605373759727,
     "user": {
      "displayName": "Paul Germon",
      "photoUrl": "",
      "userId": "15796364191288627368"
     },
     "user_tz": -60
    },
    "id": "44CZWItulFR4",
    "outputId": "5e14ab1c-d32a-4e15-bbe6-4f2059621bed"
   },
   "outputs": [
    {
     "name": "stdout",
     "output_type": "stream",
     "text": [
      "Predictions saved\n"
     ]
    }
   ],
   "source": [
    "with open(\"my_predictions.txt\", \"w\") as f:\n",
    "     for p in predictions:\n",
    "        f.write(str(p)+\"\\n\")\n",
    "print(\"Predictions saved\")"
   ]
  }
 ],
 "metadata": {
  "accelerator": "GPU",
  "colab": {
   "collapsed_sections": [],
   "name": "tp_ml_GERMON_MIRANDE.ipynb",
   "provenance": [],
   "toc_visible": true
  },
  "kernelspec": {
   "display_name": "Python 3",
   "language": "python",
   "name": "python3"
  },
  "language_info": {
   "codemirror_mode": {
    "name": "ipython",
    "version": 3
   },
   "file_extension": ".py",
   "mimetype": "text/x-python",
   "name": "python",
   "nbconvert_exporter": "python",
   "pygments_lexer": "ipython3",
   "version": "3.7.9"
  }
 },
 "nbformat": 4,
 "nbformat_minor": 4
}
